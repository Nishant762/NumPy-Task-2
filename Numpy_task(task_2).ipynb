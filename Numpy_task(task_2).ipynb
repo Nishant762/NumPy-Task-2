{
  "cells": [
    {
      "cell_type": "markdown",
      "metadata": {
        "id": "6-rRVvWedjPA"
      },
      "source": [
        "# Numpy\n",
        "\n"
      ]
    },
    {
      "cell_type": "markdown",
      "metadata": {
        "id": "dU1RM6P8djPF"
      },
      "source": [
        "#### 1. Import the numpy package under the name `np` (★☆☆) \n",
        "(**hint**: import … as …)"
      ]
    },
    {
      "cell_type": "code",
      "execution_count": 2,
      "metadata": {
        "collapsed": true,
        "id": "8jiP69gQdjPG"
      },
      "outputs": [],
      "source": [
        "import numpy as np"
      ]
    },
    {
      "cell_type": "markdown",
      "metadata": {
        "id": "wvqxuUIwdjPI"
      },
      "source": [
        "#### 2. Print the numpy version and the configuration (★☆☆) \n",
        "(**hint**: np.\\_\\_version\\_\\_, np.show\\_config)"
      ]
    },
    {
      "cell_type": "code",
      "execution_count": null,
      "metadata": {
        "id": "zwSOICPZdjPJ",
        "colab": {
          "base_uri": "https://localhost:8080/",
          "height": 35
        },
        "outputId": "0701d520-58d2-4e1c-af57-4d43ac9fe2cd"
      },
      "outputs": [
        {
          "output_type": "execute_result",
          "data": {
            "text/plain": [
              "'1.21.6'"
            ],
            "application/vnd.google.colaboratory.intrinsic+json": {
              "type": "string"
            }
          },
          "metadata": {},
          "execution_count": 4
        }
      ],
      "source": [
        "np.__version__"
      ]
    },
    {
      "cell_type": "code",
      "source": [
        "np.show_config()"
      ],
      "metadata": {
        "colab": {
          "base_uri": "https://localhost:8080/"
        },
        "id": "3g4bI-7XgFtY",
        "outputId": "1ac77431-709a-4164-8818-f4135bdb7fa7"
      },
      "execution_count": null,
      "outputs": [
        {
          "output_type": "stream",
          "name": "stdout",
          "text": [
            "blas_mkl_info:\n",
            "  NOT AVAILABLE\n",
            "blis_info:\n",
            "  NOT AVAILABLE\n",
            "openblas_info:\n",
            "    libraries = ['openblas', 'openblas']\n",
            "    library_dirs = ['/usr/local/lib']\n",
            "    language = c\n",
            "    define_macros = [('HAVE_CBLAS', None)]\n",
            "    runtime_library_dirs = ['/usr/local/lib']\n",
            "blas_opt_info:\n",
            "    libraries = ['openblas', 'openblas']\n",
            "    library_dirs = ['/usr/local/lib']\n",
            "    language = c\n",
            "    define_macros = [('HAVE_CBLAS', None)]\n",
            "    runtime_library_dirs = ['/usr/local/lib']\n",
            "lapack_mkl_info:\n",
            "  NOT AVAILABLE\n",
            "openblas_lapack_info:\n",
            "    libraries = ['openblas', 'openblas']\n",
            "    library_dirs = ['/usr/local/lib']\n",
            "    language = c\n",
            "    define_macros = [('HAVE_CBLAS', None)]\n",
            "    runtime_library_dirs = ['/usr/local/lib']\n",
            "lapack_opt_info:\n",
            "    libraries = ['openblas', 'openblas']\n",
            "    library_dirs = ['/usr/local/lib']\n",
            "    language = c\n",
            "    define_macros = [('HAVE_CBLAS', None)]\n",
            "    runtime_library_dirs = ['/usr/local/lib']\n",
            "Supported SIMD extensions in this NumPy install:\n",
            "    baseline = SSE,SSE2,SSE3\n",
            "    found = SSSE3,SSE41,POPCNT,SSE42,AVX,F16C,FMA3,AVX2\n",
            "    not found = AVX512F,AVX512CD,AVX512_KNL,AVX512_KNM,AVX512_SKX,AVX512_CLX,AVX512_CNL,AVX512_ICL\n"
          ]
        }
      ]
    },
    {
      "cell_type": "markdown",
      "metadata": {
        "id": "_0OjHvKddjPJ"
      },
      "source": [
        "#### 3. Create a null vector of size 10 (★☆☆) \n",
        "(**hint**: np.zeros)"
      ]
    },
    {
      "cell_type": "code",
      "execution_count": null,
      "metadata": {
        "id": "lOt7lTQPdjPK",
        "colab": {
          "base_uri": "https://localhost:8080/"
        },
        "outputId": "30ba81fd-a63b-4128-cf2c-5b49528a83ba"
      },
      "outputs": [
        {
          "output_type": "stream",
          "name": "stdout",
          "text": [
            "[0. 0. 0. 0. 0. 0. 0. 0. 0. 0.]\n"
          ]
        }
      ],
      "source": [
        "x = np.zeros(10)\n",
        "print(x)"
      ]
    },
    {
      "cell_type": "markdown",
      "metadata": {
        "id": "eySyRE5NdjPL"
      },
      "source": [
        "#### 4.  How to find the memory size of any array (★☆☆) \n",
        "(**hint**: size, itemsize)"
      ]
    },
    {
      "cell_type": "code",
      "execution_count": null,
      "metadata": {
        "id": "iW6_llGWdjPM",
        "colab": {
          "base_uri": "https://localhost:8080/"
        },
        "outputId": "da444060-8d05-4b9a-acce-370ceffbe5e1"
      },
      "outputs": [
        {
          "output_type": "stream",
          "name": "stdout",
          "text": [
            "10\n",
            "8\n",
            "80\n"
          ]
        }
      ],
      "source": [
        "print(x.size)\n",
        "print(x.itemsize)\n",
        "print(x.size*x.itemsize)"
      ]
    },
    {
      "cell_type": "markdown",
      "metadata": {
        "id": "hThlDz7NdjPN"
      },
      "source": [
        "#### 5.  How to get the documentation of the numpy add function from the command line? (★☆☆) \n",
        "(**hint**: np.info)"
      ]
    },
    {
      "cell_type": "code",
      "execution_count": null,
      "metadata": {
        "collapsed": true,
        "id": "su3pbQUTdjPO",
        "colab": {
          "base_uri": "https://localhost:8080/"
        },
        "outputId": "12c2c43d-9035-4471-d9bf-d19065d6d467"
      },
      "outputs": [
        {
          "output_type": "stream",
          "name": "stdout",
          "text": [
            "add(x1, x2, /, out=None, *, where=True, casting='same_kind', order='K', dtype=None, subok=True[, signature, extobj])\n",
            "\n",
            "Add arguments element-wise.\n",
            "\n",
            "Parameters\n",
            "----------\n",
            "x1, x2 : array_like\n",
            "    The arrays to be added.\n",
            "    If ``x1.shape != x2.shape``, they must be broadcastable to a common\n",
            "    shape (which becomes the shape of the output).\n",
            "out : ndarray, None, or tuple of ndarray and None, optional\n",
            "    A location into which the result is stored. If provided, it must have\n",
            "    a shape that the inputs broadcast to. If not provided or None,\n",
            "    a freshly-allocated array is returned. A tuple (possible only as a\n",
            "    keyword argument) must have length equal to the number of outputs.\n",
            "where : array_like, optional\n",
            "    This condition is broadcast over the input. At locations where the\n",
            "    condition is True, the `out` array will be set to the ufunc result.\n",
            "    Elsewhere, the `out` array will retain its original value.\n",
            "    Note that if an uninitialized `out` array is created via the default\n",
            "    ``out=None``, locations within it where the condition is False will\n",
            "    remain uninitialized.\n",
            "**kwargs\n",
            "    For other keyword-only arguments, see the\n",
            "    :ref:`ufunc docs <ufuncs.kwargs>`.\n",
            "\n",
            "Returns\n",
            "-------\n",
            "add : ndarray or scalar\n",
            "    The sum of `x1` and `x2`, element-wise.\n",
            "    This is a scalar if both `x1` and `x2` are scalars.\n",
            "\n",
            "Notes\n",
            "-----\n",
            "Equivalent to `x1` + `x2` in terms of array broadcasting.\n",
            "\n",
            "Examples\n",
            "--------\n",
            ">>> np.add(1.0, 4.0)\n",
            "5.0\n",
            ">>> x1 = np.arange(9.0).reshape((3, 3))\n",
            ">>> x2 = np.arange(3.0)\n",
            ">>> np.add(x1, x2)\n",
            "array([[  0.,   2.,   4.],\n",
            "       [  3.,   5.,   7.],\n",
            "       [  6.,   8.,  10.]])\n",
            "\n",
            "The ``+`` operator can be used as a shorthand for ``np.add`` on ndarrays.\n",
            "\n",
            ">>> x1 = np.arange(9.0).reshape((3, 3))\n",
            ">>> x2 = np.arange(3.0)\n",
            ">>> x1 + x2\n",
            "array([[ 0.,  2.,  4.],\n",
            "       [ 3.,  5.,  7.],\n",
            "       [ 6.,  8., 10.]])\n",
            "None\n"
          ]
        }
      ],
      "source": [
        "print(np.info(np.add))"
      ]
    },
    {
      "cell_type": "markdown",
      "metadata": {
        "id": "urZqg23NdjPO"
      },
      "source": [
        "#### 6.  Create a null vector of size 10 but the fifth value which is 1 (★☆☆) \n",
        "(**hint**: array\\[4\\])"
      ]
    },
    {
      "cell_type": "code",
      "execution_count": null,
      "metadata": {
        "id": "t25jqi4FdjPP",
        "colab": {
          "base_uri": "https://localhost:8080/"
        },
        "outputId": "963b5024-70d1-4d2e-8461-cec5597cf510"
      },
      "outputs": [
        {
          "output_type": "stream",
          "name": "stdout",
          "text": [
            "[0. 0. 0. 0. 1. 0. 0. 0. 0. 0.]\n"
          ]
        }
      ],
      "source": [
        "x = np.zeros(10)\n",
        "x[4]=1\n",
        "print(x)"
      ]
    },
    {
      "cell_type": "markdown",
      "metadata": {
        "id": "4siDgDS0djPP"
      },
      "source": [
        "#### 7.  Create a vector with values ranging from 10 to 49 (★☆☆) \n",
        "(**hint**: np.arange)"
      ]
    },
    {
      "cell_type": "code",
      "execution_count": null,
      "metadata": {
        "id": "FCA-tjaLdjPQ",
        "colab": {
          "base_uri": "https://localhost:8080/"
        },
        "outputId": "eb5d39ee-7b02-4963-f20c-a4febab9a6cd"
      },
      "outputs": [
        {
          "output_type": "stream",
          "name": "stdout",
          "text": [
            "[10 11 12 13 14 15 16 17 18 19 20 21 22 23 24 25 26 27 28 29 30 31 32 33\n",
            " 34 35 36 37 38 39 40 41 42 43 44 45 46 47 48]\n"
          ]
        }
      ],
      "source": [
        "v = np.arange(10,49)\n",
        "print(v)"
      ]
    },
    {
      "cell_type": "markdown",
      "metadata": {
        "id": "AChBO43pdjPQ"
      },
      "source": [
        "#### 8.  Reverse a vector (first element becomes last) (★☆☆) \n",
        "(**hint**: array\\[::-1\\])"
      ]
    },
    {
      "cell_type": "code",
      "execution_count": null,
      "metadata": {
        "id": "m72XzJpedjPR",
        "colab": {
          "base_uri": "https://localhost:8080/"
        },
        "outputId": "ebe303e6-b589-4248-92ed-d4fd485b8bc5"
      },
      "outputs": [
        {
          "output_type": "stream",
          "name": "stdout",
          "text": [
            "[48 47 46 45 44 43 42 41 40 39 38 37 36 35 34 33 32 31 30 29 28 27 26 25\n",
            " 24 23 22 21 20 19 18 17 16 15 14 13 12 11 10]\n"
          ]
        }
      ],
      "source": [
        "v = np.arange(10,49)\n",
        "print(v[::-1])"
      ]
    },
    {
      "cell_type": "markdown",
      "metadata": {
        "id": "oegR8VV8djPR"
      },
      "source": [
        "#### 9.  Create a 3x3 matrix with values ranging from 0 to 8 (★☆☆) \n",
        "(**hint**: reshape)"
      ]
    },
    {
      "cell_type": "code",
      "execution_count": null,
      "metadata": {
        "id": "xsHIHn_fdjPR",
        "colab": {
          "base_uri": "https://localhost:8080/"
        },
        "outputId": "2911e730-10ef-4fa3-d26e-67cba8be32f1"
      },
      "outputs": [
        {
          "output_type": "stream",
          "name": "stdout",
          "text": [
            "[[0 1 2]\n",
            " [3 4 5]\n",
            " [6 7 8]]\n"
          ]
        }
      ],
      "source": [
        "y =  np.arange(0,9).reshape(3,3)\n",
        "print(y)"
      ]
    },
    {
      "cell_type": "markdown",
      "metadata": {
        "id": "AdV-LZ93djPS"
      },
      "source": [
        "#### 10. Find indices of non-zero elements from \\[1,2,0,0,4,0\\] (★☆☆) \n",
        "(**hint**: np.nonzero)"
      ]
    },
    {
      "cell_type": "code",
      "execution_count": null,
      "metadata": {
        "id": "rb3ttek3djPS",
        "colab": {
          "base_uri": "https://localhost:8080/"
        },
        "outputId": "fff267ad-2957-4aaf-8800-df143165b29c"
      },
      "outputs": [
        {
          "output_type": "stream",
          "name": "stdout",
          "text": [
            "(array([0, 1, 4]),)\n"
          ]
        }
      ],
      "source": [
        "a = np.array([1,2,0,0,4,0])\n",
        "print(np.nonzero(a))"
      ]
    },
    {
      "cell_type": "markdown",
      "metadata": {
        "id": "FLJqFUUFdjPT"
      },
      "source": [
        "#### 11. Create a 3x3 identity matrix (★☆☆) \n",
        "(**hint**: np.eye)"
      ]
    },
    {
      "cell_type": "code",
      "execution_count": null,
      "metadata": {
        "id": "Q1J9iuRJdjPT",
        "colab": {
          "base_uri": "https://localhost:8080/"
        },
        "outputId": "ce6d5027-af5d-4e22-84ec-3d0905fe0b37"
      },
      "outputs": [
        {
          "output_type": "stream",
          "name": "stdout",
          "text": [
            "[[1. 0. 0.]\n",
            " [0. 1. 0.]\n",
            " [0. 0. 1.]]\n"
          ]
        }
      ],
      "source": [
        "z=np.eye(3)\n",
        "print(z)"
      ]
    },
    {
      "cell_type": "markdown",
      "metadata": {
        "id": "HhzALq6zdjPT"
      },
      "source": [
        "#### 12. Create a 3x3x3 array with random values (★☆☆) \n",
        "(**hint**: np.random.random)"
      ]
    },
    {
      "cell_type": "code",
      "execution_count": null,
      "metadata": {
        "collapsed": true,
        "id": "QXBGU-d0djPU",
        "colab": {
          "base_uri": "https://localhost:8080/"
        },
        "outputId": "bf834449-2688-4b55-bc02-f09a38d3d870"
      },
      "outputs": [
        {
          "output_type": "stream",
          "name": "stdout",
          "text": [
            "[[[0.65823191 0.01585679 0.67172999]\n",
            "  [0.17655824 0.53665063 0.50582659]\n",
            "  [0.10046284 0.53956321 0.64040707]]\n",
            "\n",
            " [[0.72208225 0.18124496 0.5390912 ]\n",
            "  [0.29407754 0.90567377 0.68943409]\n",
            "  [0.62494879 0.7413288  0.96860373]]\n",
            "\n",
            " [[0.63863476 0.23189736 0.15789169]\n",
            "  [0.37416363 0.02740673 0.30027305]\n",
            "  [0.19011979 0.9933432  0.28921204]]]\n"
          ]
        }
      ],
      "source": [
        "b = np.random.random((3,3,3))\n",
        "print(b)"
      ]
    },
    {
      "cell_type": "markdown",
      "metadata": {
        "id": "lPf9uu6_djPU"
      },
      "source": [
        "#### 13. Create a 10x10 array with random values and find the minimum and maximum values (★☆☆) \n",
        "(**hint**: min, max)"
      ]
    },
    {
      "cell_type": "code",
      "execution_count": null,
      "metadata": {
        "id": "SjTJ9b6edjPU",
        "colab": {
          "base_uri": "https://localhost:8080/"
        },
        "outputId": "acc6a76b-ad2c-46ec-bff6-d5e5c1370258"
      },
      "outputs": [
        {
          "output_type": "stream",
          "name": "stdout",
          "text": [
            "[[0.93719413 0.53406123 0.94935761 0.96152272 0.98183903 0.40207889\n",
            "  0.22461686 0.0102215  0.91786473 0.12939051]\n",
            " [0.43729014 0.24203653 0.95247705 0.75169454 0.68602707 0.19986296\n",
            "  0.7485378  0.36709945 0.40315449 0.99300234]\n",
            " [0.9352798  0.83826786 0.76060974 0.17199132 0.87767201 0.85622554\n",
            "  0.75164455 0.18261116 0.19526088 0.85345101]\n",
            " [0.86665321 0.44709055 0.6417316  0.6229379  0.56243262 0.62514436\n",
            "  0.11679566 0.25022648 0.1979982  0.11773289]\n",
            " [0.2369678  0.08512664 0.33960536 0.09160618 0.58649403 0.18252201\n",
            "  0.08358713 0.49696006 0.34253093 0.21838425]\n",
            " [0.91842227 0.83131774 0.91963409 0.65246893 0.69169918 0.78522242\n",
            "  0.28592074 0.89857154 0.78969999 0.89373466]\n",
            " [0.18186535 0.28391177 0.91311244 0.18087518 0.40094673 0.98122318\n",
            "  0.12677648 0.59649283 0.024909   0.78839785]\n",
            " [0.67389481 0.91645174 0.74123779 0.81570633 0.22351057 0.50297381\n",
            "  0.39620762 0.26016433 0.76240038 0.93263477]\n",
            " [0.67884029 0.09465145 0.07516355 0.56702799 0.83583722 0.04792018\n",
            "  0.12110554 0.63828896 0.92136625 0.67463851]\n",
            " [0.15777778 0.50595039 0.86772557 0.45284572 0.18806946 0.32994048\n",
            "  0.20406164 0.57361709 0.24882817 0.96958995]]\n",
            "0.010221495057207042 0.9930023410301598\n"
          ]
        }
      ],
      "source": [
        "c = np.random.random((10,10))\n",
        "print(c) \n",
        "cmin, cmax = c.min(), c.max()\n",
        "print(cmin,cmax)"
      ]
    },
    {
      "cell_type": "markdown",
      "metadata": {
        "id": "pCah3-eodjPU"
      },
      "source": [
        "#### 14. Create a random vector of size 30 and find the mean value (★☆☆) \n",
        "(**hint**: mean)"
      ]
    },
    {
      "cell_type": "code",
      "execution_count": null,
      "metadata": {
        "id": "eDLEcoVodjPV",
        "colab": {
          "base_uri": "https://localhost:8080/"
        },
        "outputId": "75b93ee3-1ab4-4b3e-a62d-02641a8862d8"
      },
      "outputs": [
        {
          "output_type": "stream",
          "name": "stdout",
          "text": [
            "0.4555280286576963\n"
          ]
        }
      ],
      "source": [
        "Z = np.random.random(30)\n",
        "A=Z.mean()\n",
        "print(A)"
      ]
    },
    {
      "cell_type": "markdown",
      "metadata": {
        "id": "H8khMf7tdjPV"
      },
      "source": [
        "#### 15. Create a 2d array with 1 on the border and 0 inside (★☆☆) \n",
        "(**hint**: array\\[1:-1, 1:-1\\])"
      ]
    },
    {
      "cell_type": "code",
      "execution_count": null,
      "metadata": {
        "id": "EqukTIWudjPV",
        "colab": {
          "base_uri": "https://localhost:8080/"
        },
        "outputId": "78133d7f-5fd5-4bca-97bf-820c3dd5328f"
      },
      "outputs": [
        {
          "output_type": "stream",
          "name": "stdout",
          "text": [
            "[[1. 1. 1. 1. 1.]\n",
            " [1. 0. 0. 0. 1.]\n",
            " [1. 0. 0. 0. 1.]\n",
            " [1. 0. 0. 0. 1.]\n",
            " [1. 1. 1. 1. 1.]]\n"
          ]
        }
      ],
      "source": [
        "x = np.ones((5,5))\n",
        "x[1:-1,1:-1] = 0\n",
        "print(x)"
      ]
    },
    {
      "cell_type": "markdown",
      "metadata": {
        "id": "JU7hDuMSdjPV"
      },
      "source": [
        "#### 16. How to add a border (filled with 0's) around an existing array? (★☆☆) \n",
        "(**hint**: np.pad)"
      ]
    },
    {
      "cell_type": "code",
      "execution_count": null,
      "metadata": {
        "id": "CL1v95z_djPW",
        "colab": {
          "base_uri": "https://localhost:8080/"
        },
        "outputId": "6cae1665-b323-40ba-c727-1546ca47f8d5"
      },
      "outputs": [
        {
          "output_type": "stream",
          "name": "stdout",
          "text": [
            "[[0. 0. 0. 0. 0.]\n",
            " [0. 1. 1. 1. 0.]\n",
            " [0. 1. 1. 1. 0.]\n",
            " [0. 1. 1. 1. 0.]\n",
            " [0. 0. 0. 0. 0.]]\n"
          ]
        }
      ],
      "source": [
        "x = np.ones((3,3))\n",
        "x = np.pad(x, pad_width=1, mode='constant', constant_values=0)\n",
        "print(x)"
      ]
    },
    {
      "cell_type": "markdown",
      "metadata": {
        "id": "TlYh0yhmdjPW"
      },
      "source": [
        "#### 17. What is the result of the following expression? (★☆☆) \n",
        "(**hint**: NaN = not a number, inf = infinity)"
      ]
    },
    {
      "cell_type": "markdown",
      "metadata": {
        "id": "6h7E5yFKdjPW"
      },
      "source": [
        "```python\n",
        "0 * np.nan\n",
        "np.nan == np.nan\n",
        "np.inf > np.nan\n",
        "np.nan - np.nan\n",
        "0.3 == 3 * 0.1\n",
        "```"
      ]
    },
    {
      "cell_type": "code",
      "execution_count": null,
      "metadata": {
        "id": "O3vW_8rLdjPX",
        "colab": {
          "base_uri": "https://localhost:8080/"
        },
        "outputId": "39d3c974-cf83-46bd-9afd-5d0b3ff56069"
      },
      "outputs": [
        {
          "output_type": "stream",
          "name": "stdout",
          "text": [
            "nan\n",
            "False\n",
            "False\n",
            "nan\n",
            "True\n",
            "False\n"
          ]
        }
      ],
      "source": [
        "print(0 * np.nan)\n",
        "print(np.nan == np.nan)\n",
        "print(np.inf > np.nan)\n",
        "print(np.nan - np.nan)\n",
        "print(np.nan in set([np.nan]))\n",
        "print(0.3 == 3 * 0.1)"
      ]
    },
    {
      "cell_type": "markdown",
      "metadata": {
        "id": "DiSgXUt2djPX"
      },
      "source": [
        "#### 18. Create a 5x5 matrix with values 1,2,3,4 just below the diagonal (★☆☆) \n",
        "(**hint**: np.diag)"
      ]
    },
    {
      "cell_type": "code",
      "execution_count": null,
      "metadata": {
        "id": "Vyf2h6NTdjPX",
        "colab": {
          "base_uri": "https://localhost:8080/"
        },
        "outputId": "e01aa7f1-b096-486d-ecb5-bcc5d5ef5758"
      },
      "outputs": [
        {
          "output_type": "stream",
          "name": "stdout",
          "text": [
            "[[1 0 0 0 0]\n",
            " [0 2 0 0 0]\n",
            " [0 0 3 0 0]\n",
            " [0 0 0 4 0]\n",
            " [0 0 0 0 5]]\n"
          ]
        }
      ],
      "source": [
        "x = np.diag([1, 2, 3, 4, 5])\n",
        "print(x)"
      ]
    },
    {
      "cell_type": "markdown",
      "metadata": {
        "id": "oovvuadKdjPX"
      },
      "source": [
        "#### 19. Create a 8x8 matrix and fill it with a checkerboard pattern (★☆☆) \n",
        "(**hint**: array\\[::2\\])"
      ]
    },
    {
      "cell_type": "code",
      "execution_count": null,
      "metadata": {
        "id": "yBrGHW4kdjPY",
        "colab": {
          "base_uri": "https://localhost:8080/"
        },
        "outputId": "fd902472-fd71-4984-d644-01649ffa4b65"
      },
      "outputs": [
        {
          "output_type": "stream",
          "name": "stdout",
          "text": [
            "[[0 1 0 1 0 1 0 1]\n",
            " [1 0 1 0 1 0 1 0]\n",
            " [0 1 0 1 0 1 0 1]\n",
            " [1 0 1 0 1 0 1 0]\n",
            " [0 1 0 1 0 1 0 1]\n",
            " [1 0 1 0 1 0 1 0]\n",
            " [0 1 0 1 0 1 0 1]\n",
            " [1 0 1 0 1 0 1 0]]\n"
          ]
        }
      ],
      "source": [
        "x = np.ones((3,3))\n",
        "x = np.zeros((8,8),dtype=int)\n",
        "x[1::2,::2] = 1\n",
        "x[::2,1::2] = 1\n",
        "print(x)"
      ]
    },
    {
      "cell_type": "markdown",
      "metadata": {
        "id": "8-UQvePydjPY"
      },
      "source": [
        "#### 20. Consider a (6,7,8) shape array, what is the index (x,y,z) of the 100th element? \n",
        "(**hint**: np.unravel_index)"
      ]
    },
    {
      "cell_type": "code",
      "execution_count": null,
      "metadata": {
        "id": "YZFqDMjMdjPY",
        "colab": {
          "base_uri": "https://localhost:8080/"
        },
        "outputId": "0c06e795-aa61-4ee1-9635-4d754d5484ee"
      },
      "outputs": [
        {
          "output_type": "stream",
          "name": "stdout",
          "text": [
            "(1, 5, 3)\n"
          ]
        }
      ],
      "source": [
        "print(np.unravel_index(99,(6,7,8)))"
      ]
    },
    {
      "cell_type": "markdown",
      "metadata": {
        "id": "wR6t2OZ9djPZ"
      },
      "source": [
        "#### 21. Create a checkerboard 8x8 matrix using the tile function (★☆☆) \n",
        "(**hint**: np.tile)"
      ]
    },
    {
      "cell_type": "code",
      "execution_count": null,
      "metadata": {
        "id": "jTAGwtMHdjPZ",
        "colab": {
          "base_uri": "https://localhost:8080/"
        },
        "outputId": "2fd91394-ae82-4e4b-8fbd-a8ae756d500d"
      },
      "outputs": [
        {
          "output_type": "stream",
          "name": "stdout",
          "text": [
            "[[0 1 0 1 0 1 0 1]\n",
            " [1 0 1 0 1 0 1 0]\n",
            " [0 1 0 1 0 1 0 1]\n",
            " [1 0 1 0 1 0 1 0]\n",
            " [0 1 0 1 0 1 0 1]\n",
            " [1 0 1 0 1 0 1 0]\n",
            " [0 1 0 1 0 1 0 1]\n",
            " [1 0 1 0 1 0 1 0]]\n"
          ]
        }
      ],
      "source": [
        "A= np.array([[0,1], [1,0]])\n",
        "Z = np.tile(A,(4,4))\n",
        "print (Z)"
      ]
    },
    {
      "cell_type": "markdown",
      "metadata": {
        "id": "MlbBe11XdjPZ"
      },
      "source": [
        "#### 22. Normalize a 5x5 random matrix (★☆☆) \n",
        "(**hint**: (x - min) / (max - min))"
      ]
    },
    {
      "cell_type": "code",
      "execution_count": null,
      "metadata": {
        "id": "wc0DRvxPdjPZ",
        "colab": {
          "base_uri": "https://localhost:8080/"
        },
        "outputId": "d4fb5ef3-2815-4fe0-c0a3-89a4c9058927"
      },
      "outputs": [
        {
          "output_type": "stream",
          "name": "stdout",
          "text": [
            "[[0.43801648 0.97760675 0.36153936 0.55261963 0.        ]\n",
            " [1.         0.68696047 0.56170982 0.88137015 0.12588223]\n",
            " [0.50435234 0.86407455 0.52425607 0.42721402 0.93604552]\n",
            " [0.06176566 0.8544222  0.59968087 0.05862257 0.49208827]\n",
            " [0.81075201 0.68467476 0.86755706 0.5256195  0.11814538]]\n"
          ]
        }
      ],
      "source": [
        "Z = np.random.random((5,5))\n",
        "Zmax, Zmin = Z.max(), Z.min()\n",
        "Z= (Z-Zmin)/(Zmax-Zmin)\n",
        "print (Z)"
      ]
    },
    {
      "cell_type": "markdown",
      "metadata": {
        "id": "YP8eF9bEdjPa"
      },
      "source": [
        "#### 23. Create a custom dtype that describes a color as four unsigned bytes (RGBA) (★☆☆) \n",
        "(**hint**: np.dtype)"
      ]
    },
    {
      "cell_type": "code",
      "execution_count": null,
      "metadata": {
        "collapsed": true,
        "id": "JiVxzBn7djPa",
        "colab": {
          "base_uri": "https://localhost:8080/"
        },
        "outputId": "e4a94c7f-f766-4450-b772-0f9e299dfb2b"
      },
      "outputs": [
        {
          "output_type": "stream",
          "name": "stdout",
          "text": [
            "[('r', 'u1'), ('g', 'u1'), ('b', 'u1'), ('a', 'u1')]\n"
          ]
        }
      ],
      "source": [
        "color = np.dtype([(\"r\", np.ubyte),(\"g\", np.ubyte),(\"b\", np.ubyte),(\"a\", np.ubyte)])\n",
        "print(color)"
      ]
    },
    {
      "cell_type": "markdown",
      "metadata": {
        "id": "PF-XE40_djPa"
      },
      "source": [
        "#### 24. Multiply a 5x3 matrix by a 3x2 matrix (real matrix product) (★☆☆) \n",
        "(**hint**: np.dot | @)"
      ]
    },
    {
      "cell_type": "code",
      "execution_count": null,
      "metadata": {
        "id": "6viP8j-_djPa",
        "colab": {
          "base_uri": "https://localhost:8080/"
        },
        "outputId": "3121df7a-695c-47fc-d604-2ad035edd7c0"
      },
      "outputs": [
        {
          "output_type": "stream",
          "name": "stdout",
          "text": [
            "[[3. 3.]\n",
            " [3. 3.]\n",
            " [3. 3.]\n",
            " [3. 3.]\n",
            " [3. 3.]]\n"
          ]
        }
      ],
      "source": [
        "Z= np.dot(np.ones((5,3)), np.ones((3,2)))\n",
        "print (Z)"
      ]
    },
    {
      "cell_type": "markdown",
      "metadata": {
        "id": "cMdz5_f6djPa"
      },
      "source": [
        "#### 25. Given a 1D array, negate all elements which are between 3 and 8, in place. (★☆☆) \n",
        "(**hint**: >, <=)"
      ]
    },
    {
      "cell_type": "code",
      "execution_count": null,
      "metadata": {
        "id": "3Wi_CpcFdjPb",
        "colab": {
          "base_uri": "https://localhost:8080/"
        },
        "outputId": "79c8af21-f5af-48a3-bc12-38146411aba5"
      },
      "outputs": [
        {
          "output_type": "stream",
          "name": "stdout",
          "text": [
            "[ 0  1  2  3 -4 -5 -6 -7  8  9 10]\n"
          ]
        }
      ],
      "source": [
        "Z = np.arange(11)\n",
        "Z[(3 < Z) & (Z < 8)] *= -1\n",
        "print(Z)"
      ]
    },
    {
      "cell_type": "markdown",
      "metadata": {
        "id": "hchGzN5EdjPb"
      },
      "source": [
        "#### 26. What is the output of the following script? (★☆☆) \n",
        "(**hint**: np.sum)"
      ]
    },
    {
      "cell_type": "markdown",
      "metadata": {
        "id": "dzdWm777djPb"
      },
      "source": [
        "```python\n",
        "# Author: Jake VanderPlas\n",
        "\n",
        "print(sum(range(5),-1))\n",
        "from numpy import *\n",
        "print(sum(range(5),-1))\n",
        "```"
      ]
    },
    {
      "cell_type": "code",
      "execution_count": null,
      "metadata": {
        "id": "WWPuwY39djPb",
        "colab": {
          "base_uri": "https://localhost:8080/"
        },
        "outputId": "7f9a09c9-2c2f-4165-e3cc-abcce9c1fc68"
      },
      "outputs": [
        {
          "output_type": "stream",
          "name": "stdout",
          "text": [
            "10\n",
            "10\n"
          ]
        }
      ],
      "source": [
        "print(sum(range(5),-1))\n",
        "from numpy import *\n",
        "print(sum(range(5),-1))"
      ]
    },
    {
      "cell_type": "markdown",
      "metadata": {
        "id": "9uQ-iC_9djPc"
      },
      "source": [
        "#### 27. Consider an integer vector Z, which of these expressions are legal? (★☆☆)"
      ]
    },
    {
      "cell_type": "markdown",
      "metadata": {
        "id": "K3aKCqWQdjPc"
      },
      "source": [
        "```python\n",
        "Z**Z\n",
        "2 << Z >> 2\n",
        "Z <- Z\n",
        "1j*Z\n",
        "Z/1/1\n",
        "Z<Z>Z\n",
        "```"
      ]
    },
    {
      "cell_type": "code",
      "execution_count": null,
      "metadata": {
        "id": "gTUt3hYBdjPc",
        "colab": {
          "base_uri": "https://localhost:8080/",
          "height": 252
        },
        "outputId": "b9dda996-1174-4e65-a931-8bd19af45b6b"
      },
      "outputs": [
        {
          "output_type": "error",
          "ename": "TypeError",
          "evalue": "ignored",
          "traceback": [
            "\u001b[0;31m---------------------------------------------------------------------------\u001b[0m",
            "\u001b[0;31mTypeError\u001b[0m                                 Traceback (most recent call last)",
            "\u001b[0;32m<ipython-input-68-4e3654d03fce>\u001b[0m in \u001b[0;36m<module>\u001b[0;34m()\u001b[0m\n\u001b[1;32m      1\u001b[0m \u001b[0mZ\u001b[0m\u001b[0;34m**\u001b[0m\u001b[0mZ\u001b[0m\u001b[0;34m\u001b[0m\u001b[0;34m\u001b[0m\u001b[0m\n\u001b[0;32m----> 2\u001b[0;31m \u001b[0;36m2\u001b[0m \u001b[0;34m<<\u001b[0m \u001b[0mZ\u001b[0m \u001b[0;34m>>\u001b[0m \u001b[0;36m2\u001b[0m\u001b[0;34m\u001b[0m\u001b[0;34m\u001b[0m\u001b[0m\n\u001b[0m\u001b[1;32m      3\u001b[0m \u001b[0mZ\u001b[0m \u001b[0;34m<\u001b[0m\u001b[0;34m-\u001b[0m \u001b[0mZ\u001b[0m\u001b[0;34m\u001b[0m\u001b[0;34m\u001b[0m\u001b[0m\n\u001b[1;32m      4\u001b[0m \u001b[0;36m1j\u001b[0m\u001b[0;34m*\u001b[0m\u001b[0mZ\u001b[0m\u001b[0;34m\u001b[0m\u001b[0;34m\u001b[0m\u001b[0m\n\u001b[1;32m      5\u001b[0m \u001b[0mZ\u001b[0m\u001b[0;34m/\u001b[0m\u001b[0;36m1\u001b[0m\u001b[0;34m/\u001b[0m\u001b[0;36m1\u001b[0m\u001b[0;34m\u001b[0m\u001b[0;34m\u001b[0m\u001b[0m\n",
            "\u001b[0;31mTypeError\u001b[0m: ufunc 'left_shift' not supported for the input types, and the inputs could not be safely coerced to any supported types according to the casting rule ''safe''"
          ]
        }
      ],
      "source": [
        "Z**Z\n",
        "2 << Z >> 2\n",
        "Z <- Z\n",
        "1j*Z\n",
        "Z/1/1\n",
        "Z<Z>Z"
      ]
    },
    {
      "cell_type": "markdown",
      "metadata": {
        "id": "9yvsVG4odjPc"
      },
      "source": [
        "#### 28. What are the result of the following expressions?"
      ]
    },
    {
      "cell_type": "markdown",
      "metadata": {
        "id": "ZyxXNudIdjPd"
      },
      "source": [
        "```python\n",
        "np.array(0) / np.array(0)\n",
        "np.array(0) // np.array(0)\n",
        "np.array([np.nan]).astype(int).astype(float)\n",
        "```"
      ]
    },
    {
      "cell_type": "code",
      "execution_count": null,
      "metadata": {
        "id": "pohgygnxdjPd",
        "colab": {
          "base_uri": "https://localhost:8080/"
        },
        "outputId": "1339afa9-5d59-4af7-85d0-105eac7e29b1"
      },
      "outputs": [
        {
          "output_type": "execute_result",
          "data": {
            "text/plain": [
              "array([-9.22337204e+18])"
            ]
          },
          "metadata": {},
          "execution_count": 62
        }
      ],
      "source": [
        "np.array(0) / np.array(0)\n",
        "np.array(0) // np.array(0)\n",
        "np.array([np.nan]).astype(int).astype(float)"
      ]
    },
    {
      "cell_type": "markdown",
      "metadata": {
        "id": "uWMGsGiodjPd"
      },
      "source": [
        "#### 29. How to round away from zero a float array ? (★☆☆) \n",
        "(**hint**: np.uniform, np.copysign, np.ceil, np.abs)"
      ]
    },
    {
      "cell_type": "code",
      "execution_count": null,
      "metadata": {
        "id": "Yk3GNrDIdjPe",
        "colab": {
          "base_uri": "https://localhost:8080/"
        },
        "outputId": "a55abeab-747c-4d18-d315-9247f208888c"
      },
      "outputs": [
        {
          "output_type": "stream",
          "name": "stdout",
          "text": [
            "[ -4.  -4.   3.   2.   3.   6. -10.   4.  -6.  -1.]\n"
          ]
        }
      ],
      "source": [
        "Z = np.random.uniform(-10,+10,10)\n",
        "print(np.copysign(np.ceil(np.abs(Z)), Z))"
      ]
    },
    {
      "cell_type": "markdown",
      "metadata": {
        "id": "2NE2jiV8djPe"
      },
      "source": [
        "#### 30. How to find common values between two arrays? (★☆☆) \n",
        "(**hint**: np.intersect1d)"
      ]
    },
    {
      "cell_type": "code",
      "execution_count": null,
      "metadata": {
        "id": "43GqLcpAdjPe",
        "colab": {
          "base_uri": "https://localhost:8080/"
        },
        "outputId": "1e7c3fa9-a964-4397-a73b-12501ba23265"
      },
      "outputs": [
        {
          "output_type": "stream",
          "name": "stdout",
          "text": [
            "[0 2 4]\n"
          ]
        }
      ],
      "source": [
        "x = np.array([0, 1, 2, 3, 4]) \n",
        "y = np.array([0, 2, 4])\n",
        "print(np.intersect1d(x, y)) "
      ]
    },
    {
      "cell_type": "markdown",
      "metadata": {
        "id": "aGKcjJkRdjPf"
      },
      "source": [
        "#### 31. How to ignore all numpy warnings (not recommended)? (★☆☆) \n",
        "(**hint**: np.seterr, np.errstate)"
      ]
    },
    {
      "cell_type": "code",
      "execution_count": null,
      "metadata": {
        "id": "yN1qvDmBdjPf",
        "colab": {
          "base_uri": "https://localhost:8080/"
        },
        "outputId": "89209792-2caf-4fbb-bc57-f847e5201a99"
      },
      "outputs": [
        {
          "output_type": "stream",
          "name": "stderr",
          "text": [
            "/usr/local/lib/python3.7/dist-packages/numpy/lib/nanfunctions.py:1120: RuntimeWarning: All-NaN slice encountered\n",
            "  overwrite_input=overwrite_input)\n"
          ]
        },
        {
          "output_type": "execute_result",
          "data": {
            "text/plain": [
              "array([nan, nan, nan, nan, nan, nan, nan, nan, nan, nan])"
            ]
          },
          "metadata": {},
          "execution_count": 43
        }
      ],
      "source": [
        "data = np.random.random(1000).reshape(10, 10,10) * np.nan\n",
        "np.seterr(all=\"ignore\")\n",
        "np.nanmedian(data, axis=[1, 2])"
      ]
    },
    {
      "cell_type": "markdown",
      "metadata": {
        "id": "_L4AZ_YTdjPf"
      },
      "source": [
        "#### 32. Is the following expressions true? (★☆☆) \n",
        "(**hint**: imaginary number)"
      ]
    },
    {
      "cell_type": "markdown",
      "metadata": {
        "id": "dLd8siT4djPf"
      },
      "source": [
        "```python\n",
        "np.sqrt(-1) == np.emath.sqrt(-1)\n",
        "```"
      ]
    },
    {
      "cell_type": "code",
      "execution_count": null,
      "metadata": {
        "id": "X3fm41JcdjPg",
        "colab": {
          "base_uri": "https://localhost:8080/"
        },
        "outputId": "57880ab6-7ae0-4b5b-9068-deec1147d12a"
      },
      "outputs": [
        {
          "output_type": "execute_result",
          "data": {
            "text/plain": [
              "False"
            ]
          },
          "metadata": {},
          "execution_count": 64
        }
      ],
      "source": [
        "np.sqrt(-1) == np.emath.sqrt(-1)"
      ]
    },
    {
      "cell_type": "markdown",
      "metadata": {
        "id": "h7xFvAOudjPg"
      },
      "source": [
        "#### 33. How to get the dates of yesterday, today and tomorrow? (★☆☆) \n",
        "(**hint**: np.datetime64, np.timedelta64)"
      ]
    },
    {
      "cell_type": "code",
      "execution_count": null,
      "metadata": {
        "collapsed": true,
        "id": "I1U-Fk58djPg",
        "colab": {
          "base_uri": "https://localhost:8080/"
        },
        "outputId": "a8647a96-4539-4c9c-a829-aa47678a60e7"
      },
      "outputs": [
        {
          "output_type": "stream",
          "name": "stdout",
          "text": [
            "2022-06-16\n",
            "2022-06-15\n",
            "2022-06-17\n"
          ]
        }
      ],
      "source": [
        "today = np.datetime64('today', 'D')\n",
        "yesterday = np.datetime64('today', 'D') - np.timedelta64(1, 'D')\n",
        "tomorrow =np.datetime64('today', 'D') + np.timedelta64(1, 'D')\n",
        "print(today)\n",
        "print(yesterday)\n",
        "print(tomorrow)"
      ]
    },
    {
      "cell_type": "markdown",
      "metadata": {
        "id": "IHIdl4xVdjPg"
      },
      "source": [
        "#### 34. How to get all the dates corresponding to the month of July 2016? (★★☆) \n",
        "(**hint**: np.arange(dtype=datetime64\\['D'\\]))"
      ]
    },
    {
      "cell_type": "code",
      "execution_count": null,
      "metadata": {
        "id": "TYmdPc7QdjPg",
        "colab": {
          "base_uri": "https://localhost:8080/"
        },
        "outputId": "6ce13a09-56d0-4985-db80-caea7f6c88cc"
      },
      "outputs": [
        {
          "output_type": "stream",
          "name": "stdout",
          "text": [
            "['2016-07-01' '2016-07-02' '2016-07-03' '2016-07-04' '2016-07-05'\n",
            " '2016-07-06' '2016-07-07' '2016-07-08' '2016-07-09' '2016-07-10'\n",
            " '2016-07-11' '2016-07-12' '2016-07-13' '2016-07-14' '2016-07-15'\n",
            " '2016-07-16' '2016-07-17' '2016-07-18' '2016-07-19' '2016-07-20'\n",
            " '2016-07-21' '2016-07-22' '2016-07-23' '2016-07-24' '2016-07-25'\n",
            " '2016-07-26' '2016-07-27' '2016-07-28' '2016-07-29' '2016-07-30'\n",
            " '2016-07-31']\n"
          ]
        }
      ],
      "source": [
        "print(np.arange('2016-07', '2016-08', dtype='datetime64[D]'))"
      ]
    },
    {
      "cell_type": "markdown",
      "metadata": {
        "id": "YK5ik-VFdjPh"
      },
      "source": [
        "#### 35. How to compute ((A+B)\\*(-A/2)) in place (without copy)? (★★☆) \n",
        "(**hint**: np.add(out=), np.negative(out=), np.multiply(out=), np.divide(out=))"
      ]
    },
    {
      "cell_type": "code",
      "execution_count": null,
      "metadata": {
        "id": "EhWGtnzydjPh",
        "colab": {
          "base_uri": "https://localhost:8080/"
        },
        "outputId": "19b04cdc-b99f-40fc-e9f3-174c3f0ab763"
      },
      "outputs": [
        {
          "output_type": "execute_result",
          "data": {
            "text/plain": [
              "array([-1.5, -1.5, -1.5])"
            ]
          },
          "metadata": {},
          "execution_count": 65
        }
      ],
      "source": [
        "A = np.ones(3)*1\n",
        "B = np.ones(3)*2\n",
        "np.add(A,B,out=B)\n",
        "np.divide(A,2,out=A)\n",
        "np.negative(A,out=A)\n",
        "np.multiply(A,B,out=A)"
      ]
    },
    {
      "cell_type": "markdown",
      "metadata": {
        "id": "shmV5pmldjPh"
      },
      "source": [
        "#### 36. Extract the integer part of a random array using 5 different methods (★★☆) \n",
        "(**hint**: %, np.floor, np.ceil, astype, np.trunc)"
      ]
    },
    {
      "cell_type": "code",
      "execution_count": null,
      "metadata": {
        "id": "J1Rf9TurdjPh",
        "colab": {
          "base_uri": "https://localhost:8080/"
        },
        "outputId": "a126f041-9a68-469e-afec-ffc329941a37"
      },
      "outputs": [
        {
          "output_type": "stream",
          "name": "stdout",
          "text": [
            "[5. 8. 5. 6. 9. 5. 8. 9. 7. 8.]\n",
            "[5. 8. 5. 6. 9. 5. 8. 9. 7. 8.]\n",
            "[5. 8. 5. 6. 9. 5. 8. 9. 7. 8.]\n",
            "[5 8 5 6 9 5 8 9 7 8]\n",
            "[5. 8. 5. 6. 9. 5. 8. 9. 7. 8.]\n"
          ]
        }
      ],
      "source": [
        "Z = np.random.uniform(0,10,10)\n",
        "\n",
        "print(Z - Z%1)\n",
        "print(Z // 1)\n",
        "print(np.floor(Z))\n",
        "print(Z.astype(int))\n",
        "print(np.trunc(Z))"
      ]
    },
    {
      "cell_type": "markdown",
      "metadata": {
        "id": "Alx_S-PfdjPh"
      },
      "source": [
        "#### 37. Create a 5x5 matrix with row values ranging from 0 to 4 (★★☆) \n",
        "(**hint**: np.arange)"
      ]
    },
    {
      "cell_type": "code",
      "execution_count": null,
      "metadata": {
        "id": "AOBBLf2fdjPi",
        "colab": {
          "base_uri": "https://localhost:8080/"
        },
        "outputId": "60bb6360-1dc9-41f9-86cc-8af430928427"
      },
      "outputs": [
        {
          "output_type": "stream",
          "name": "stdout",
          "text": [
            "[[0. 1. 2. 3. 4.]\n",
            " [0. 1. 2. 3. 4.]\n",
            " [0. 1. 2. 3. 4.]\n",
            " [0. 1. 2. 3. 4.]\n",
            " [0. 1. 2. 3. 4.]]\n"
          ]
        }
      ],
      "source": [
        "Z = np.zeros((5,5))\n",
        "Z += np.arange(5)\n",
        "print(Z)"
      ]
    },
    {
      "cell_type": "markdown",
      "metadata": {
        "id": "u5VVZWGjdjPi"
      },
      "source": [
        "#### 38. Consider a generator function that generates 10 integers and use it to build an array (★☆☆) \n",
        "(**hint**: np.fromiter)"
      ]
    },
    {
      "cell_type": "code",
      "execution_count": null,
      "metadata": {
        "id": "2PKuT_FadjPi",
        "colab": {
          "base_uri": "https://localhost:8080/"
        },
        "outputId": "4793644c-7c3f-4a2a-d364-131e01fe678b"
      },
      "outputs": [
        {
          "output_type": "stream",
          "name": "stdout",
          "text": [
            "[0. 1. 2. 3. 4. 5. 6. 7. 8. 9.]\n"
          ]
        }
      ],
      "source": [
        "def generate(): \n",
        "    for x in range(10):\n",
        "        yield x\n",
        "        \n",
        "Z = np.fromiter(generate(), dtype=float, count=-1)\n",
        "print (Z)"
      ]
    },
    {
      "cell_type": "markdown",
      "metadata": {
        "id": "A0NCizhQdjPi"
      },
      "source": [
        "#### 39. Create a vector of size 10 with values ranging from 0 to 1, both excluded (★★☆) \n",
        "(**hint**: np.linspace)"
      ]
    },
    {
      "cell_type": "code",
      "execution_count": null,
      "metadata": {
        "id": "0KCqdCf2djPj",
        "colab": {
          "base_uri": "https://localhost:8080/"
        },
        "outputId": "96f09e87-5cdf-4cb8-fad2-c1d3fcca18ab"
      },
      "outputs": [
        {
          "output_type": "stream",
          "name": "stdout",
          "text": [
            "[0.09090909 0.18181818 0.27272727 0.36363636 0.45454545 0.54545455\n",
            " 0.63636364 0.72727273 0.81818182 0.90909091]\n"
          ]
        }
      ],
      "source": [
        "Z = np.linspace(0,1,12,endpoint=True)[1:-1]\n",
        "print(Z)"
      ]
    },
    {
      "cell_type": "markdown",
      "metadata": {
        "id": "TkXxfPWHdjPj"
      },
      "source": [
        "#### 40. Create a random vector of size 10 and sort it (★★☆) \n",
        "(**hint**: sort)"
      ]
    },
    {
      "cell_type": "code",
      "execution_count": null,
      "metadata": {
        "id": "FW6YRqJIdjPj",
        "colab": {
          "base_uri": "https://localhost:8080/"
        },
        "outputId": "75f9fa60-eb63-4966-8b05-956f5b5ac7a8"
      },
      "outputs": [
        {
          "output_type": "stream",
          "name": "stdout",
          "text": [
            "[0.02396438 0.32628616 0.43743647 0.5353413  0.54506334 0.72801989\n",
            " 0.82466511 0.92497615 0.94741595 0.98820926]\n"
          ]
        }
      ],
      "source": [
        "Z = np.random.random(10)\n",
        "Z.sort()\n",
        "print(Z)"
      ]
    },
    {
      "cell_type": "markdown",
      "metadata": {
        "id": "09RzqV6jdjPj"
      },
      "source": [
        "#### 41. How to sum a small array faster than np.sum? (★★☆) \n",
        "(**hint**: np.add.reduce)"
      ]
    },
    {
      "cell_type": "code",
      "execution_count": null,
      "metadata": {
        "id": "2fWssl18djPj",
        "colab": {
          "base_uri": "https://localhost:8080/"
        },
        "outputId": "cb41816c-27e7-4914-d8ca-7ed01872bf5d"
      },
      "outputs": [
        {
          "output_type": "execute_result",
          "data": {
            "text/plain": [
              "45"
            ]
          },
          "metadata": {},
          "execution_count": 69
        }
      ],
      "source": [
        "Z = np.arange(10)\n",
        "np.add.reduce(Z)"
      ]
    },
    {
      "cell_type": "markdown",
      "metadata": {
        "id": "96y2o80idjPk"
      },
      "source": [
        "#### 42. Consider two random array A and B, check if they are equal (★★☆) \n",
        "(**hint**: np.allclose, np.array\\_equal)"
      ]
    },
    {
      "cell_type": "code",
      "execution_count": null,
      "metadata": {
        "id": "z-mokckLdjPk",
        "colab": {
          "base_uri": "https://localhost:8080/"
        },
        "outputId": "a226822a-1b42-4f2f-f987-bbe87924a51d"
      },
      "outputs": [
        {
          "output_type": "stream",
          "name": "stdout",
          "text": [
            "False\n",
            "False\n"
          ]
        }
      ],
      "source": [
        "A = np.random.randint(0,2,5)\n",
        "B = np.random.randint(0,2,5)\n",
        "equal = np.allclose(A,B)\n",
        "print(equal)\n",
        "equal = np.array_equal(A,B)\n",
        "print(equal)"
      ]
    },
    {
      "cell_type": "markdown",
      "metadata": {
        "id": "2Lg5IGp4djPk"
      },
      "source": [
        "#### 43. Make an array immutable (read-only) (★★☆) \n",
        "(**hint**: flags.writeable)"
      ]
    },
    {
      "cell_type": "code",
      "execution_count": null,
      "metadata": {
        "id": "OqWEq0TydjPk",
        "colab": {
          "base_uri": "https://localhost:8080/",
          "height": 200
        },
        "outputId": "5ffeebc6-18d1-4469-da97-07a604ba7455"
      },
      "outputs": [
        {
          "output_type": "error",
          "ename": "ValueError",
          "evalue": "ignored",
          "traceback": [
            "\u001b[0;31m---------------------------------------------------------------------------\u001b[0m",
            "\u001b[0;31mValueError\u001b[0m                                Traceback (most recent call last)",
            "\u001b[0;32m<ipython-input-74-50d3306bb5ff>\u001b[0m in \u001b[0;36m<module>\u001b[0;34m()\u001b[0m\n\u001b[1;32m      1\u001b[0m \u001b[0mx\u001b[0m \u001b[0;34m=\u001b[0m \u001b[0mnp\u001b[0m\u001b[0;34m.\u001b[0m\u001b[0mzeros\u001b[0m\u001b[0;34m(\u001b[0m\u001b[0;36m10\u001b[0m\u001b[0;34m)\u001b[0m\u001b[0;34m\u001b[0m\u001b[0;34m\u001b[0m\u001b[0m\n\u001b[1;32m      2\u001b[0m \u001b[0mx\u001b[0m\u001b[0;34m.\u001b[0m\u001b[0mflags\u001b[0m\u001b[0;34m.\u001b[0m\u001b[0mwriteable\u001b[0m \u001b[0;34m=\u001b[0m \u001b[0;32mFalse\u001b[0m\u001b[0;34m\u001b[0m\u001b[0;34m\u001b[0m\u001b[0m\n\u001b[0;32m----> 3\u001b[0;31m \u001b[0mx\u001b[0m\u001b[0;34m[\u001b[0m\u001b[0;36m0\u001b[0m\u001b[0;34m]\u001b[0m \u001b[0;34m=\u001b[0m \u001b[0;36m1\u001b[0m\u001b[0;34m\u001b[0m\u001b[0;34m\u001b[0m\u001b[0m\n\u001b[0m",
            "\u001b[0;31mValueError\u001b[0m: assignment destination is read-only"
          ]
        }
      ],
      "source": [
        "x = np.zeros(10)\n",
        "x.flags.writeable = False\n",
        "x[0] = 1"
      ]
    },
    {
      "cell_type": "markdown",
      "metadata": {
        "id": "AJjvZp3EdjPl"
      },
      "source": [
        "#### 44. Consider a random 10x2 matrix representing cartesian coordinates, convert them to polar coordinates (★★☆) \n",
        "(**hint**: np.sqrt, np.arctan2)"
      ]
    },
    {
      "cell_type": "code",
      "execution_count": null,
      "metadata": {
        "id": "EHCgKYdgdjPl",
        "colab": {
          "base_uri": "https://localhost:8080/"
        },
        "outputId": "1bc0e108-4f62-41db-ae4d-7626fc0f8ece"
      },
      "outputs": [
        {
          "output_type": "stream",
          "name": "stdout",
          "text": [
            "[0.57116007 1.06894991 0.51085209 1.02475183 0.85700599 0.18825219\n",
            " 0.83580176 1.07839609 1.10379099 0.36516928]\n",
            "[0.00618261 0.9422124  1.52835512 1.09191668 0.03496063 1.35059438\n",
            " 0.05667606 0.69586169 0.87086889 1.05489302]\n"
          ]
        }
      ],
      "source": [
        "Z = np.random.random((10,2))\n",
        "X,Y = Z[:,0], Z[:,1]\n",
        "R = np.sqrt(X**2+Y**2)\n",
        "T = np.arctan2(Y,X)\n",
        "print(R)\n",
        "print(T)"
      ]
    },
    {
      "cell_type": "markdown",
      "metadata": {
        "id": "HYBOHVurdjPl"
      },
      "source": [
        "#### 45. Create random vector of size 10 and replace the maximum value by 0 (★★☆) \n",
        "(**hint**: argmax)"
      ]
    },
    {
      "cell_type": "code",
      "execution_count": null,
      "metadata": {
        "id": "mgFy0mkKdjPl",
        "colab": {
          "base_uri": "https://localhost:8080/"
        },
        "outputId": "f6312fd1-42a4-42d9-e6e6-447482cf554d"
      },
      "outputs": [
        {
          "output_type": "stream",
          "name": "stdout",
          "text": [
            "[0.38488537 0.47978692 0.4973729  0.         0.16855003 0.53254067\n",
            " 0.47401789 0.39927968 0.23152039 0.20031917]\n"
          ]
        }
      ],
      "source": [
        "Z = np.random.random(10)\n",
        "Z[Z.argmax()] = 0\n",
        "print(Z)"
      ]
    },
    {
      "cell_type": "markdown",
      "metadata": {
        "id": "ICiEgpqcdjPl"
      },
      "source": [
        "#### 46. Create a structured array with `x` and `y` coordinates covering the \\[0,1\\]x\\[0,1\\] area (★★☆) \n",
        "(**hint**: np.meshgrid)"
      ]
    },
    {
      "cell_type": "code",
      "execution_count": null,
      "metadata": {
        "id": "8m5GWqMfdjPm",
        "colab": {
          "base_uri": "https://localhost:8080/"
        },
        "outputId": "1527fedf-38ff-49f7-bda0-1a33e473c596"
      },
      "outputs": [
        {
          "output_type": "stream",
          "name": "stdout",
          "text": [
            "[[(0.  , 0.  ) (0.25, 0.  ) (0.5 , 0.  ) (0.75, 0.  ) (1.  , 0.  )]\n",
            " [(0.  , 0.25) (0.25, 0.25) (0.5 , 0.25) (0.75, 0.25) (1.  , 0.25)]\n",
            " [(0.  , 0.5 ) (0.25, 0.5 ) (0.5 , 0.5 ) (0.75, 0.5 ) (1.  , 0.5 )]\n",
            " [(0.  , 0.75) (0.25, 0.75) (0.5 , 0.75) (0.75, 0.75) (1.  , 0.75)]\n",
            " [(0.  , 1.  ) (0.25, 1.  ) (0.5 , 1.  ) (0.75, 1.  ) (1.  , 1.  )]]\n"
          ]
        }
      ],
      "source": [
        "Z = np.zeros((5,5), [('x',float),('y',float)])\n",
        "Z['x'], Z['y'] = np.meshgrid(np.linspace(0,1,5),\n",
        "                             np.linspace(0,1,5))\n",
        "print(Z)"
      ]
    },
    {
      "cell_type": "markdown",
      "metadata": {
        "id": "Riink5UUdjPm"
      },
      "source": [
        "####  47. Given two arrays, X and Y, construct the Cauchy matrix C (Cij =1/(xi - yj)) \n",
        "(**hint**: np.subtract.outer)"
      ]
    },
    {
      "cell_type": "code",
      "execution_count": null,
      "metadata": {
        "id": "lplgRTThdjPm",
        "colab": {
          "base_uri": "https://localhost:8080/"
        },
        "outputId": "0ec391d0-bbfd-4a2f-e577-8e4623e5e022"
      },
      "outputs": [
        {
          "output_type": "stream",
          "name": "stdout",
          "text": [
            "3638.163637117973\n"
          ]
        }
      ],
      "source": [
        "X = np.arange(8)\n",
        "Y = X + 0.5\n",
        "C = 1.0 / np.subtract.outer(X, Y)\n",
        "print(np.linalg.det(C))"
      ]
    },
    {
      "cell_type": "markdown",
      "metadata": {
        "id": "KSzwXRZBdjPm"
      },
      "source": [
        "#### 48. Print the minimum and maximum representable value for each numpy scalar type (★★☆) \n",
        "(**hint**: np.iinfo, np.finfo, eps)"
      ]
    },
    {
      "cell_type": "code",
      "execution_count": null,
      "metadata": {
        "id": "cGBuBtrGdjPm",
        "colab": {
          "base_uri": "https://localhost:8080/"
        },
        "outputId": "2f9fc50c-f47d-4759-b283-4f20b4083409"
      },
      "outputs": [
        {
          "output_type": "stream",
          "name": "stdout",
          "text": [
            "-128\n",
            "127\n",
            "-2147483648\n",
            "2147483647\n",
            "-9223372036854775808\n",
            "9223372036854775807\n",
            "-3.4028235e+38\n",
            "3.4028235e+38\n",
            "1.1920929e-07\n",
            "-1.7976931348623157e+308\n",
            "1.7976931348623157e+308\n",
            "2.220446049250313e-16\n"
          ]
        }
      ],
      "source": [
        "for dtype in [np.int8, np.int32, np.int64]:\n",
        "   print(np.iinfo(dtype).min)\n",
        "   print(np.iinfo(dtype).max)\n",
        "for dtype in [np.float32, np.float64]:\n",
        "   print(np.finfo(dtype).min)\n",
        "   print(np.finfo(dtype).max)\n",
        "   print(np.finfo(dtype).eps)"
      ]
    },
    {
      "cell_type": "markdown",
      "metadata": {
        "id": "WeAJiSNJdjPm"
      },
      "source": [
        "#### 49. How to print all the values of an array? (★★☆) \n",
        "(**hint**: np.set\\_printoptions)"
      ]
    },
    {
      "cell_type": "code",
      "execution_count": null,
      "metadata": {
        "id": "T6mBao5RdjPn",
        "colab": {
          "base_uri": "https://localhost:8080/"
        },
        "outputId": "14b182fc-6eba-45b4-e245-ec96c3cffdb2"
      },
      "outputs": [
        {
          "output_type": "stream",
          "name": "stdout",
          "text": [
            "[[0. 0. 0. 0. 0. 0. 0. 0. 0. 0. 0. 0. 0. 0. 0. 0. 0. 0. 0. 0. 0. 0. 0. 0.\n",
            "  0. 0. 0. 0. 0. 0. 0. 0. 0. 0. 0. 0. 0. 0. 0. 0.]\n",
            " [0. 0. 0. 0. 0. 0. 0. 0. 0. 0. 0. 0. 0. 0. 0. 0. 0. 0. 0. 0. 0. 0. 0. 0.\n",
            "  0. 0. 0. 0. 0. 0. 0. 0. 0. 0. 0. 0. 0. 0. 0. 0.]\n",
            " [0. 0. 0. 0. 0. 0. 0. 0. 0. 0. 0. 0. 0. 0. 0. 0. 0. 0. 0. 0. 0. 0. 0. 0.\n",
            "  0. 0. 0. 0. 0. 0. 0. 0. 0. 0. 0. 0. 0. 0. 0. 0.]\n",
            " [0. 0. 0. 0. 0. 0. 0. 0. 0. 0. 0. 0. 0. 0. 0. 0. 0. 0. 0. 0. 0. 0. 0. 0.\n",
            "  0. 0. 0. 0. 0. 0. 0. 0. 0. 0. 0. 0. 0. 0. 0. 0.]\n",
            " [0. 0. 0. 0. 0. 0. 0. 0. 0. 0. 0. 0. 0. 0. 0. 0. 0. 0. 0. 0. 0. 0. 0. 0.\n",
            "  0. 0. 0. 0. 0. 0. 0. 0. 0. 0. 0. 0. 0. 0. 0. 0.]\n",
            " [0. 0. 0. 0. 0. 0. 0. 0. 0. 0. 0. 0. 0. 0. 0. 0. 0. 0. 0. 0. 0. 0. 0. 0.\n",
            "  0. 0. 0. 0. 0. 0. 0. 0. 0. 0. 0. 0. 0. 0. 0. 0.]\n",
            " [0. 0. 0. 0. 0. 0. 0. 0. 0. 0. 0. 0. 0. 0. 0. 0. 0. 0. 0. 0. 0. 0. 0. 0.\n",
            "  0. 0. 0. 0. 0. 0. 0. 0. 0. 0. 0. 0. 0. 0. 0. 0.]\n",
            " [0. 0. 0. 0. 0. 0. 0. 0. 0. 0. 0. 0. 0. 0. 0. 0. 0. 0. 0. 0. 0. 0. 0. 0.\n",
            "  0. 0. 0. 0. 0. 0. 0. 0. 0. 0. 0. 0. 0. 0. 0. 0.]\n",
            " [0. 0. 0. 0. 0. 0. 0. 0. 0. 0. 0. 0. 0. 0. 0. 0. 0. 0. 0. 0. 0. 0. 0. 0.\n",
            "  0. 0. 0. 0. 0. 0. 0. 0. 0. 0. 0. 0. 0. 0. 0. 0.]\n",
            " [0. 0. 0. 0. 0. 0. 0. 0. 0. 0. 0. 0. 0. 0. 0. 0. 0. 0. 0. 0. 0. 0. 0. 0.\n",
            "  0. 0. 0. 0. 0. 0. 0. 0. 0. 0. 0. 0. 0. 0. 0. 0.]\n",
            " [0. 0. 0. 0. 0. 0. 0. 0. 0. 0. 0. 0. 0. 0. 0. 0. 0. 0. 0. 0. 0. 0. 0. 0.\n",
            "  0. 0. 0. 0. 0. 0. 0. 0. 0. 0. 0. 0. 0. 0. 0. 0.]\n",
            " [0. 0. 0. 0. 0. 0. 0. 0. 0. 0. 0. 0. 0. 0. 0. 0. 0. 0. 0. 0. 0. 0. 0. 0.\n",
            "  0. 0. 0. 0. 0. 0. 0. 0. 0. 0. 0. 0. 0. 0. 0. 0.]\n",
            " [0. 0. 0. 0. 0. 0. 0. 0. 0. 0. 0. 0. 0. 0. 0. 0. 0. 0. 0. 0. 0. 0. 0. 0.\n",
            "  0. 0. 0. 0. 0. 0. 0. 0. 0. 0. 0. 0. 0. 0. 0. 0.]\n",
            " [0. 0. 0. 0. 0. 0. 0. 0. 0. 0. 0. 0. 0. 0. 0. 0. 0. 0. 0. 0. 0. 0. 0. 0.\n",
            "  0. 0. 0. 0. 0. 0. 0. 0. 0. 0. 0. 0. 0. 0. 0. 0.]\n",
            " [0. 0. 0. 0. 0. 0. 0. 0. 0. 0. 0. 0. 0. 0. 0. 0. 0. 0. 0. 0. 0. 0. 0. 0.\n",
            "  0. 0. 0. 0. 0. 0. 0. 0. 0. 0. 0. 0. 0. 0. 0. 0.]\n",
            " [0. 0. 0. 0. 0. 0. 0. 0. 0. 0. 0. 0. 0. 0. 0. 0. 0. 0. 0. 0. 0. 0. 0. 0.\n",
            "  0. 0. 0. 0. 0. 0. 0. 0. 0. 0. 0. 0. 0. 0. 0. 0.]\n",
            " [0. 0. 0. 0. 0. 0. 0. 0. 0. 0. 0. 0. 0. 0. 0. 0. 0. 0. 0. 0. 0. 0. 0. 0.\n",
            "  0. 0. 0. 0. 0. 0. 0. 0. 0. 0. 0. 0. 0. 0. 0. 0.]\n",
            " [0. 0. 0. 0. 0. 0. 0. 0. 0. 0. 0. 0. 0. 0. 0. 0. 0. 0. 0. 0. 0. 0. 0. 0.\n",
            "  0. 0. 0. 0. 0. 0. 0. 0. 0. 0. 0. 0. 0. 0. 0. 0.]\n",
            " [0. 0. 0. 0. 0. 0. 0. 0. 0. 0. 0. 0. 0. 0. 0. 0. 0. 0. 0. 0. 0. 0. 0. 0.\n",
            "  0. 0. 0. 0. 0. 0. 0. 0. 0. 0. 0. 0. 0. 0. 0. 0.]\n",
            " [0. 0. 0. 0. 0. 0. 0. 0. 0. 0. 0. 0. 0. 0. 0. 0. 0. 0. 0. 0. 0. 0. 0. 0.\n",
            "  0. 0. 0. 0. 0. 0. 0. 0. 0. 0. 0. 0. 0. 0. 0. 0.]\n",
            " [0. 0. 0. 0. 0. 0. 0. 0. 0. 0. 0. 0. 0. 0. 0. 0. 0. 0. 0. 0. 0. 0. 0. 0.\n",
            "  0. 0. 0. 0. 0. 0. 0. 0. 0. 0. 0. 0. 0. 0. 0. 0.]\n",
            " [0. 0. 0. 0. 0. 0. 0. 0. 0. 0. 0. 0. 0. 0. 0. 0. 0. 0. 0. 0. 0. 0. 0. 0.\n",
            "  0. 0. 0. 0. 0. 0. 0. 0. 0. 0. 0. 0. 0. 0. 0. 0.]\n",
            " [0. 0. 0. 0. 0. 0. 0. 0. 0. 0. 0. 0. 0. 0. 0. 0. 0. 0. 0. 0. 0. 0. 0. 0.\n",
            "  0. 0. 0. 0. 0. 0. 0. 0. 0. 0. 0. 0. 0. 0. 0. 0.]\n",
            " [0. 0. 0. 0. 0. 0. 0. 0. 0. 0. 0. 0. 0. 0. 0. 0. 0. 0. 0. 0. 0. 0. 0. 0.\n",
            "  0. 0. 0. 0. 0. 0. 0. 0. 0. 0. 0. 0. 0. 0. 0. 0.]\n",
            " [0. 0. 0. 0. 0. 0. 0. 0. 0. 0. 0. 0. 0. 0. 0. 0. 0. 0. 0. 0. 0. 0. 0. 0.\n",
            "  0. 0. 0. 0. 0. 0. 0. 0. 0. 0. 0. 0. 0. 0. 0. 0.]\n",
            " [0. 0. 0. 0. 0. 0. 0. 0. 0. 0. 0. 0. 0. 0. 0. 0. 0. 0. 0. 0. 0. 0. 0. 0.\n",
            "  0. 0. 0. 0. 0. 0. 0. 0. 0. 0. 0. 0. 0. 0. 0. 0.]\n",
            " [0. 0. 0. 0. 0. 0. 0. 0. 0. 0. 0. 0. 0. 0. 0. 0. 0. 0. 0. 0. 0. 0. 0. 0.\n",
            "  0. 0. 0. 0. 0. 0. 0. 0. 0. 0. 0. 0. 0. 0. 0. 0.]\n",
            " [0. 0. 0. 0. 0. 0. 0. 0. 0. 0. 0. 0. 0. 0. 0. 0. 0. 0. 0. 0. 0. 0. 0. 0.\n",
            "  0. 0. 0. 0. 0. 0. 0. 0. 0. 0. 0. 0. 0. 0. 0. 0.]\n",
            " [0. 0. 0. 0. 0. 0. 0. 0. 0. 0. 0. 0. 0. 0. 0. 0. 0. 0. 0. 0. 0. 0. 0. 0.\n",
            "  0. 0. 0. 0. 0. 0. 0. 0. 0. 0. 0. 0. 0. 0. 0. 0.]\n",
            " [0. 0. 0. 0. 0. 0. 0. 0. 0. 0. 0. 0. 0. 0. 0. 0. 0. 0. 0. 0. 0. 0. 0. 0.\n",
            "  0. 0. 0. 0. 0. 0. 0. 0. 0. 0. 0. 0. 0. 0. 0. 0.]\n",
            " [0. 0. 0. 0. 0. 0. 0. 0. 0. 0. 0. 0. 0. 0. 0. 0. 0. 0. 0. 0. 0. 0. 0. 0.\n",
            "  0. 0. 0. 0. 0. 0. 0. 0. 0. 0. 0. 0. 0. 0. 0. 0.]\n",
            " [0. 0. 0. 0. 0. 0. 0. 0. 0. 0. 0. 0. 0. 0. 0. 0. 0. 0. 0. 0. 0. 0. 0. 0.\n",
            "  0. 0. 0. 0. 0. 0. 0. 0. 0. 0. 0. 0. 0. 0. 0. 0.]\n",
            " [0. 0. 0. 0. 0. 0. 0. 0. 0. 0. 0. 0. 0. 0. 0. 0. 0. 0. 0. 0. 0. 0. 0. 0.\n",
            "  0. 0. 0. 0. 0. 0. 0. 0. 0. 0. 0. 0. 0. 0. 0. 0.]\n",
            " [0. 0. 0. 0. 0. 0. 0. 0. 0. 0. 0. 0. 0. 0. 0. 0. 0. 0. 0. 0. 0. 0. 0. 0.\n",
            "  0. 0. 0. 0. 0. 0. 0. 0. 0. 0. 0. 0. 0. 0. 0. 0.]\n",
            " [0. 0. 0. 0. 0. 0. 0. 0. 0. 0. 0. 0. 0. 0. 0. 0. 0. 0. 0. 0. 0. 0. 0. 0.\n",
            "  0. 0. 0. 0. 0. 0. 0. 0. 0. 0. 0. 0. 0. 0. 0. 0.]\n",
            " [0. 0. 0. 0. 0. 0. 0. 0. 0. 0. 0. 0. 0. 0. 0. 0. 0. 0. 0. 0. 0. 0. 0. 0.\n",
            "  0. 0. 0. 0. 0. 0. 0. 0. 0. 0. 0. 0. 0. 0. 0. 0.]\n",
            " [0. 0. 0. 0. 0. 0. 0. 0. 0. 0. 0. 0. 0. 0. 0. 0. 0. 0. 0. 0. 0. 0. 0. 0.\n",
            "  0. 0. 0. 0. 0. 0. 0. 0. 0. 0. 0. 0. 0. 0. 0. 0.]\n",
            " [0. 0. 0. 0. 0. 0. 0. 0. 0. 0. 0. 0. 0. 0. 0. 0. 0. 0. 0. 0. 0. 0. 0. 0.\n",
            "  0. 0. 0. 0. 0. 0. 0. 0. 0. 0. 0. 0. 0. 0. 0. 0.]\n",
            " [0. 0. 0. 0. 0. 0. 0. 0. 0. 0. 0. 0. 0. 0. 0. 0. 0. 0. 0. 0. 0. 0. 0. 0.\n",
            "  0. 0. 0. 0. 0. 0. 0. 0. 0. 0. 0. 0. 0. 0. 0. 0.]\n",
            " [0. 0. 0. 0. 0. 0. 0. 0. 0. 0. 0. 0. 0. 0. 0. 0. 0. 0. 0. 0. 0. 0. 0. 0.\n",
            "  0. 0. 0. 0. 0. 0. 0. 0. 0. 0. 0. 0. 0. 0. 0. 0.]]\n"
          ]
        }
      ],
      "source": [
        "np.set_printoptions(threshold=float(\"inf\"))\n",
        "Z = np.zeros((40,40))\n",
        "print(Z)"
      ]
    },
    {
      "cell_type": "markdown",
      "metadata": {
        "id": "RUQUnSI3djPn"
      },
      "source": [
        "#### 50. How to find the closest value (to a given scalar) in a vector? (★★☆) \n",
        "(**hint**: argmin)"
      ]
    },
    {
      "cell_type": "code",
      "execution_count": null,
      "metadata": {
        "id": "KU-cQvAqdjPn",
        "colab": {
          "base_uri": "https://localhost:8080/"
        },
        "outputId": "20d289f7-b788-42b1-efb7-4c07bacc7003"
      },
      "outputs": [
        {
          "output_type": "stream",
          "name": "stdout",
          "text": [
            "77\n"
          ]
        }
      ],
      "source": [
        "Z = np.arange(100)\n",
        "v = np.random.uniform(0,100)\n",
        "index = (np.abs(Z-v)).argmin()\n",
        "print(Z[index])"
      ]
    },
    {
      "cell_type": "markdown",
      "metadata": {
        "id": "A3ECSnjTdjPn"
      },
      "source": [
        "#### 51. Create a structured array representing a position (x,y) and a color (r,g,b) (★★☆) \n",
        "(**hint**: dtype)"
      ]
    },
    {
      "cell_type": "code",
      "execution_count": null,
      "metadata": {
        "id": "7aUim1EjdjPo",
        "colab": {
          "base_uri": "https://localhost:8080/"
        },
        "outputId": "e464822d-9e67-4649-b0cc-b302869f10c6"
      },
      "outputs": [
        {
          "output_type": "stream",
          "name": "stdout",
          "text": [
            "[((0., 0.), (0., 0., 0.)) ((0., 0.), (0., 0., 0.))\n",
            " ((0., 0.), (0., 0., 0.)) ((0., 0.), (0., 0., 0.))\n",
            " ((0., 0.), (0., 0., 0.)) ((0., 0.), (0., 0., 0.))\n",
            " ((0., 0.), (0., 0., 0.)) ((0., 0.), (0., 0., 0.))\n",
            " ((0., 0.), (0., 0., 0.)) ((0., 0.), (0., 0., 0.))]\n"
          ]
        },
        {
          "output_type": "stream",
          "name": "stderr",
          "text": [
            "/usr/local/lib/python3.7/dist-packages/ipykernel_launcher.py:5: FutureWarning: Passing (type, 1) or '1type' as a synonym of type is deprecated; in a future version of numpy, it will be understood as (type, (1,)) / '(1,)type'.\n",
            "  \"\"\"\n"
          ]
        }
      ],
      "source": [
        "Z = np.zeros(10, [ ('position', [ ('x', float, 1),\n",
        "                                  ('y', float, 1)]),\n",
        "                   ('color',    [ ('r', float, 1),\n",
        "                                  ('g', float, 1),\n",
        "                                  ('b', float, 1)])])\n",
        "print(Z)"
      ]
    },
    {
      "cell_type": "markdown",
      "metadata": {
        "id": "7xct42-sdjPo"
      },
      "source": [
        "#### 52. Consider a random vector with shape (100,2) representing coordinates, find point by point distances (★★☆) \n",
        "(**hint**: np.atleast\\_2d, T, np.sqrt)"
      ]
    },
    {
      "cell_type": "code",
      "execution_count": null,
      "metadata": {
        "id": "Ke8uu2CpdjPo",
        "colab": {
          "base_uri": "https://localhost:8080/"
        },
        "outputId": "8962cf88-a485-4b0d-bf79-c4aed14bcd29"
      },
      "outputs": [
        {
          "output_type": "stream",
          "name": "stdout",
          "text": [
            "[[0.         0.53323954 0.74000793 0.2774303  0.45678982 0.35976676\n",
            "  0.26642622 0.38060954 0.60851512 0.6718179  0.51133929 0.60909784\n",
            "  0.73636305 0.77274855 0.33216222 0.30756901 0.63064755 0.56216371\n",
            "  0.57598872 0.64557683 0.48646495 0.89641919 0.1030001  0.61903083\n",
            "  0.78433765 0.70538079 0.66661386 0.23704701 0.25416674 0.76747711\n",
            "  0.25760972 0.70029611 0.71840775 0.60250975 0.2941158  0.82009958\n",
            "  0.74298432 0.55332804 0.70893838 0.60583027 0.66016636 0.23770692\n",
            "  0.86792577 0.73395349 0.39295359 0.17271387 0.23791942 0.76179101\n",
            "  0.58574382 0.30051523 0.73492886 0.43820919 0.50354674 0.39358906\n",
            "  0.74174784 0.28928363 0.36917382 0.25047488 0.21671801 0.28569489\n",
            "  0.78773928 0.24125284 0.32192068 0.61710101 0.37796142 0.44257449\n",
            "  0.47195231 0.66012596 0.41274976 0.66365467 0.34358239 0.63887595\n",
            "  0.71493896 0.66541894 0.61961896 0.47658168 0.21060398 0.40274018\n",
            "  0.08220019 0.64824183 0.85876155 0.69906977 0.49304322 0.80609559\n",
            "  0.0392587  0.44143139 0.43973456 0.43496606 0.8251295  0.20701863\n",
            "  0.30427816 0.92462822 0.41451315 0.40623556 0.22988034 0.0512302\n",
            "  0.27763193 0.54802989 0.63665292 0.30965786]\n",
            " [0.53323954 0.         0.50877493 0.30681337 0.36681211 0.19334859\n",
            "  0.27495018 0.86974553 0.32044196 0.37649325 0.48451748 0.1242188\n",
            "  0.89275527 0.3078948  0.20145887 0.71897706 0.60954011 0.89655738\n",
            "  0.81164966 1.02984694 0.45088165 0.84227385 0.5471988  0.09446297\n",
            "  0.88390601 0.92499385 0.16091866 0.54924551 0.28967275 0.66766961\n",
            "  0.63355675 0.37691617 0.99228979 0.33958197 0.66410434 0.7640352\n",
            "  0.24386144 0.39734485 0.51484103 0.68630651 1.07027522 0.62936347\n",
            "  0.96359785 1.15175259 0.29518133 0.62268391 0.77115873 0.2951428\n",
            "  0.67095679 0.46961402 0.65500697 0.8805799  0.39795008 0.23373989\n",
            "  1.14580559 0.33056554 0.73962427 0.52196362 0.5050694  0.3362238\n",
            "  0.93073931 0.32292467 0.24269538 0.42494251 0.84548117 0.74744705\n",
            "  0.19452687 0.91055208 0.47043394 0.62254815 0.6925863  0.28614762\n",
            "  0.24243305 0.89287473 1.05294953 0.64318928 0.41661799 0.71798842\n",
            "  0.59858077 1.02933271 0.91116937 0.92186896 0.05800309 0.65327761\n",
            "  0.52590176 0.50083043 0.47786554 0.61151923 0.67519638 0.50555575\n",
            "  0.24436959 0.90539078 0.69803158 0.84754904 0.40418537 0.49874267\n",
            "  0.6260293  0.9390457  0.85821919 0.67053286]\n",
            " [0.74000793 0.50877493 0.         0.48378875 0.28333668 0.4761347\n",
            "  0.61988758 0.89058398 0.18974011 0.13443658 0.26125405 0.40884826\n",
            "  0.55796016 0.34303353 0.55772332 0.70522876 0.25137057 0.72841678\n",
            "  0.58112947 0.8754433  0.26976221 0.36353752 0.81697364 0.47303111\n",
            "  0.50356363 0.63652986 0.42610865 0.89608483 0.63194949 0.19959602\n",
            "  0.96056098 0.14763242 0.73469833 0.17520085 0.64278092 0.29902646\n",
            "  0.40990312 0.18679333 0.0482182  0.37542779 0.93635242 0.94649424\n",
            "  0.56033063 1.01089645 0.36074128 0.70032652 0.92753834 0.34594062\n",
            "  0.37492396 0.46314566 0.20874902 0.83568204 0.2370719  0.39310027\n",
            "  0.98930473 0.45851577 0.67493747 0.538908   0.85202711 0.46070556\n",
            "  0.57319491 0.67700484 0.47564324 0.12331562 0.84315753 0.61521735\n",
            "  0.35178592 0.65546053 0.35592185 0.23346745 0.63388219 0.22805562\n",
            "  0.35892909 0.6223131  0.95150912 0.44758201 0.76850735 0.61223543\n",
            "  0.82207199 0.87151303 0.48737914 0.63731881 0.47083219 0.15478794\n",
            "  0.76073207 0.34576115 0.33277748 0.45186677 0.17470305 0.5648385\n",
            "  0.62112149 0.43642071 0.57447955 0.81218771 0.76826659 0.6888172\n",
            "  0.61190148 0.81681474 0.59490502 0.63668725]\n",
            " [0.2774303  0.30681337 0.48378875 0.         0.20852148 0.11369381\n",
            "  0.16635366 0.56736177 0.33414038 0.39962257 0.30361142 0.34980076\n",
            "  0.65566917 0.49962555 0.15255913 0.41216373 0.44209368 0.60209665\n",
            "  0.5401908  0.72895255 0.26959328 0.71168218 0.33795047 0.37495313\n",
            "  0.67194663 0.6646964  0.40892289 0.41319989 0.17250636 0.55597163\n",
            "  0.4769671  0.4259495  0.71650579 0.33089309 0.35792946 0.63040472\n",
            "  0.47870885 0.30029941 0.46054057 0.46966851 0.7662922  0.4633904\n",
            "  0.75732894 0.8474965  0.12336761 0.32188864 0.5028681  0.4892362\n",
            "  0.45044132 0.17905739 0.52919762 0.57377667 0.25941221 0.11663961\n",
            "  0.84324275 0.03915228 0.43508979 0.2175107  0.36999694 0.04229067\n",
            "  0.70127393 0.21197174 0.06419079 0.36136104 0.54022249 0.45350872\n",
            "  0.19635249 0.6391243  0.23292848 0.4689212  0.38892837 0.36150527\n",
            "  0.44504599 0.62836206 0.74679486 0.38298152 0.29111118 0.42048663\n",
            "  0.35760116 0.72893771 0.72405117 0.66029724 0.25350813 0.57729587\n",
            "  0.28854348 0.26929417 0.25378521 0.34366983 0.59844084 0.19874297\n",
            "  0.18924336 0.75713986 0.40598792 0.54078122 0.29460346 0.2300174\n",
            "  0.3202219  0.63592564 0.59406501 0.36508151]\n",
            " [0.45678982 0.36681211 0.28333668 0.20852148 0.         0.2401257\n",
            "  0.36365596 0.6484405  0.18175625 0.23057807 0.11925178 0.33393743\n",
            "  0.52631496 0.40925494 0.31914369 0.46647528 0.25407848 0.57075095\n",
            "  0.46024443 0.71509694 0.08439558 0.51418156 0.53456159 0.38779177\n",
            "  0.51859151 0.56424811 0.38462012 0.62069537 0.37307238 0.35112679\n",
            "  0.68088831 0.26469838 0.63987003 0.16525166 0.40255654 0.43259367\n",
            "  0.42495973 0.09655839 0.25484726 0.31952039 0.76621538 0.66596844\n",
            "  0.5999617  0.84678168 0.09576118 0.43230817 0.65225802 0.40283584\n",
            "  0.30419754 0.19700591 0.32704653 0.6171232  0.05090246 0.15368279\n",
            "  0.83357454 0.17827565 0.45641857 0.27488159 0.57806759 0.17972142\n",
            "  0.56393209 0.41593734 0.21930434 0.16031168 0.60745124 0.42893301\n",
            "  0.17322474 0.5564571  0.12409155 0.27487259 0.40943084 0.2378715\n",
            "  0.37608631 0.53475099 0.76446636 0.29122659 0.49945763 0.41035647\n",
            "  0.53891446 0.71306473 0.55301942 0.56175352 0.31074922 0.36885456\n",
            "  0.47750182 0.14406639 0.1201827  0.26880309 0.39010235 0.29192841\n",
            "  0.37548089 0.56657183 0.37981001 0.58837855 0.50222784 0.40563753\n",
            "  0.36620082 0.6358497  0.50058397 0.40121732]\n",
            " [0.35976676 0.19334859 0.4761347  0.11369381 0.2401257  0.\n",
            "  0.14764543 0.67782972 0.29954339 0.36771232 0.35551584 0.24955232\n",
            "  0.74119508 0.41683564 0.08228365 0.52574125 0.49348847 0.71153879\n",
            "  0.63970263 0.84098509 0.31955998 0.75337636 0.39669756 0.26603193\n",
            "  0.7469688  0.76011729 0.30760616 0.43886139 0.16142633 0.58659394\n",
            "  0.51447882 0.38619217 0.81859364 0.30519806 0.47156244 0.67191622\n",
            "  0.38322011 0.31100974 0.46368534 0.54394533 0.87938277 0.50486744\n",
            "  0.83077393 0.96068574 0.14584939 0.43109625 0.59500502 0.40533528\n",
            "  0.52611556 0.28452402 0.56502075 0.68729713 0.28645519 0.08816319\n",
            "  0.95589702 0.14094059 0.54825012 0.33044904 0.39308612 0.14634187\n",
            "  0.78393957 0.2065076  0.04950776 0.36225286 0.6524561  0.5624135\n",
            "  0.13328356 0.73911624 0.31058396 0.51499792 0.50174189 0.30639305\n",
            "  0.35671786 0.72537541 0.86045147 0.47597743 0.30393258 0.53083089\n",
            "  0.433629   0.84079074 0.78921894 0.75623266 0.14160692 0.59377842\n",
            "  0.36076697 0.34532971 0.3252208  0.43978374 0.61583377 0.31233335\n",
            "  0.14498821 0.80669479 0.51390791 0.65423192 0.29976867 0.31882145\n",
            "  0.43374947 0.74869346 0.69073351 0.47851521]\n",
            " [0.26642622 0.27495018 0.61988758 0.16635366 0.36365596 0.14764543\n",
            "  0.         0.63076902 0.44687914 0.51507764 0.46767098 0.37015039\n",
            "  0.81698905 0.55017471 0.07891963 0.50945373 0.60684558 0.73247776\n",
            "  0.69098261 0.84619755 0.43280224 0.87483887 0.27234161 0.36632882\n",
            "  0.83702155 0.81880059 0.42312338 0.29352557 0.01525988 0.71475146\n",
            "  0.37229761 0.5338315  0.86191065 0.45153307 0.46777382 0.79331164\n",
            "  0.5045039  0.44669072 0.60401492 0.63536573 0.874758   0.36465482\n",
            "  0.92259802 0.95387488 0.26911915 0.38961664 0.5023548  0.538035\n",
            "  0.61595697 0.33184364 0.68987291 0.66452477 0.41371487 0.22681003\n",
            "  0.95482759 0.2052289  0.5496735  0.34567944 0.24765078 0.20758645\n",
            "  0.86377206 0.05893646 0.14604188 0.50247248 0.61650637 0.58843226\n",
            "  0.28083847 0.78824987 0.39907341 0.63253738 0.50837719 0.45308652\n",
            "  0.48679843 0.78112509 0.84542364 0.54197991 0.15745457 0.55160787\n",
            "  0.32535773 0.84723776 0.89035465 0.81392351 0.2450463  0.72941847\n",
            "  0.25370183 0.43543254 0.42013766 0.50091362 0.751147   0.31132405\n",
            "  0.03921752 0.92223856 0.54475049 0.6309417  0.15221603 0.24130421\n",
            "  0.43460245 0.74939678 0.74749406 0.47885792]\n",
            " [0.38060954 0.86974553 0.89058398 0.56736177 0.6484405  0.67782972\n",
            "  0.63076902 0.         0.82983765 0.87678841 0.62942421 0.91483849\n",
            "  0.61050041 1.04450986 0.68070528 0.18545679 0.68507733 0.32506316\n",
            "  0.43965491 0.32681596 0.62540087 0.89190908 0.44637152 0.94227889\n",
            "  0.69166494 0.53278764 0.97389294 0.57350467 0.62127664 0.82777117\n",
            "  0.54413692 0.91201714 0.49084533 0.81356932 0.2487555  0.83553575\n",
            "  1.03833765 0.72836621 0.8466096  0.59471236 0.31464544 0.52350376\n",
            "  0.75683217 0.37513971 0.6366584  0.24708659 0.23587533 1.03595078\n",
            "  0.58052311 0.45298245 0.79168145 0.11465658 0.67556582 0.67090685\n",
            "  0.39208699 0.55362466 0.22572391 0.37714496 0.57256505 0.54797745\n",
            "  0.65819185 0.6173966  0.62970819 0.78515865 0.05429562 0.31470661\n",
            "  0.74882554 0.47349565 0.54030397 0.71872752 0.25920015 0.88134026\n",
            "  0.99847447 0.49909312 0.25944585 0.46651562 0.58913203 0.29724199\n",
            "  0.36976535 0.33210748 0.78382727 0.52555524 0.81941198 0.89081057\n",
            "  0.41109816 0.54524924 0.56035287 0.44725721 0.90317526 0.37515088\n",
            "  0.66998295 0.88867134 0.33552839 0.10811496 0.6088867  0.39115097\n",
            "  0.28289239 0.24835853 0.48701068 0.25392977]\n",
            " [0.60851512 0.32044196 0.18974011 0.33414038 0.18175625 0.29954339\n",
            "  0.44687914 0.82983765 0.         0.06820011 0.24700273 0.2305762\n",
            "  0.64249936 0.23771702 0.37843552 0.64822917 0.3294507  0.73842798\n",
            "  0.61290883 0.88515861 0.22893407 0.52875669 0.67165344 0.29496027\n",
            "  0.61130268 0.70002743 0.26128867 0.73395789 0.46019452 0.35412354\n",
            "  0.80493338 0.09187465 0.78663007 0.02577921 0.58431235 0.4537598\n",
            "  0.2733923  0.12522561 0.19495939 0.43575865 0.93923434 0.79304528\n",
            "  0.68262746 1.01879622 0.21581582 0.60840686 0.82062095 0.2336751\n",
            "  0.42639663 0.37730116 0.34704374 0.79812854 0.16566513 0.22583426\n",
            "  1.00328071 0.31936526 0.63676355 0.45457848 0.68865755 0.32320206\n",
            "  0.67055718 0.50548685 0.30949831 0.11617799 0.789193   0.60245936\n",
            "  0.16827337 0.70312301 0.30018863 0.33156847 0.59022254 0.0660926\n",
            "  0.220118   0.67620043 0.94127539 0.45071964 0.60130965 0.58734039\n",
            "  0.68997027 0.88258048 0.61989551 0.69887335 0.28109968 0.33331705\n",
            "  0.62232909 0.31049292 0.2885259  0.43691647 0.35509816 0.46721499\n",
            "  0.44278682 0.59594725 0.55461716 0.76974917 0.59849569 0.55891358\n",
            "  0.54789597 0.81050609 0.64385412 0.58286013]\n",
            " [0.6718179  0.37649325 0.13443658 0.39962257 0.23057807 0.36771232\n",
            "  0.51507764 0.87678841 0.06820011 0.         0.2689138  0.27441811\n",
            "  0.64008782 0.23202047 0.4463295  0.69307845 0.32303816 0.76318056\n",
            "  0.62917115 0.91091526 0.25916965 0.49092081 0.73753645 0.33865098\n",
            "  0.59960551 0.70593218 0.29368831 0.80184932 0.5283922  0.31936461\n",
            "  0.8723009  0.03652272 0.79734717 0.06931672 0.62906496 0.4204576\n",
            "  0.28663615 0.15124932 0.15295188 0.43911619 0.96747803 0.86016748\n",
            "  0.66556455 1.04574131 0.27902232 0.66257213 0.87934303 0.2316357\n",
            "  0.43268574 0.42740973 0.31877657 0.83822924 0.20197676 0.29342391\n",
            "  1.02816971 0.38261351 0.67594884 0.50536413 0.75661038 0.38612403\n",
            "  0.66347477 0.57368598 0.37725555 0.11073521 0.83403683 0.63339532\n",
            "  0.23602261 0.71472932 0.33904638 0.31796374 0.63064167 0.09363253\n",
            "  0.23364105 0.68535969 0.97371109 0.47422262 0.66942737 0.62195892\n",
            "  0.75362352 0.90787916 0.59803088 0.70547375 0.34190675 0.28672504\n",
            "  0.68696269 0.34292792 0.32311873 0.46612767 0.30756414 0.52176632\n",
            "  0.51071987 0.56141006 0.58727227 0.81113996 0.66668507 0.62171855\n",
            "  0.59391147 0.84103538 0.65445758 0.62623991]\n",
            " [0.51133929 0.48451748 0.26125405 0.30361142 0.11925178 0.35551584\n",
            "  0.46767098 0.62942421 0.24700273 0.2689138  0.         0.44099361\n",
            "  0.41161069 0.48466822 0.43166942 0.44402041 0.13941157 0.49454506\n",
            "  0.36593447 0.64214933 0.03595588 0.4081043  0.60080916 0.49865935\n",
            "  0.3996913  0.45790605 0.48693073 0.70224859 0.47526857 0.2586423\n",
            "  0.75381153 0.30536765 0.54088519 0.22290945 0.38153523 0.32693977\n",
            "  0.51556662 0.12208537 0.21844991 0.20293132 0.69858027 0.73693001\n",
            "  0.48073511 0.77686154 0.20968825 0.4455622  0.67616031 0.48064835\n",
            "  0.18923443 0.21482611 0.22866432 0.57809937 0.09049091 0.27128902\n",
            "  0.75963089 0.26700523 0.41618842 0.28524189 0.66227398 0.26632742\n",
            "  0.44708669 0.51557947 0.32866423 0.16272829 0.5824366  0.36560393\n",
            "  0.2900696  0.45720019 0.10103738 0.16531883 0.37372649 0.31233596\n",
            "  0.46353865 0.43171166 0.70588821 0.20558415 0.59068219 0.35703857\n",
            "  0.59103553 0.63919757 0.43445317 0.4561579  0.42913962 0.29516843\n",
            "  0.53857801 0.08464847 0.07490369 0.19834764 0.31386031 0.31727094\n",
            "  0.48418077 0.45480451 0.32087651 0.5532629  0.59616206 0.46090888\n",
            "  0.35107436 0.57262923 0.39864658 0.37549832]\n",
            " [0.60909784 0.1242188  0.40884826 0.34980076 0.33393743 0.24955232\n",
            "  0.37015039 0.91483849 0.2305762  0.27441811 0.44099361 0.\n",
            "  0.85195333 0.18626344 0.29144825 0.74994363 0.54965538 0.89731752\n",
            "  0.79398412 1.03775033 0.41182326 0.7591063  0.63890581 0.06459204\n",
            "  0.83095539 0.89691239 0.05914875 0.65766555 0.38540653 0.58463589\n",
            "  0.73988836 0.26745555 0.97380051 0.25409928 0.6902412  0.68432383\n",
            "  0.13495095 0.33395541 0.42296654 0.64282315 1.08407204 0.73366935\n",
            "  0.90607318 1.16556209 0.29148706 0.67114469 0.84451402 0.17357376\n",
            "  0.63006553 0.48238608 0.57727249 0.91048938 0.35051492 0.2451513\n",
            "  1.15571693 0.36127772 0.75914003 0.54715197 0.61242386 0.366952\n",
            "  0.8850192  0.42445924 0.29175024 0.3450678  0.88433779 0.75082691\n",
            "  0.17310194 0.89039259 0.45323863 0.55656176 0.71109613 0.18079294\n",
            "  0.12067228 0.86830485 1.07413104 0.62460727 0.52220774 0.72631317\n",
            "  0.6814903  1.03639475 0.84674714 0.89468317 0.12636002 0.55997166\n",
            "  0.60834179 0.47751837 0.45361586 0.59929017 0.58120943 0.54060378\n",
            "  0.34652589 0.82651741 0.70084331 0.8786187  0.51206367 0.56828235\n",
            "  0.65156665 0.95227029 0.83427873 0.69393215]\n",
            " [0.73636305 0.89275527 0.55796016 0.65566917 0.52631496 0.74119508\n",
            "  0.81698905 0.61050041 0.64249936 0.64008782 0.41161069 0.85195333\n",
            "  0.         0.87155929 0.80532505 0.48306998 0.31706678 0.30099273\n",
            "  0.17489023 0.40912351 0.44314083 0.33862916 0.83936273 0.91024067\n",
            "  0.09254133 0.1025802  0.89573627 0.97010935 0.81945344 0.38198578\n",
            "  0.99188699 0.6724068  0.20408839 0.61676432 0.4588172  0.32223041\n",
            "  0.91587219 0.52163826 0.51261199 0.20913497 0.47531721 0.97109592\n",
            "  0.14645441 0.52921865 0.60310263 0.58553751 0.7826948  0.87016776\n",
            "  0.22252004 0.48657624 0.35770506 0.5042013  0.50178195 0.66721234\n",
            "  0.49784197 0.61694549 0.41297669 0.49714144 0.94145376 0.61339271\n",
            "  0.05176473 0.84972574 0.70263873 0.53229449 0.55709675 0.31609257\n",
            "  0.69952061 0.15453387 0.43062756 0.32623528 0.41234339 0.7081857\n",
            "  0.86249265 0.11899977 0.51888475 0.2756858  0.89591351 0.35071284\n",
            "  0.79383265 0.40279929 0.18406578 0.10763825 0.83603364 0.45602674\n",
            "  0.77434912 0.39639843 0.41778805 0.31787068 0.4542087  0.54145346\n",
            "  0.84423345 0.30532966 0.32733109 0.50255013 0.90808285 0.69928379\n",
            "  0.46312086 0.40433229 0.12360454 0.44292025]\n",
            " [0.77274855 0.3078948  0.34303353 0.49962555 0.40925494 0.41683564\n",
            "  0.55017471 1.04450986 0.23771702 0.23202047 0.48466822 0.18626344\n",
            "  0.87155929 0.         0.47132916 0.86840201 0.55469829 0.97523194\n",
            "  0.85048275 1.12143808 0.46604867 0.70573164 0.81322201 0.2228088\n",
            "  0.83138101 0.93455557 0.1518251  0.84109    0.56538296 0.54157507\n",
            "  0.92207082 0.20241536 1.02318575 0.26188542 0.80543586 0.64182493\n",
            "  0.08462849 0.36269016 0.37627185 0.6684136  1.1743333  0.91482652\n",
            "  0.89587345 1.25441379 0.40827313 0.80982182 1.00246182 0.0127526\n",
            "  0.66058963 0.5940682  0.54592908 1.02361013 0.40201837 0.3839323\n",
            "  1.23974592 0.50033366 0.86445994 0.66774241 0.79554555 0.50549664\n",
            "  0.8954876  0.60635537 0.45087803 0.33959808 1.00794828 0.83700448\n",
            "  0.30355001 0.93986959 0.53242747 0.54990578 0.81696614 0.1734385\n",
            "  0.06565901 0.91211888 1.17371568 0.68821217 0.70500868 0.81956133\n",
            "  0.84921369 1.11902837 0.82635854 0.93373667 0.31107141 0.49538667\n",
            "  0.77680408 0.54618854 0.52350964 0.67301045 0.51340501 0.67138031\n",
            "  0.52957977 0.77923937 0.78838139 0.99377192 0.69583227 0.72803214\n",
            "  0.76760938 1.04459289 0.88023789 0.80597123]\n",
            " [0.33216222 0.20145887 0.55772332 0.15255913 0.31914369 0.08228365\n",
            "  0.07891963 0.68070528 0.37843552 0.4463295  0.43166942 0.29144825\n",
            "  0.80532505 0.47132916 0.         0.54433797 0.57065406 0.75058363\n",
            "  0.69274882 0.87275045 0.39584055 0.83326977 0.3488737  0.29030656\n",
            "  0.81675195 0.8170179  0.34505154 0.37113654 0.09416752 0.66777393\n",
            "  0.45089022 0.46269054 0.86877112 0.3855939  0.49612892 0.75170394\n",
            "  0.42600795 0.39304957 0.54590839 0.61354907 0.90623825 0.44350775\n",
            "  0.90141189 0.98666803 0.22358237 0.4348117  0.57001453 0.4591655\n",
            "  0.59501759 0.33141431 0.64548558 0.70366687 0.36679894 0.16983706\n",
            "  0.98484033 0.18969855 0.57634062 0.36235619 0.32533221 0.19388332\n",
            "  0.8498364  0.13564072 0.10422313 0.44451231 0.66140956 0.60298702\n",
            "  0.21033098 0.79165608 0.37711421 0.59347897 0.53204276 0.37925667\n",
            "  0.40788107 0.78084103 0.88177449 0.53453387 0.23477071 0.56854773\n",
            "  0.39736158 0.87318162 0.86309866 0.81268094 0.16703093 0.67597659\n",
            "  0.32453911 0.4129743  0.39461804 0.49581403 0.6980147  0.33530369\n",
            "  0.06443189 0.88510672 0.5564119  0.67011896 0.22754259 0.29978645\n",
            "  0.46021366 0.77775511 0.74650168 0.50531356]\n",
            " [0.30756901 0.71897706 0.70522876 0.41216373 0.46647528 0.52574125\n",
            "  0.50945373 0.18545679 0.64822917 0.69307845 0.44402041 0.74994363\n",
            "  0.48306998 0.86840201 0.54433797 0.         0.50544356 0.25720742\n",
            "  0.30878356 0.34187574 0.44012331 0.72843466 0.40193936 0.78348272\n",
            "  0.55241185 0.42722805 0.80838493 0.53938357 0.50324457 0.64973443\n",
            "  0.53847703 0.72860732 0.42054567 0.63101123 0.06402846 0.66616994\n",
            "  0.86809172 0.54381972 0.66147659 0.42513377 0.36555251 0.51687956\n",
            "  0.62720826 0.44442278 0.46370249 0.13496255 0.29976722 0.86044785\n",
            "  0.40897141 0.27433386 0.61363808 0.16167704 0.49136848 0.50484561\n",
            "  0.44613261 0.39134712 0.07142597 0.20305666 0.52367504 0.38559421\n",
            "  0.53418563 0.51129423 0.47630301 0.59997072 0.14104674 0.16698906\n",
            "  0.57958621 0.37412405 0.35538196 0.53966123 0.0804268  0.70196036\n",
            "  0.82562608 0.38838507 0.33745557 0.29062001 0.51145557 0.13500703\n",
            "  0.33839459 0.343882   0.6402469  0.42025383 0.66515314 0.71016814\n",
            "  0.34606297 0.35979571 0.37501039 0.26622889 0.72352786 0.21342186\n",
            "  0.5476767  0.73410759 0.16770847 0.12899403 0.52923296 0.29337747\n",
            "  0.10083634 0.24387707 0.36620837 0.06855891]\n",
            " [0.63064755 0.60954011 0.25137057 0.44209368 0.25407848 0.49348847\n",
            "  0.60684558 0.68507733 0.3294507  0.32303816 0.13941157 0.54965538\n",
            "  0.31706678 0.55469829 0.57065406 0.50544356 0.         0.48289685\n",
            "  0.33152134 0.62829021 0.17495234 0.27135537 0.72519702 0.61127512\n",
            "  0.28216713 0.38746399 0.58823607 0.83351428 0.61419893 0.14517842\n",
            "  0.88035607 0.35544321 0.48394129 0.30370938 0.44924968 0.19152872\n",
            "  0.6017008  0.21595476 0.20354951 0.12407709 0.69078169 0.86252367\n",
            "  0.35657855 0.76328548 0.34776172 0.53903222 0.77026876 0.55356826\n",
            "  0.12497773 0.33026805 0.10946865 0.61341217 0.213226   0.4077467\n",
            "  0.74034913 0.4047946  0.46028132 0.38810442 0.79496695 0.40372888\n",
            "  0.34170839 0.65397167 0.46796375 0.21623791 0.63354788 0.38491395\n",
            "  0.41620713 0.40415371 0.22158876 0.03473135 0.42685394 0.39414205\n",
            "  0.54811593 0.37139198 0.71085711 0.21955898 0.72647408 0.39092792\n",
            "  0.70726749 0.62401034 0.30171887 0.38778574 0.55650605 0.20593226\n",
            "  0.66105628 0.18973504 0.19558529 0.23923499 0.21821296 0.4270553\n",
            "  0.62358858 0.31543769 0.35198289 0.59439074 0.73281689 0.58182059\n",
            "  0.42717074 0.57644622 0.34356161 0.43905592]\n",
            " [0.56216371 0.89655738 0.72841678 0.60209665 0.57075095 0.71153879\n",
            "  0.73247776 0.32506316 0.73842798 0.76318056 0.49454506 0.89731752\n",
            "  0.30099273 0.97523194 0.75058363 0.25720742 0.48289685 0.\n",
            "  0.15755356 0.14791584 0.50949403 0.61999273 0.65869653 0.94330075\n",
            "  0.3902736  0.21163446 0.95166602 0.79614536 0.72926006 0.60487855\n",
            "  0.79500527 0.79952184 0.16949632 0.7155947  0.27248693 0.581067\n",
            "  0.99571065 0.615614   0.68029105 0.36374948 0.20806905 0.77338698\n",
            "  0.44365216 0.28330083 0.60837714 0.38996972 0.53130259 0.97005126\n",
            "  0.35847813 0.42755217 0.57140994 0.21195298 0.57323347 0.66470046\n",
            "  0.26510301 0.57067323 0.1931911  0.38872848 0.77887365 0.56536729\n",
            "  0.34369234 0.74549131 0.66357201 0.65465814 0.27557287 0.14923139\n",
            "  0.72531128 0.15185621 0.44695663 0.50989672 0.2263304  0.80179347\n",
            "  0.94648593 0.18280306 0.23206142 0.28898719 0.75957556 0.18203927\n",
            "  0.59546357 0.14470594 0.4836234  0.20454271 0.83911274 0.67755931\n",
            "  0.60115005 0.42934218 0.45245847 0.30256686 0.68366339 0.4211841\n",
            "  0.76807314 0.60012327 0.19854145 0.21913026 0.77621347 0.5418612\n",
            "  0.30022185 0.10465066 0.18127192 0.25866071]\n",
            " [0.57598872 0.81164966 0.58112947 0.5401908  0.46024443 0.63970263\n",
            "  0.69098261 0.43965491 0.61290883 0.62917115 0.36593447 0.79398412\n",
            "  0.17489023 0.85048275 0.69274882 0.30878356 0.33152134 0.15755356\n",
            "  0.         0.29802309 0.38766257 0.46662433 0.67845815 0.84584449\n",
            "  0.25201861 0.13067172 0.84469774 0.81243162 0.69101991 0.44810583\n",
            "  0.82781923 0.66484838 0.1807591  0.58860531 0.28909303 0.42420864\n",
            "  0.87986007 0.48779439 0.53292925 0.20924571 0.36206866 0.8066769\n",
            "  0.32059942 0.43229287 0.51659528 0.41726135 0.60810182 0.8465747\n",
            "  0.20662088 0.36171177 0.41513998 0.33817887 0.45211425 0.578264\n",
            "  0.40883136 0.50380824 0.23827932 0.35173819 0.78712677 0.49928197\n",
            "  0.22557131 0.71586941 0.59550399 0.51872514 0.38567549 0.14219806\n",
            "  0.62730909 0.09942251 0.34274264 0.35631434 0.24094009 0.6782479\n",
            "  0.82850468 0.09126644 0.38961468 0.16963231 0.75018742 0.17879089\n",
            "  0.62780873 0.29340214 0.34432374 0.12492243 0.7536609  0.52133508\n",
            "  0.61480781 0.31647265 0.34037051 0.20055739 0.52680625 0.39363865\n",
            "  0.72240294 0.4532503  0.16147611 0.33260866 0.76416373 0.54331371\n",
            "  0.29865986 0.2597482  0.06066476 0.27300243]\n",
            " [0.64557683 1.02984694 0.8754433  0.72895255 0.71509694 0.84098509\n",
            "  0.84619755 0.32681596 0.88515861 0.91091526 0.64214933 1.03775033\n",
            "  0.40912351 1.12143808 0.87275045 0.34187574 0.62829021 0.14791584\n",
            "  0.29802309 0.         0.65630099 0.74370883 0.73340313 1.08139015\n",
            "  0.50165583 0.30775998 1.09309894 0.8691717  0.84119017 0.745261\n",
            "  0.85434281 0.94728525 0.22033464 0.86259457 0.3784729  0.71304896\n",
            "  1.13972263 0.76290389 0.82726507 0.50713624 0.06643561 0.83295876\n",
            "  0.53846784 0.13552958 0.74700798 0.47511569 0.55984373 1.11599913\n",
            "  0.50339283 0.56066379 0.71280468 0.22122809 0.71968445 0.80076575\n",
            "  0.11847778 0.70038391 0.29689275 0.51171093 0.85861084 0.6948606\n",
            "  0.44177416 0.85196145 0.79205869 0.8025423  0.29364043 0.28716914\n",
            "  0.86494029 0.25588452 0.59101396 0.65408602 0.34077438 0.948049\n",
            "  1.09118003 0.29337604 0.11672609 0.43669451 0.8525815  0.31246663\n",
            "  0.66270816 0.00707384 0.59211634 0.30200258 0.97308148 0.81894568\n",
            "  0.68289525 0.57524968 0.59803404 0.44843856 0.82373852 0.53782165\n",
            "  0.88346211 0.71445268 0.33706514 0.24715543 0.87063447 0.63501755\n",
            "  0.41288615 0.09801176 0.30506295 0.36799116]\n",
            " [0.48646495 0.45088165 0.26976221 0.26959328 0.08439558 0.31955998\n",
            "  0.43280224 0.62540087 0.22893407 0.25916965 0.03595588 0.41182326\n",
            "  0.44314083 0.46604867 0.39584055 0.44012331 0.17495234 0.50949403\n",
            "  0.38766257 0.65630099 0.         0.44227702 0.57351139 0.46814834\n",
            "  0.43421727 0.48521855 0.45954427 0.67178138 0.44066887 0.28884384\n",
            "  0.72530846 0.29562322 0.56504631 0.20635165 0.3766586  0.36089062\n",
            "  0.49220206 0.10808812 0.2305099  0.23549192 0.71093109 0.70884466\n",
            "  0.51580377 0.79017468 0.17373387 0.43102181 0.65977948 0.46125672\n",
            "  0.22067869 0.19542683 0.26036382 0.58027791 0.06454341 0.2354757\n",
            "  0.77436988 0.23368089 0.41788989 0.26963785 0.63119443 0.23332187\n",
            "  0.47994591 0.48142606 0.29301165 0.15991726 0.58010869 0.37506269\n",
            "  0.25676907 0.48132612 0.08629932 0.19974118 0.37355212 0.29270271\n",
            "  0.44101334 0.45746204 0.71506588 0.22231947 0.55811008 0.36278945\n",
            "  0.56705331 0.65368026 0.47028438 0.48312033 0.39505003 0.32010351\n",
            "  0.51227624 0.08376751 0.06522703 0.2084388  0.33970079 0.29811703\n",
            "  0.44873437 0.49015004 0.32831402 0.5540554  0.56309642 0.43561823\n",
            "  0.34401779 0.58307759 0.42382765 0.37206399]\n",
            " [0.89641919 0.84227385 0.36353752 0.71168218 0.51418156 0.75337636\n",
            "  0.87483887 0.89190908 0.52875669 0.49092081 0.4081043  0.7591063\n",
            "  0.33862916 0.70573164 0.83326977 0.72843466 0.27135537 0.61999273\n",
            "  0.46662433 0.74370883 0.44227702 0.         0.9932709  0.82361217\n",
            "  0.24845486 0.44098515 0.78417106 1.10431676 0.88291422 0.1749138\n",
            "  1.14913009 0.51017462 0.54239602 0.50624468 0.68179393 0.08161751\n",
            "  0.77327952 0.44974253 0.33809316 0.30463245 0.81014423 1.13083366\n",
            "  0.25552408 0.86728348 0.6099056  0.78845876 1.01474082 0.70914302\n",
            "  0.32247255 0.59792187 0.18930303 0.80013785 0.46693485 0.66557383\n",
            "  0.83634898 0.67504093 0.66960996 0.64860244 1.06613581 0.67422559\n",
            "  0.32075492 0.92362461 0.732872   0.41763665 0.83781083 0.57720272\n",
            "  0.65798075 0.48803558 0.49238947 0.24279158 0.64816512 0.5819813\n",
            "  0.72182548 0.4503862  0.84860083 0.44232971 0.99770755 0.59767535\n",
            "  0.97054493 0.73770721 0.17603301 0.44563168 0.79481017 0.21056197\n",
            "  0.92839905 0.45926333 0.46673233 0.4765231  0.1939787  0.6901916\n",
            "  0.889181   0.07557971 0.56154256 0.78948989 1.00380082 0.84881559\n",
            "  0.66804829 0.72435768 0.44094612 0.66873356]\n",
            " [0.1030001  0.5471988  0.81697364 0.33795047 0.53456159 0.39669756\n",
            "  0.27234161 0.44637152 0.67165344 0.73753645 0.60080916 0.63890581\n",
            "  0.83936273 0.81322201 0.3488737  0.40193936 0.72519702 0.65869653\n",
            "  0.67845815 0.73340313 0.57351139 0.9932709  0.         0.63855414\n",
            "  0.88687276 0.80751521 0.69366567 0.13745836 0.25753128 0.85889112\n",
            "  0.15639593 0.76327639 0.81780378 0.66884166 0.39441573 0.91584572\n",
            "  0.77383595 0.63058632 0.7892345  0.70625682 0.74254123 0.13757925\n",
            "  0.97064997 0.81302113 0.46020822 0.26916931 0.25521973 0.80155916\n",
            "  0.68608076 0.39542936 0.827313   0.51922687 0.58350549 0.44832002\n",
            "  0.82379381 0.35882419 0.46676306 0.351334   0.12674142 0.3563855\n",
            "  0.89073814 0.22791826 0.36840085 0.69367166 0.45354403 0.54377518\n",
            "  0.5217071  0.76141515 0.50481465 0.75749447 0.44404789 0.69419972\n",
            "  0.75197624 0.76754996 0.69724523 0.57859337 0.15759106 0.50406991\n",
            "  0.07727661 0.73656721 0.96043477 0.80114112 0.51584126 0.89349406\n",
            "  0.06591938 0.53546225 0.53159413 0.53668355 0.91321152 0.30714104\n",
            "  0.30411493 1.02377034 0.51700435 0.48894863 0.17735314 0.1451499\n",
            "  0.37985488 0.63698148 0.73911879 0.4102017 ]\n",
            " [0.61903083 0.09446297 0.47303111 0.37495313 0.38779177 0.26603193\n",
            "  0.36632882 0.94227889 0.29496027 0.33865098 0.49865935 0.06459204\n",
            "  0.91024067 0.2228088  0.29030656 0.78348272 0.61127512 0.94330075\n",
            "  0.84584449 1.08139015 0.46814834 0.82361217 0.63855414 0.\n",
            "  0.89181499 0.95202586 0.07112964 0.64367919 0.38130266 0.64907513\n",
            "  0.72788891 0.3304303  1.02627728 0.31822664 0.72565883 0.74862577\n",
            "  0.15173473 0.39532366 0.48755564 0.70129639 1.12552652 0.72349386\n",
            "  0.9678507  1.20713035 0.33493    0.69623314 0.85656274 0.21024267\n",
            "  0.68788304 0.52209717 0.64134844 0.94493087 0.40849343 0.28150371\n",
            "  1.19877697 0.39216787 0.79757122 0.58225467 0.59943107 0.39792008\n",
            "  0.94447038 0.4161825  0.3128937  0.40895782 0.9146773  0.79547502\n",
            "  0.21898415 0.94322157 0.50344475 0.61920337 0.74977024 0.245028\n",
            "  0.15949132 0.92238003 1.11259842 0.67621248 0.51074604 0.76903916\n",
            "  0.6872227  1.08034718 0.90955224 0.94954517 0.12618431 0.62448785\n",
            "  0.6141772  0.52981481 0.50603108 0.64876073 0.64568729 0.57135166\n",
            "  0.33744565 0.890828   0.74552771 0.91247581 0.49853324 0.58175383\n",
            "  0.68707745 0.9937132  0.8881035  0.73052274]\n",
            " [0.78433765 0.88390601 0.50356363 0.67194663 0.51859151 0.7469688\n",
            "  0.83702155 0.69166494 0.61130268 0.59960551 0.3996913  0.83095539\n",
            "  0.09254133 0.83138101 0.81675195 0.55241185 0.28216713 0.3902736\n",
            "  0.25201861 0.50165583 0.43421727 0.24845486 0.88687276 0.89181499\n",
            "  0.         0.19478236 0.8703737  1.01342788 0.84110766 0.31468538\n",
            "  1.04176199 0.62944229 0.29440473 0.5856134  0.52069549 0.24154044\n",
            "  0.88247446 0.49701888 0.46116589 0.2032396  0.56785828 1.02149159\n",
            "  0.08583878 0.62119666 0.60372943 0.64375119 0.85156568 0.83124114\n",
            "  0.22180829 0.51407515 0.29613506 0.58859786 0.48643162 0.66734265\n",
            "  0.58940111 0.63279517 0.48457376 0.53751999 0.98184897 0.62994011\n",
            "  0.07540091 0.87477526 0.71266186 0.49679656 0.63769297 0.38684447\n",
            "  0.68937951 0.2466741  0.43996557 0.28177608 0.47722896 0.67545447\n",
            "  0.8288557  0.21035909 0.61102032 0.30937846 0.92940835 0.41762804\n",
            "  0.84728527 0.49533842 0.09347026 0.20006192 0.82880842 0.38591882\n",
            "  0.82111444 0.40387511 0.42233024 0.35207199 0.38102194 0.58228048\n",
            "  0.86106487 0.21280942 0.38904351 0.58444801 0.94001856 0.74365215\n",
            "  0.51937908 0.49439937 0.20962305 0.50532809]\n",
            " [0.70538079 0.92499385 0.63652986 0.6646964  0.56424811 0.76011729\n",
            "  0.81880059 0.53278764 0.70002743 0.70593218 0.45790605 0.89691239\n",
            "  0.1025802  0.93455557 0.8170179  0.42722805 0.38746399 0.21163446\n",
            "  0.13067172 0.30775998 0.48521855 0.44098515 0.80751521 0.95202586\n",
            "  0.19478236 0.         0.94451024 0.94214755 0.81936238 0.47244183\n",
            "  0.9554182  0.73996635 0.10369529 0.67470029 0.41534159 0.42088853\n",
            "  0.97217664 0.57574354 0.58957964 0.26685217 0.37368757 0.93414023\n",
            "  0.23441817 0.4266386  0.63039074 0.54364393 0.72238428 0.93202638\n",
            "  0.27398019 0.48776525 0.44503465 0.42195469 0.54786778 0.69355705\n",
            "  0.39536855 0.62738196 0.35580725 0.4819942  0.9174171  0.62313505\n",
            "  0.13528234 0.84526248 0.71763804 0.59576691 0.48102312 0.26560737\n",
            "  0.73582012 0.05980666 0.45480775 0.40311815 0.36614854 0.76611687\n",
            "  0.91950132 0.03996564 0.41936875 0.28417709 0.8808238  0.30450435\n",
            "  0.75480119 0.30130374 0.28436167 0.00724179 0.86727849 0.54725354\n",
            "  0.74434381 0.42434774 0.44763362 0.32128086 0.54743226 0.52418235\n",
            "  0.84930684 0.40720107 0.29125488 0.42498047 0.89472618 0.67360903\n",
            "  0.42775463 0.31114893 0.07143217 0.39926071]\n",
            " [0.66661386 0.16091866 0.42610865 0.40892289 0.38462012 0.30760616\n",
            "  0.42312338 0.97389294 0.26128867 0.29368831 0.48693073 0.05914875\n",
            "  0.89573627 0.1518251  0.34505154 0.80838493 0.58823607 0.95166602\n",
            "  0.84469774 1.09309894 0.45954427 0.78417106 0.69366567 0.07112964\n",
            "  0.8703737  0.94451024 0.         0.70679304 0.43832486 0.61121082\n",
            "  0.79006855 0.27957273 1.02377532 0.28640852 0.74837832 0.71194114\n",
            "  0.08317071 0.37459612 0.44611202 0.68681577 1.1402732  0.78468703\n",
            "  0.94328459 1.22168185 0.34828887 0.7302924  0.90257577 0.13932553\n",
            "  0.67501469 0.53973955 0.6069649  0.96870123 0.39668015 0.30380863\n",
            "  1.21124754 0.42029145 0.81651664 0.6054664  0.66198333 0.4259556\n",
            "  0.92694298 0.47580273 0.3505555  0.37746635 0.94316217 0.8059772\n",
            "  0.2300394  0.94016801 0.50599527 0.59238383 0.76844573 0.20244132\n",
            "  0.08970055 0.91698129 1.13131777 0.67584668 0.57235166 0.78230382\n",
            "  0.73808954 1.0916064  0.88118242 0.9425444  0.1780934  0.58007779\n",
            "  0.66489824 0.52867748 0.50478118 0.65208147 0.60058806 0.59950937\n",
            "  0.39724566 0.85368739 0.75604141 0.9369498  0.56119608 0.62642585\n",
            "  0.70971358 1.00855126 0.88324232 0.75181802]\n",
            " [0.23704701 0.54924551 0.89608483 0.41319989 0.62069537 0.43886139\n",
            "  0.29352557 0.57350467 0.73395789 0.80184932 0.70224859 0.65766555\n",
            "  0.97010935 0.84109    0.37113654 0.53938357 0.83351428 0.79614536\n",
            "  0.81243162 0.8691717  0.67178138 1.10431676 0.13745836 0.64367919\n",
            "  1.01342788 0.94214755 0.70679304 0.         0.27876017 0.96050147\n",
            "  0.0860834  0.82321534 0.95475809 0.73560315 0.53082901 1.02504291\n",
            "  0.78966773 0.71349905 0.87374043 0.82669221 0.87608693 0.08827614\n",
            "  1.09808051 0.94474429 0.53546707 0.40647957 0.3604879  0.8287408\n",
            "  0.80640617 0.50931484 0.93088288 0.65299922 0.67133941 0.50858567\n",
            "  0.95698842 0.44270919 0.60407431 0.47591185 0.04587719 0.44176688\n",
            "  1.02113633 0.23550119 0.42464663 0.77427214 0.58544437 0.67960913\n",
            "  0.57169673 0.89717287 0.61199769 0.8642468  0.58039219 0.74525095\n",
            "  0.77672451 0.9021977  0.82862109 0.70407868 0.13636852 0.63978363\n",
            "  0.2069077  0.87250038 1.0834955  0.93588521 0.53130766 0.98800441\n",
            "  0.19790339 0.64519485 0.63795044 0.66150868 1.008686   0.43114926\n",
            "  0.31152417 1.13976586 0.6510285  0.62352953 0.1456535  0.27083418\n",
            "  0.5145114  0.77324816 0.87307222 0.5464843 ]\n",
            " [0.25416674 0.28967275 0.63194949 0.17250636 0.37307238 0.16142633\n",
            "  0.01525988 0.62127664 0.46019452 0.5283922  0.47526857 0.38540653\n",
            "  0.81945344 0.56538296 0.09416752 0.50324457 0.61419893 0.72926006\n",
            "  0.69101991 0.84119017 0.44066887 0.88291422 0.25753128 0.38130266\n",
            "  0.84110766 0.81936238 0.43832486 0.27876017 0.         0.723961\n",
            "  0.35720136 0.54756107 0.86075235 0.46441254 0.46300787 0.80145596\n",
            "  0.51974381 0.45745515 0.61535767 0.63999838 0.86875141 0.34945747\n",
            "  0.92678405 0.94755216 0.27916468 0.38156901 0.48930196 0.55325178\n",
            "  0.62045775 0.333431   0.69862926 0.65719118 0.42338808 0.2388862\n",
            "  0.94905315 0.21092451 0.54504859 0.343795   0.23288344 0.2129198\n",
            "  0.86662468 0.04532128 0.15701268 0.51390136 0.60806101 0.58614576\n",
            "  0.29470732 0.78784067 0.40434924 0.64038104 0.50445334 0.46733415\n",
            "  0.50203964 0.78143949 0.83847288 0.54407783 0.14290094 0.54892691\n",
            "  0.31152318 0.84234986 0.89571977 0.81438618 0.26025839 0.73980695\n",
            "  0.24025207 0.44066242 0.42598287 0.50267029 0.7614626  0.30815481\n",
            "  0.05011237 0.929447   0.54313068 0.62364418 0.13839404 0.23089682\n",
            "  0.43050117 0.74412723 0.74798687 0.47444772]\n",
            " [0.76747711 0.66766961 0.19959602 0.55597163 0.35112679 0.58659394\n",
            "  0.71475146 0.82777117 0.35412354 0.31936461 0.2586423  0.58463589\n",
            "  0.38198578 0.54157507 0.66777393 0.64973443 0.14517842 0.60487855\n",
            "  0.44810583 0.745261   0.28884384 0.1749138  0.85889112 0.64907513\n",
            "  0.31468538 0.47244183 0.61121082 0.96050147 0.723961   0.\n",
            "  1.01236378 0.34160503 0.57523592 0.33139599 0.59422346 0.10110656\n",
            "  0.60469744 0.27816088 0.16682004 0.24294079 0.80997421 0.99534521\n",
            "  0.36359731 0.87792914 0.44635734 0.68330918 0.91483564 0.54380746\n",
            "  0.25238611 0.46753071 0.03611697 0.75175935 0.3015705  0.49843245\n",
            "  0.8518297  0.5215001  0.60228062 0.52996459 0.92003781 0.52150254\n",
            "  0.38804808 0.76631554 0.57019014 0.2428231  0.77561403 0.52218624\n",
            "  0.48528227 0.50313471 0.35476516 0.11050995 0.57060699 0.40877373\n",
            "  0.55233303 0.46672244 0.83636041 0.36125669 0.84621535 0.53177274\n",
            "  0.84581107 0.74030298 0.28864464 0.47470868 0.62087982 0.07489775\n",
            "  0.79602569 0.32701295 0.32780436 0.38380536 0.07881086 0.56720842\n",
            "  0.72599    0.24247869 0.49296722 0.73447234 0.850501   0.71763182\n",
            "  0.57234209 0.70361379 0.44529486 0.58380085]\n",
            " [0.25760972 0.63355675 0.96056098 0.4769671  0.68088831 0.51447882\n",
            "  0.37229761 0.54413692 0.80493338 0.8723009  0.75381153 0.73988836\n",
            "  0.99188699 0.92207082 0.45089022 0.53847703 0.88035607 0.79500527\n",
            "  0.82781923 0.85434281 0.72530846 1.14913009 0.15639593 0.72788891\n",
            "  1.04176199 0.9554182  0.79006855 0.0860834  0.35720136 1.01236378\n",
            "  0.         0.89531841 0.95873443 0.80490698 0.5401554  1.07134003\n",
            "  0.87271228 0.77565977 0.93553431 0.86258378 0.85479299 0.02162189\n",
            "  1.12508443 0.91909407 0.60031116 0.41208896 0.31646785 0.90983408\n",
            "  0.84242033 0.55121019 0.98134763 0.63423677 0.73085031 0.57911526\n",
            "  0.9343847  0.50287448 0.6069828  0.50747965 0.12853157 0.50119609\n",
            "  1.04345901 0.31575366 0.49577803 0.83774046 0.5636148  0.69009593\n",
            "  0.64604489 0.9070035  0.65934464 0.91231564 0.58956879 0.82004474\n",
            "  0.85817796 0.91553315 0.8030842  0.734186   0.21776402 0.65092811\n",
            "  0.20099494 0.85826798 1.11630841 0.94885431 0.61360313 1.04445839\n",
            "  0.22215418 0.69068572 0.68595892 0.69249903 1.06458067 0.4634258\n",
            "  0.39336803 1.18013758 0.66692816 0.60719129 0.22937278 0.30154576\n",
            "  0.52968232 0.76104507 0.88832902 0.55621053]\n",
            " [0.70029611 0.37691617 0.14763242 0.4259495  0.26469838 0.38619217\n",
            "  0.5338315  0.91201714 0.09187465 0.03652272 0.30536765 0.26745555\n",
            "  0.6724068  0.20241536 0.46269054 0.72860732 0.35544321 0.79952184\n",
            "  0.66484838 0.94728525 0.29562322 0.51017462 0.76327639 0.3304303\n",
            "  0.62944229 0.73996635 0.27957273 0.82321534 0.54756107 0.34160503\n",
            "  0.89531841 0.         0.8321465  0.10040199 0.66458151 0.44252624\n",
            "  0.26334951 0.18763612 0.17503789 0.47312015 1.00394524 0.88376441\n",
            "  0.69346271 1.08215349 0.30744411 0.69587597 0.91082872 0.2033386\n",
            "  0.4672277  0.46170313 0.34404233 0.87437754 0.23790307 0.3163989\n",
            "  1.06447596 0.41107304 0.71213968 0.53956731 0.77772148 0.41483777\n",
            "  0.69453083 0.59269715 0.39954777 0.14612758 0.86961122 0.66991778\n",
            "  0.25307257 0.74972665 0.3750594  0.34848708 0.66670579 0.09105684\n",
            "  0.21165478 0.71999442 1.0102316  0.51059163 0.68958485 0.65840914\n",
            "  0.78180495 0.94422532 0.62431887 0.73963882 0.34720613 0.30240297\n",
            "  0.71419865 0.37937001 0.35944257 0.50264985 0.32227593 0.55485197\n",
            "  0.52709075 0.58210669 0.62377328 0.84715564 0.68594294 0.65059265\n",
            "  0.62920172 0.87755429 0.68935393 0.66195515]\n",
            " [0.71840775 0.99228979 0.73469833 0.71650579 0.63987003 0.81859364\n",
            "  0.86191065 0.49084533 0.78663007 0.79734717 0.54088519 0.97380051\n",
            "  0.20408839 1.02318575 0.86877112 0.42054567 0.48394129 0.16949632\n",
            "  0.1807591  0.22033464 0.56504631 0.54239602 0.81780378 1.02627728\n",
            "  0.29440473 0.10369529 1.02377532 0.95475809 0.86075235 0.57523592\n",
            "  0.95873443 0.8321465  0.         0.76175273 0.42436481 0.5244811\n",
            "  1.05639    0.66149236 0.68724289 0.36083509 0.2836414  0.93716402\n",
            "  0.32048035 0.32859801 0.69730646 0.54888748 0.7007784  1.0199645\n",
            "  0.36505892 0.53744875 0.54710144 0.3763342  0.6290864  0.75878427\n",
            "  0.29568431 0.68109301 0.35190668 0.51730118 0.93440175 0.67635756\n",
            "  0.22729111 0.88230251 0.77352033 0.68666223 0.44329758 0.27912087\n",
            "  0.80791343 0.08373395 0.52344229 0.50198072 0.37512691 0.85249146\n",
            "  1.00442087 0.11260957 0.33637686 0.3502093  0.9072591  0.31869663\n",
            "  0.75810787 0.21340891 0.38004286 0.10071125 0.93429283 0.65011225\n",
            "  0.75766011 0.49656009 0.52040974 0.38087155 0.65070916 0.55592001\n",
            "  0.89492893 0.50454715 0.3180904  0.38712281 0.92268318 0.69286562\n",
            "  0.44515745 0.24904887 0.14299574 0.40901308]\n",
            " [0.60250975 0.33958197 0.17520085 0.33089309 0.16525166 0.30519806\n",
            "  0.45153307 0.81356932 0.02577921 0.06931672 0.22290945 0.25409928\n",
            "  0.61676432 0.26188542 0.3855939  0.63101123 0.30370938 0.7155947\n",
            "  0.58860531 0.86259457 0.20635165 0.50624468 0.66884166 0.31822664\n",
            "  0.5856134  0.67470029 0.28640852 0.73560315 0.46441254 0.33139599\n",
            "  0.80490698 0.10040199 0.76175273 0.         0.56700698 0.43047494\n",
            "  0.29911113 0.1008419  0.17538654 0.41016675 0.91721937 0.79244234\n",
            "  0.65717235 0.99652596 0.2097817  0.59555031 0.81072736 0.25825484\n",
            "  0.40096236 0.36208743 0.32317344 0.77929008 0.14417971 0.22712419\n",
            "  0.98058462 0.31333056 0.6175244  0.43980486 0.69059433 0.31681866\n",
            "  0.64477904 0.50972746 0.31108096 0.09130278 0.77205443 0.58087663\n",
            "  0.1771904  0.67830723 0.28029346 0.30613285 0.57134987 0.09159183\n",
            "  0.24579012 0.65113105 0.92026224 0.42739409 0.60427391 0.56669661\n",
            "  0.684333   0.85992321 0.59484338 0.67359765 0.29775724 0.31375738\n",
            "  0.61782525 0.28878849 0.26731598 0.4147296  0.33573476 0.45448827\n",
            "  0.4496355  0.57267496 0.53341765 0.7513326  0.6023072  0.55240194\n",
            "  0.53106402 0.78896372 0.61890803 0.56502912]\n",
            " [0.2941158  0.66410434 0.64278092 0.35792946 0.40255654 0.47156244\n",
            "  0.46777382 0.2487555  0.58431235 0.62906496 0.38153523 0.6902412\n",
            "  0.4588172  0.80543586 0.49612892 0.06402846 0.44924968 0.27248693\n",
            "  0.28909303 0.3784729  0.3766586  0.68179393 0.39441573 0.72565883\n",
            "  0.52069549 0.41534159 0.74837832 0.53082901 0.46300787 0.59422346\n",
            "  0.5401554  0.66458151 0.42436481 0.56700698 0.         0.6163491\n",
            "  0.80662123 0.47992377 0.59951156 0.37718444 0.41014184 0.51884049\n",
            "  0.59928269 0.49078752 0.40217376 0.12835445 0.33469706 0.79762615\n",
            "  0.35980963 0.21159298 0.55824271 0.22036505 0.42739425 0.44555088\n",
            "  0.48883041 0.33437436 0.08212514 0.14342533 0.51007388 0.32864156\n",
            "  0.51054317 0.47572035 0.42206374 0.53640402 0.20506789 0.14995935\n",
            "  0.51892055 0.36731528 0.2916127  0.48377327 0.04964325 0.63838212\n",
            "  0.76349399 0.37550634 0.38890037 0.23994587 0.48715614 0.11086254\n",
            "  0.33945961 0.37946502 0.6051208  0.40873953 0.60929604 0.65255679\n",
            "  0.33337447 0.29705801 0.31165578 0.2107859  0.66664542 0.16102604\n",
            "  0.50499074 0.69237265 0.13202261 0.18908532 0.50372865 0.26992641\n",
            "  0.03867595 0.2821453  0.34916114 0.01610602]\n",
            " [0.82009958 0.7640352  0.29902646 0.63040472 0.43259367 0.67191622\n",
            "  0.79331164 0.83553575 0.4537598  0.4204576  0.32693977 0.68432383\n",
            "  0.32223041 0.64182493 0.75170394 0.66616994 0.19152872 0.581067\n",
            "  0.42420864 0.71304896 0.36089062 0.08161751 0.91584572 0.74862577\n",
            "  0.24154044 0.42088853 0.71194114 1.02504291 0.80145596 0.10110656\n",
            "  1.07134003 0.44252624 0.5244811  0.43047494 0.6163491  0.\n",
            "  0.70572265 0.36963428 0.26789915 0.24139247 0.77914008 1.05331129\n",
            "  0.27520007 0.84143783 0.52830684 0.71817307 0.94670623 0.64431336\n",
            "  0.25721063 0.52046185 0.1091866  0.74918643 0.38551582 0.58418345\n",
            "  0.81255686 0.59394265 0.61086293 0.57407728 0.98641832 0.59321341\n",
            "  0.31694051 0.8423048  0.65125468 0.34057227 0.78190097 0.52204279\n",
            "  0.57805432 0.46087981 0.41309533 0.16177273 0.58575601 0.5095087\n",
            "  0.65341622 0.42316973 0.81256019 0.37651848 0.91709073 0.5388249\n",
            "  0.89538977 0.70747044 0.1964692  0.42444868 0.7156644  0.15527689\n",
            "  0.85133536 0.38072471 0.38710445 0.40770037 0.14501674 0.61476583\n",
            "  0.80756401 0.14220335 0.50140182 0.73597394 0.92294545 0.77188469\n",
            "  0.59999384 0.68395667 0.4080098  0.60405018]\n",
            " [0.74298432 0.24386144 0.40990312 0.47870885 0.42495973 0.38322011\n",
            "  0.5045039  1.03833765 0.2733923  0.28663615 0.51556662 0.13495095\n",
            "  0.91587219 0.08462849 0.42600795 0.86809172 0.6017008  0.99571065\n",
            "  0.87986007 1.13972263 0.49220206 0.77327952 0.77383595 0.15173473\n",
            "  0.88247446 0.97217664 0.08317071 0.78966773 0.51974381 0.60469744\n",
            "  0.87271228 0.26334951 1.05639    0.29911113 0.80662123 0.70572265\n",
            "  0.         0.39647199 0.43789936 0.70897787 1.18959909 0.86706825\n",
            "  0.95098392 1.27056343 0.40446753 0.79754242 0.97743692 0.07467597\n",
            "  0.69915633 0.59564114 0.60538787 1.02673225 0.42775562 0.36800634\n",
            "  1.2581853  0.48598119 0.8711084  0.66521851 0.74475777 0.49149661\n",
            "  0.94331978 0.55797179 0.42341343 0.38575584 1.0052111  0.85296151\n",
            "  0.28952781 0.97267587 0.54887409 0.60104963 0.82310391 0.20775436\n",
            "  0.05361927 0.94713029 1.18433127 0.71336883 0.65495429 0.83202487\n",
            "  0.81609486 1.13780527 0.88450427 0.97078716 0.25966711 0.56437189\n",
            "  0.74298722 0.56752681 0.54396811 0.69355791 0.58348363 0.66318808\n",
            "  0.47958741 0.8454462  0.80341087 0.99570372 0.64403553 0.70123666\n",
            "  0.76814771 1.05846792 0.91420194 0.80883952]\n",
            " [0.55332804 0.39734485 0.18679333 0.30029941 0.09655839 0.31100974\n",
            "  0.44669072 0.72836621 0.12522561 0.15124932 0.12208537 0.33395541\n",
            "  0.52163826 0.36269016 0.39304957 0.54381972 0.21595476 0.615614\n",
            "  0.48779439 0.76290389 0.10808812 0.44974253 0.63058632 0.39532366\n",
            "  0.49701888 0.57574354 0.37459612 0.71349905 0.45745515 0.27816088\n",
            "  0.77565977 0.18763612 0.66149236 0.1008419  0.47992377 0.36963428\n",
            "  0.39647199 0.         0.16024338 0.31330687 0.81830191 0.76112383\n",
            "  0.57253328 0.89719835 0.17939278 0.5222953  0.74572617 0.35887067\n",
            "  0.30281689 0.28448265 0.26057791 0.6872128  0.0536762  0.22326713\n",
            "  0.88069785 0.2728424  0.52487422 0.36211334 0.67017826 0.27474395\n",
            "  0.5523581  0.50162966 0.30065091 0.06383139 0.68451992 0.48298975\n",
            "  0.20843309 0.57794919 0.18866525 0.22567304 0.47983861 0.19099918\n",
            "  0.34376552 0.55129522 0.82310682 0.32700316 0.58918306 0.47080749\n",
            "  0.63543699 0.76011334 0.51563066 0.57442487 0.34689448 0.28323832\n",
            "  0.57396408 0.1917717  0.17189725 0.31603495 0.30517379 0.38362253\n",
            "  0.45355671 0.50957988 0.43639679 0.66040445 0.59058149 0.502163\n",
            "  0.44565282 0.69091819 0.51878934 0.4764353 ]\n",
            " [0.70893838 0.51484103 0.0482182  0.46054057 0.25484726 0.46368534\n",
            "  0.60401492 0.8466096  0.19495939 0.15295188 0.21844991 0.42296654\n",
            "  0.51261199 0.37627185 0.54590839 0.66147659 0.20354951 0.68029105\n",
            "  0.53292925 0.82726507 0.2305099  0.33809316 0.7892345  0.48755564\n",
            "  0.46116589 0.58957964 0.44611202 0.87374043 0.61535767 0.16682004\n",
            "  0.93553431 0.17503789 0.68724289 0.17538654 0.59951156 0.26789915\n",
            "  0.43789936 0.16024338 0.         0.3275334  0.88825476 0.92076545\n",
            "  0.52108303 0.9627088  0.33910337 0.66142274 0.89020004 0.37794318\n",
            "  0.32678702 0.42561823 0.1698165  0.78966683 0.20585303 0.37792827\n",
            "  0.94108702 0.43266775 0.62943841 0.5001027  0.8303732  0.43436576\n",
            "  0.52951708 0.65995971 0.45835485 0.10161321 0.79859711 0.56809624\n",
            "  0.34578558 0.60770309 0.31581849 0.18696051 0.58906715 0.24415338\n",
            "  0.3855175  0.57477623 0.90376411 0.40022919 0.74889336 0.56591175\n",
            "  0.79068034 0.82332236 0.45023361 0.59024271 0.47279493 0.13844593\n",
            "  0.73133867 0.30307704 0.29163345 0.40566038 0.16036373 0.52804095\n",
            "  0.60818439 0.40849415 0.52794744 0.7666301  0.74982525 0.65771287\n",
            "  0.56950376 0.76904553 0.54710707 0.59292029]\n",
            " [0.60583027 0.68630651 0.37542779 0.46966851 0.31952039 0.54394533\n",
            "  0.63536573 0.59471236 0.43575865 0.43911619 0.20293132 0.64282315\n",
            "  0.20913497 0.6684136  0.61354907 0.42513377 0.12407709 0.36374948\n",
            "  0.20924571 0.50713624 0.23549192 0.30463245 0.70625682 0.70129639\n",
            "  0.2032396  0.26685217 0.68681577 0.82669221 0.63999838 0.24294079\n",
            "  0.86258378 0.47312015 0.36083509 0.41016675 0.37718444 0.24139247\n",
            "  0.70897787 0.31330687 0.3275334  0.         0.57064875 0.84319624\n",
            "  0.28798044 0.64153686 0.40147488 0.48575586 0.71033074 0.66622693\n",
            "  0.02028918 0.31920853 0.20846168 0.51195366 0.29280406 0.46536327\n",
            "  0.61770053 0.43053403 0.36962099 0.3553554  0.79238345 0.42788175\n",
            "  0.24445482 0.67497833 0.50943529 0.32913637 0.54132382 0.28287293\n",
            "  0.49225721 0.28030527 0.23707004 0.14709019 0.34471004 0.50175855\n",
            "  0.6558455  0.24823131 0.59429573 0.13786533 0.7344311  0.29764865\n",
            "  0.6756621  0.50259884 0.25822871 0.2665487  0.6302138  0.31428744\n",
            "  0.64043029 0.20084609 0.219095   0.17424432 0.32161689 0.39916528\n",
            "  0.65851909 0.32074127 0.26003604 0.49681409 0.7438833  0.56119769\n",
            "  0.3639683  0.46099158 0.2196494  0.36425022]\n",
            " [0.66016636 1.07027522 0.93635242 0.7662922  0.76621538 0.87938277\n",
            "  0.874758   0.31464544 0.93923434 0.96747803 0.69858027 1.08407204\n",
            "  0.47531721 1.1743333  0.90623825 0.36555251 0.69078169 0.20806905\n",
            "  0.36206866 0.06643561 0.71093109 0.81014423 0.74254123 1.12552652\n",
            "  0.56785828 0.37368757 1.1402732  0.87608693 0.86875141 0.80997421\n",
            "  0.85479299 1.00394524 0.2836414  0.91721937 0.41014184 0.77914008\n",
            "  1.18959909 0.81830191 0.88825476 0.57064875 0.         0.83372677\n",
            "  0.60322689 0.08160845 0.79263436 0.49399262 0.55052077 1.16849012\n",
            "  0.56613936 0.60345417 0.77719794 0.22331469 0.7735693  0.84412206\n",
            "  0.08158302 0.73977976 0.33120371 0.54893566 0.86894148 0.7341518\n",
            "  0.50720684 0.87636572 0.83006788 0.86006258 0.29145508 0.33737763\n",
            "  0.91097689 0.32229589 0.6422849  0.717308   0.37774534 1.00122497\n",
            "  1.14195771 0.35980759 0.06570384 0.49396456 0.86973752 0.35803038\n",
            "  0.66922571 0.07255142 0.65802934 0.36803311 1.01419656 0.88338784\n",
            "  0.69613095 0.62875312 0.65101946 0.50249779 0.88857002 0.57113448\n",
            "  0.91276736 0.78062535 0.38643605 0.25416685 0.88838994 0.65461304\n",
            "  0.4466897  0.13184541 0.37124166 0.40158916]\n",
            " [0.23770692 0.62936347 0.94649424 0.4633904  0.66596844 0.50486744\n",
            "  0.36465482 0.52350376 0.79304528 0.86016748 0.73693001 0.73366935\n",
            "  0.97109592 0.91482652 0.44350775 0.51687956 0.86252367 0.77338698\n",
            "  0.8066769  0.83295876 0.70884466 1.13083366 0.13757925 0.72349386\n",
            "  1.02149159 0.93414023 0.78468703 0.08827614 0.34945747 0.99534521\n",
            "  0.02162189 0.88376441 0.93716402 0.79244234 0.51884049 1.05331129\n",
            "  0.86706825 0.76112383 0.92076545 0.84319624 0.83372677 0.\n",
            "  1.10467114 0.89834047 0.58674862 0.39071343 0.29711094 0.90267306\n",
            "  0.82305979 0.53295582 0.96408502 0.61296376 0.7157012  0.56738028\n",
            "  0.91342025 0.48828548 0.5854361  0.48793615 0.12627836 0.48643134\n",
            "  1.02269354 0.30921343 0.48444581 0.82349173 0.54246826 0.66876416\n",
            "  0.63564434 0.88559477 0.64180645 0.89466955 0.56822239 0.80962933\n",
            "  0.85129952 0.89426615 0.78228636 0.71423454 0.21275209 0.62963936\n",
            "  0.17955325 0.83686216 1.09646101 0.92756403 0.60757885 1.02835856\n",
            "  0.20295677 0.6727987  0.66850233 0.67267212 1.04834937 0.44404843\n",
            "  0.38748452 1.16118524 0.64587797 0.5858035  0.22587585 0.28253619\n",
            "  0.50867929 0.73955604 0.86716296 0.53490395]\n",
            " [0.86792577 0.96359785 0.56033063 0.75732894 0.5999617  0.83077393\n",
            "  0.92259802 0.75683217 0.68262746 0.66556455 0.48073511 0.90607318\n",
            "  0.14645441 0.89587345 0.90141189 0.62720826 0.35657855 0.44365216\n",
            "  0.32059942 0.53846784 0.51580377 0.25552408 0.97064997 0.9678507\n",
            "  0.08583878 0.23441817 0.94328459 1.09808051 0.92678405 0.36359731\n",
            "  1.12508443 0.69346271 0.32048035 0.65717235 0.59928269 0.27520007\n",
            "  0.95098392 0.57253328 0.52108303 0.28798044 0.60322689 1.10467114\n",
            "  0.         0.64801541 0.68681752 0.72408333 0.92696916 0.89656328\n",
            "  0.30692943 0.59987062 0.35178652 0.64979708 0.56564875 0.7501324\n",
            "  0.61393174 0.71817743 0.5578254  0.62221505 1.06691573 0.71538587\n",
            "  0.09995991 0.9605807  0.79724421 0.56688604 0.70350318 0.46037989\n",
            "  0.76923138 0.29292368 0.52501689 0.35105951 0.55429767 0.74546996\n",
            "  0.89746931 0.26100399 0.65229061 0.3943381  1.01509331 0.4934692\n",
            "  0.92948471 0.53174471 0.08042629 0.24108187 0.90916211 0.42897416\n",
            "  0.90500065 0.48882274 0.50680716 0.4371402  0.42013072 0.66697623\n",
            "  0.94635514 0.19773197 0.46726081 0.64882456 1.02578006 0.82794222\n",
            "  0.60016774 0.54512228 0.26982211 0.5836412 ]\n",
            " [0.73395349 1.15175259 1.01089645 0.8474965  0.84678168 0.96068574\n",
            "  0.95387488 0.37513971 1.01879622 1.04574131 0.77686154 1.16556209\n",
            "  0.52921865 1.25441379 0.98666803 0.44442278 0.76328548 0.28330083\n",
            "  0.43229287 0.13552958 0.79017468 0.86728348 0.81302113 1.20713035\n",
            "  0.62119666 0.4266386  1.22168185 0.94474429 0.94755216 0.87792914\n",
            "  0.91909407 1.08215349 0.32859801 0.99652596 0.49078752 0.84143783\n",
            "  1.27056343 0.89719835 0.9627088  0.64153686 0.08160845 0.89834047\n",
            "  0.64801541 0.         0.87415005 0.57046093 0.60917078 1.2487147\n",
            "  0.63832397 0.68506178 0.84601702 0.29575471 0.85316882 0.9257301\n",
            "  0.037251   0.82122595 0.41243872 0.63024294 0.9397242  0.81559012\n",
            "  0.5558633  0.95402845 0.9113371  0.93767613 0.35955272 0.41785069\n",
            "  0.99247485 0.38075679 0.72275779 0.7886054  0.45917644 1.08117031\n",
            "  1.22269845 0.41855984 0.1162019  0.57163077 0.94422572 0.43938311\n",
            "  0.73843111 0.13939478 0.70849617 0.42175515 1.09572994 0.95200166\n",
            "  0.76908541 0.70845044 0.73092884 0.581882   0.95612023 0.65181268\n",
            "  0.99207907 0.83271982 0.4671897  0.32809869 0.9631351  0.73076343\n",
            "  0.5276346  0.21342846 0.43437727 0.48258299]\n",
            " [0.39295359 0.29518133 0.36074128 0.12336761 0.09576118 0.14584939\n",
            "  0.26911915 0.6366584  0.21581582 0.27902232 0.20968825 0.29148706\n",
            "  0.60310263 0.40827313 0.22358237 0.46370249 0.34776172 0.60837714\n",
            "  0.51659528 0.74700798 0.17373387 0.6099056  0.46020822 0.33493\n",
            "  0.60372943 0.63039074 0.34828887 0.53546707 0.27916468 0.44635734\n",
            "  0.60031116 0.30744411 0.69730646 0.2097817  0.40217376 0.52830684\n",
            "  0.40446753 0.17939278 0.33910337 0.40147488 0.79263436 0.58674862\n",
            "  0.68681752 0.87415005 0.         0.40251893 0.60669177 0.39944648\n",
            "  0.3843834  0.19174927 0.42275038 0.62238084 0.14483622 0.06412236\n",
            "  0.86472871 0.10367017 0.46836763 0.26109247 0.49166595 0.10739683\n",
            "  0.64390347 0.32283322 0.12383902 0.23888204 0.60158086 0.46064538\n",
            "  0.1183975  0.61540005 0.17558334 0.36994439 0.42028722 0.25264486\n",
            "  0.36228446 0.59783669 0.78303916 0.34801265 0.40984294 0.43506681\n",
            "  0.47464733 0.7458262  0.64370723 0.6271191  0.2372507  0.46070765\n",
            "  0.40811909 0.20740414 0.1853644  0.31683982 0.48232177 0.26316983\n",
            "  0.27980429 0.66162748 0.41067407 0.59124795 0.41121312 0.34314875\n",
            "  0.36368191 0.66081552 0.56315882 0.40466202]\n",
            " [0.17271387 0.62268391 0.70032652 0.32188864 0.43230817 0.43109625\n",
            "  0.38961664 0.24708659 0.60840686 0.66257213 0.4455622  0.67114469\n",
            "  0.58553751 0.80982182 0.4348117  0.13496255 0.53903222 0.38996972\n",
            "  0.41726135 0.47511569 0.43102181 0.78845876 0.26916931 0.69623314\n",
            "  0.64375119 0.54364393 0.7302924  0.40647957 0.38156901 0.68330918\n",
            "  0.41208896 0.69587597 0.54888748 0.59555031 0.12835445 0.71817307\n",
            "  0.79754242 0.5222953  0.66142274 0.48575586 0.49399262 0.39071343\n",
            "  0.72408333 0.57046093 0.40251893 0.         0.23181983 0.80050671\n",
            "  0.46688557 0.23797373 0.64818988 0.27664388 0.46868614 0.42962288\n",
            "  0.5753737  0.31160267 0.19759995 0.16142886 0.38916323 0.30613065\n",
            "  0.63730219 0.38429842 0.38336334 0.58402886 0.22720973 0.27811189\n",
            "  0.50911824 0.49494021 0.34577122 0.57367643 0.17754501 0.65361983\n",
            "  0.76020294 0.50383223 0.45880395 0.34857011 0.37746807 0.2392109\n",
            "  0.21121689 0.47746145 0.72535704 0.53701651 0.57270236 0.73428033\n",
            "  0.21141708 0.36330088 0.37082359 0.31204301 0.75063314 0.14119188\n",
            "  0.42867451 0.80565863 0.25823458 0.24333475 0.39559762 0.1606453\n",
            "  0.12454343 0.3772004  0.47744782 0.14445696]\n",
            " [0.23791942 0.77115873 0.92753834 0.5028681  0.65225802 0.59500502\n",
            "  0.5023548  0.23587533 0.82062095 0.87934303 0.67616031 0.84451402\n",
            "  0.7826948  1.00246182 0.57001453 0.29976722 0.77026876 0.53130259\n",
            "  0.60810182 0.55984373 0.65977948 1.01474082 0.25521973 0.85656274\n",
            "  0.85156568 0.72238428 0.90257577 0.3604879  0.48930196 0.91483564\n",
            "  0.31646785 0.91082872 0.7007784  0.81072736 0.33469706 0.94670623\n",
            "  0.97743692 0.74572617 0.89020004 0.71033074 0.55052077 0.29711094\n",
            "  0.92696916 0.60917078 0.60669177 0.23181983 0.         0.99198595\n",
            "  0.69226857 0.46463705 0.87958071 0.33981122 0.69266853 0.61907416\n",
            "  0.62756866 0.50583266 0.36982616 0.39094152 0.3706961  0.50119917\n",
            "  0.833659   0.4701547  0.55420004 0.80867809 0.26708229 0.46670902\n",
            "  0.69917484 0.66652781 0.57565887 0.80496247 0.37475284 0.85874364\n",
            "  0.94688538 0.68457125 0.49435858 0.5724818  0.412375   0.4339946\n",
            "  0.18258845 0.56470206 0.93820337 0.71525558 0.7304504  0.96606744\n",
            "  0.24954304 0.59470128 0.60126918 0.53904617 0.98245288 0.36272673\n",
            "  0.53914098 1.02704112 0.46355909 0.31918475 0.43229371 0.27625031\n",
            "  0.34684458 0.47407468 0.6644738  0.34896645]\n",
            " [0.76179101 0.2951428  0.34594062 0.4892362  0.40283584 0.40533528\n",
            "  0.538035   1.03595078 0.2336751  0.2316357  0.48064835 0.17357376\n",
            "  0.87016776 0.0127526  0.4591655  0.86044785 0.55356826 0.97005126\n",
            "  0.8465747  1.11599913 0.46125672 0.70914302 0.80155916 0.21024267\n",
            "  0.83124114 0.93202638 0.13932553 0.8287408  0.55325178 0.54380746\n",
            "  0.90983408 0.2033386  1.0199645  0.25825484 0.79762615 0.64431336\n",
            "  0.07467597 0.35887067 0.37794318 0.66622693 1.16849012 0.90267306\n",
            "  0.89656328 1.2487147  0.39944648 0.80050671 0.99198595 0.\n",
            "  0.6580507  0.58613856 0.54732944 1.01613649 0.39702815 0.37382055\n",
            "  1.23436353 0.49056117 0.85735659 0.65940216 0.78321862 0.49576532\n",
            "  0.89475428 0.5940987  0.43987725 0.33791211 0.99976873 0.8311177\n",
            "  0.29340385 0.93654977 0.52633428 0.54957046 0.80977205 0.16859528\n",
            "  0.05293425 0.90914502 1.16724597 0.68354609 0.69269842 0.81318974\n",
            "  0.83801701 1.11365828 0.82765326 0.93111122 0.29852876 0.4990404\n",
            "  0.76552946 0.54080687 0.5179692  0.66765317 0.51736644 0.66241182\n",
            "  0.51722003 0.78234911 0.78233744 0.9861416  0.68344047 0.71730164\n",
            "  0.75969931 1.03851696 0.877077   0.79836542]\n",
            " [0.58574382 0.67095679 0.37492396 0.45044132 0.30419754 0.52611556\n",
            "  0.61595697 0.58052311 0.42639663 0.43268574 0.18923443 0.63006553\n",
            "  0.22252004 0.66058963 0.59501759 0.40897141 0.12497773 0.35847813\n",
            "  0.20662088 0.50339283 0.22067869 0.32247255 0.68608076 0.68788304\n",
            "  0.22180829 0.27398019 0.67501469 0.80640617 0.62045775 0.25238611\n",
            "  0.84242033 0.4672277  0.36505892 0.40096236 0.35980963 0.25721063\n",
            "  0.69915633 0.30281689 0.32678702 0.02028918 0.56613936 0.82305979\n",
            "  0.30692943 0.63832397 0.3843834  0.46688557 0.69226857 0.6580507\n",
            "  0.         0.29896744 0.21716532 0.50005504 0.27959923 0.44839259\n",
            "  0.61541585 0.41129373 0.35501663 0.33527344 0.77209854 0.4085648\n",
            "  0.26006917 0.65521309 0.49098838 0.32219179 0.52741091 0.27052001\n",
            "  0.47728123 0.28325421 0.2181612  0.15156634 0.32856787 0.49248272\n",
            "  0.646232   0.2527732  0.58770932 0.11994706 0.71427167 0.28328114\n",
            "  0.65581885 0.4990743  0.27841815 0.27316646 0.61457789 0.32209017\n",
            "  0.62026618 0.18207695 0.20095794 0.1550173  0.33061021 0.37901605\n",
            "  0.63942664 0.34031127 0.24519425 0.48395524 0.72378546 0.54100536\n",
            "  0.34563345 0.45377421 0.22262637 0.34716506]\n",
            " [0.30051523 0.46961402 0.46314566 0.17905739 0.19700591 0.28452402\n",
            "  0.33184364 0.45298245 0.37730116 0.42740973 0.21482611 0.48238608\n",
            "  0.48657624 0.5940682  0.33141431 0.27433386 0.33026805 0.42755217\n",
            "  0.36171177 0.56066379 0.19542683 0.59792187 0.39542936 0.52209717\n",
            "  0.51407515 0.48776525 0.53973955 0.50931484 0.333431   0.46753071\n",
            "  0.55121019 0.46170313 0.53744875 0.36208743 0.21159298 0.52046185\n",
            "  0.59564114 0.28448265 0.42561823 0.31920853 0.60345417 0.53295582\n",
            "  0.59987062 0.68506178 0.19174927 0.23797373 0.46463705 0.58613856\n",
            "  0.29896744 0.         0.43460122 0.43118645 0.23082652 0.24067025\n",
            "  0.67734941 0.14440548 0.27678529 0.07799128 0.47374965 0.13941371\n",
            "  0.53450796 0.36320642 0.2374893  0.34605614 0.41422079 0.27832117\n",
            "  0.30970299 0.4603653  0.11402859 0.36314643 0.22872405 0.42851772\n",
            "  0.551991   0.45071351 0.59175079 0.21091197 0.41579229 0.24842867\n",
            "  0.37828036 0.55998313 0.57734279 0.48310087 0.41255795 0.50958423\n",
            "  0.33090325 0.14092714 0.14085959 0.16924524 0.52775672 0.10277551\n",
            "  0.36157027 0.63062089 0.22946775 0.40050268 0.42600026 0.25156545\n",
            "  0.17356076 0.47166982 0.41669694 0.21321197]\n",
            " [0.73492886 0.65500697 0.20874902 0.52919762 0.32704653 0.56502075\n",
            "  0.68987291 0.79168145 0.34704374 0.31877657 0.22866432 0.57727249\n",
            "  0.35770506 0.54592908 0.64548558 0.61363808 0.10946865 0.57140994\n",
            "  0.41513998 0.71280468 0.26036382 0.18930303 0.827313   0.64134844\n",
            "  0.29613506 0.44503465 0.6069649  0.93088288 0.69862926 0.03611697\n",
            "  0.98134763 0.34404233 0.54710144 0.32317344 0.55824271 0.1091866\n",
            "  0.60538787 0.26057791 0.1698165  0.20846168 0.77719794 0.96408502\n",
            "  0.35178652 0.84601702 0.42275038 0.64818988 0.87958071 0.54732944\n",
            "  0.21716532 0.43460122 0.         0.71605067 0.27869731 0.47702151\n",
            "  0.82046838 0.49392024 0.56621663 0.49572944 0.89092079 0.49366016\n",
            "  0.36764567 0.74039748 0.54632539 0.23252596 0.73955819 0.48651916\n",
            "  0.46895474 0.47331004 0.32260378 0.07473964 0.53449165 0.40495967\n",
            "  0.55240555 0.43738363 0.80254042 0.32517162 0.81846944 0.4957764\n",
            "  0.81277102 0.70795869 0.28044505 0.44694978 0.60648059 0.10619799\n",
            "  0.76404208 0.29377313 0.29574733 0.34775574 0.11344516 0.533538\n",
            "  0.70252659 0.25051019 0.4569526  0.69857692 0.82330469 0.68535528\n",
            "  0.53659622 0.66943601 0.41472918 0.5477611 ]\n",
            " [0.43820919 0.8805799  0.83568204 0.57377667 0.6171232  0.68729713\n",
            "  0.66452477 0.11465658 0.79812854 0.83822924 0.57809937 0.91048938\n",
            "  0.5042013  1.02361013 0.70366687 0.16167704 0.61341217 0.21195298\n",
            "  0.33817887 0.22122809 0.58027791 0.80013785 0.51922687 0.94493087\n",
            "  0.58859786 0.42195469 0.96870123 0.65299922 0.65719118 0.75175935\n",
            "  0.63423677 0.87437754 0.3763342  0.77929008 0.22036505 0.74918643\n",
            "  1.02673225 0.6872128  0.78966683 0.51195366 0.22331469 0.61296376\n",
            "  0.64979708 0.29575471 0.62238084 0.27664388 0.33981122 1.01613649\n",
            "  0.50005504 0.43118645 0.71605067 0.         0.63658739 0.66560921\n",
            "  0.30462075 0.55288479 0.16238913 0.36337021 0.64565226 0.54713266\n",
            "  0.55034717 0.66094003 0.63788812 0.7392141  0.0727518  0.22959996\n",
            "  0.73928438 0.36228096 0.49943237 0.64561327 0.20794481 0.85463553\n",
            "  0.98309114 0.38985084 0.18233158 0.39445871 0.64848382 0.22413834\n",
            "  0.44609564 0.22569738 0.68166784 0.4147595  0.82682984 0.8187472\n",
            "  0.47354405 0.49699501 0.51545587 0.38402159 0.82915028 0.37504109\n",
            "  0.70329528 0.79112187 0.26272066 0.03361163 0.66742726 0.43600419\n",
            "  0.25900666 0.13519326 0.38072111 0.21801854]\n",
            " [0.50354674 0.39795008 0.2370719  0.25941221 0.05090246 0.28645519\n",
            "  0.41371487 0.67556582 0.16566513 0.20197676 0.09049091 0.35051492\n",
            "  0.50178195 0.40201837 0.36679894 0.49136848 0.213226   0.57323347\n",
            "  0.45211425 0.71968445 0.06454341 0.46693485 0.58350549 0.40849343\n",
            "  0.48643162 0.54786778 0.39668015 0.67133941 0.42338808 0.3015705\n",
            "  0.73085031 0.23790307 0.6290864  0.14417971 0.42739425 0.38551582\n",
            "  0.42775562 0.0536762  0.20585303 0.29280406 0.7735693  0.7157012\n",
            "  0.56564875 0.85316882 0.14483622 0.46868614 0.69266853 0.39702815\n",
            "  0.27959923 0.23082652 0.27869731 0.63658739 0.         0.19867233\n",
            "  0.83789448 0.22871523 0.47445747 0.30843719 0.62883306 0.22995268\n",
            "  0.5363501  0.46648795 0.26867181 0.11602224 0.63223959 0.43687045\n",
            "  0.20369751 0.54535296 0.1371753  0.23068534 0.42883086 0.2285876\n",
            "  0.37648066 0.52090656 0.77608705 0.28673463 0.55035884 0.42256578\n",
            "  0.58547013 0.71717786 0.5146368  0.5459738  0.34389525 0.31795552\n",
            "  0.52550505 0.14483448 0.12313675 0.27131564 0.33922277 0.33030091\n",
            "  0.42443179 0.5215344  0.38925818 0.60925446 0.55307912 0.4523194\n",
            "  0.39272151 0.64494556 0.487487   0.42432342]\n",
            " [0.39358906 0.23373989 0.39310027 0.11663961 0.15368279 0.08816319\n",
            "  0.22681003 0.67090685 0.22583426 0.29342391 0.27128902 0.2451513\n",
            "  0.66721234 0.3839323  0.16983706 0.50484561 0.4077467  0.66470046\n",
            "  0.578264   0.80076575 0.2354757  0.66557383 0.44832002 0.28150371\n",
            "  0.66734265 0.69355705 0.30380863 0.50858567 0.2388862  0.49843245\n",
            "  0.57911526 0.3163989  0.75878427 0.22712419 0.44555088 0.58418345\n",
            "  0.36800634 0.22326713 0.37792827 0.46536327 0.84412206 0.56738028\n",
            "  0.7501324  0.9257301  0.06412236 0.42962288 0.61907416 0.37382055\n",
            "  0.44839259 0.24067025 0.47702151 0.66560921 0.19867233 0.\n",
            "  0.91780779 0.11802069 0.5162128  0.30224672 0.46349884 0.12350464\n",
            "  0.70799919 0.28402344 0.0839635  0.27631609 0.63939973 0.51601173\n",
            "  0.0804187  0.67734588 0.23894755 0.4281749  0.46834916 0.24644594\n",
            "  0.33121147 0.6605718  0.83131994 0.41045348 0.37730919 0.48829935\n",
            "  0.47303198 0.7998983  0.70574105 0.69017482 0.17576101 0.50636777\n",
            "  0.40276703 0.27133912 0.24944828 0.37792657 0.52836307 0.29597189\n",
            "  0.23060537 0.71969839 0.46626436 0.63360328 0.37589987 0.34661884\n",
            "  0.40688242 0.71233966 0.62586749 0.4497596 ]\n",
            " [0.74174784 1.14580559 0.98930473 0.84324275 0.83357454 0.95589702\n",
            "  0.95482759 0.39208699 1.00328071 1.02816971 0.75963089 1.15571693\n",
            "  0.49784197 1.23974592 0.98484033 0.44613261 0.74034913 0.26510301\n",
            "  0.40883136 0.11847778 0.77436988 0.83634898 0.82379381 1.19877697\n",
            "  0.58940111 0.39536855 1.21124754 0.95698842 0.94905315 0.8518297\n",
            "  0.9343847  1.06447596 0.29568431 0.98058462 0.48883041 0.81255686\n",
            "  1.2581853  0.88069785 0.94108702 0.61770053 0.08158302 0.91342025\n",
            "  0.61393174 0.037251   0.86472871 0.5753737  0.62756866 1.23436353\n",
            "  0.61541585 0.67734941 0.82046838 0.30462075 0.83789448 0.91780779\n",
            "  0.         0.81570957 0.40871316 0.62573254 0.95026601 0.81013163\n",
            "  0.52289044 0.95727584 0.90674406 0.91936033 0.37181256 0.40548105\n",
            "  0.98280301 0.35171735 0.70949173 0.76474915 0.45431686 1.0663351\n",
            "  1.2096571  0.38938941 0.13366307 0.55405425 0.95130411 0.42976219\n",
            "  0.75019964 0.12071933 0.67570733 0.390759   1.08932038 0.92619842\n",
            "  0.77768172 0.69357426 0.71641833 0.56673779 0.92969873 0.6495413\n",
            "  0.9926649  0.8002232  0.45530997 0.33569971 0.96994052 0.73601333\n",
            "  0.52471877 0.20735629 0.4069959  0.47958949]\n",
            " [0.28928363 0.33056554 0.45851577 0.03915228 0.17827565 0.14094059\n",
            "  0.2052289  0.55362466 0.31936526 0.38261351 0.26700523 0.36127772\n",
            "  0.61694549 0.50033366 0.18969855 0.39134712 0.4047946  0.57067323\n",
            "  0.50380824 0.70038391 0.23368089 0.67504093 0.35882419 0.39216787\n",
            "  0.63279517 0.62738196 0.42029145 0.44270919 0.21092451 0.5215001\n",
            "  0.50287448 0.41107304 0.68109301 0.31333056 0.33437436 0.59394265\n",
            "  0.48598119 0.2728424  0.43266775 0.43053403 0.73977976 0.48828548\n",
            "  0.71817743 0.82122595 0.10367017 0.31160267 0.50583266 0.49056117\n",
            "  0.41129373 0.14440548 0.49392024 0.55288479 0.22871523 0.11802069\n",
            "  0.81570957 0.         0.40906446 0.19154232 0.40054388 0.00575293\n",
            "  0.66236102 0.24932014 0.09312839 0.33533637 0.52344081 0.42160949\n",
            "  0.19780606 0.6029636  0.19388077 0.43225869 0.36204951 0.35314059\n",
            "  0.44895558 0.59138254 0.72282081 0.34492254 0.32471731 0.3898944\n",
            "  0.37101164 0.70010546 0.68512696 0.62309102 0.27506992 0.54552051\n",
            "  0.30503808 0.23024639 0.21506747 0.30613567 0.56637712 0.17960476\n",
            "  0.22835914 0.71945981 0.373324   0.52033995 0.32941752 0.23954984\n",
            "  0.29602048 0.60870687 0.55697826 0.3402282 ]\n",
            " [0.36917382 0.73962427 0.67493747 0.43508979 0.45641857 0.54825012\n",
            "  0.5496735  0.22572391 0.63676355 0.67594884 0.41618842 0.75914003\n",
            "  0.41297669 0.86445994 0.57634062 0.07142597 0.46028132 0.1931911\n",
            "  0.23827932 0.29689275 0.41788989 0.66960996 0.46676306 0.79757122\n",
            "  0.48457376 0.35580725 0.81651664 0.60407431 0.54504859 0.60228062\n",
            "  0.6069828  0.71213968 0.35190668 0.6175244  0.08212514 0.61086293\n",
            "  0.8711084  0.52487422 0.62943841 0.36962099 0.33120371 0.5854361\n",
            "  0.5578254  0.41243872 0.46836763 0.19759995 0.36982616 0.85735659\n",
            "  0.35501663 0.27678529 0.56621663 0.16238913 0.47445747 0.5162128\n",
            "  0.40871316 0.40906446 0.         0.21782255 0.58588605 0.40340096\n",
            "  0.46384616 0.55777917 0.49889902 0.57691946 0.17335829 0.09774337\n",
            "  0.58647729 0.302979   0.33738045 0.49363646 0.04808078 0.69425648\n",
            "  0.82603753 0.3169655  0.31513453 0.24109612 0.56711916 0.0720743\n",
            "  0.4062299  0.29770527 0.5737061  0.34883832 0.68394463 0.66620017\n",
            "  0.40824605 0.33465356 0.35307892 0.22485369 0.67809234 0.24110729\n",
            "  0.5867208  0.6712632  0.1098534  0.13725485 0.58406266 0.34901957\n",
            "  0.11613676 0.20144718 0.29508719 0.07111459]\n",
            " [0.25047488 0.52196362 0.538908   0.2175107  0.27488159 0.33044904\n",
            "  0.34567944 0.37714496 0.45457848 0.50536413 0.28524189 0.54715197\n",
            "  0.49714144 0.66774241 0.36235619 0.20305666 0.38810442 0.38872848\n",
            "  0.35173819 0.51171093 0.26963785 0.64860244 0.351334   0.58225467\n",
            "  0.53751999 0.4819942  0.6054664  0.47591185 0.343795   0.52996459\n",
            "  0.50747965 0.53956731 0.51730118 0.43980486 0.14342533 0.57407728\n",
            "  0.66521851 0.36211334 0.5001027  0.3553554  0.54893566 0.48793615\n",
            "  0.62221505 0.63024294 0.26109247 0.16142886 0.39094152 0.65940216\n",
            "  0.33527344 0.07799128 0.49572944 0.36337021 0.30843719 0.30224672\n",
            "  0.62573254 0.19154232 0.21782255 0.         0.44509765 0.18584292\n",
            "  0.54745154 0.36532383 0.28114207 0.42321112 0.34055987 0.24288104\n",
            "  0.3765309  0.44622554 0.18477347 0.42220999 0.17141781 0.50440984\n",
            "  0.62334384 0.44296672 0.53130151 0.22821391 0.39998701 0.20684293\n",
            "  0.32203336 0.51183592 0.60921304 0.4765004  0.46660933 0.57700451\n",
            "  0.28542419 0.20482933 0.21034112 0.1858041  0.59419999 0.04476387\n",
            "  0.38019189 0.67453002 0.19937724 0.33148502 0.41321248 0.20673362\n",
            "  0.10482279 0.41841714 0.41075169 0.14869665]\n",
            " [0.21671801 0.5050694  0.85202711 0.36999694 0.57806759 0.39308612\n",
            "  0.24765078 0.57256505 0.68865755 0.75661038 0.66227398 0.61242386\n",
            "  0.94145376 0.79554555 0.32533221 0.52367504 0.79496695 0.77887365\n",
            "  0.78712677 0.85861084 0.63119443 1.06613581 0.12674142 0.59943107\n",
            "  0.98184897 0.9174171  0.66198333 0.04587719 0.23288344 0.92003781\n",
            "  0.12853157 0.77772148 0.93440175 0.69059433 0.51007388 0.98641832\n",
            "  0.74475777 0.67017826 0.8303732  0.79238345 0.86894148 0.12627836\n",
            "  1.06691573 0.9397242  0.49166595 0.38916323 0.3706961  0.78321862\n",
            "  0.77209854 0.47374965 0.89092079 0.64565226 0.62883306 0.46349884\n",
            "  0.95026601 0.40054388 0.58588605 0.44509765 0.         0.39985013\n",
            "  0.99213016 0.18969151 0.37953643 0.73054675 0.58027531 0.65721556\n",
            "  0.52599915 0.87418624 0.57380022 0.82520825 0.55928658 0.69947907\n",
            "  0.73127929 0.8775511  0.82397724 0.67257883 0.09060658 0.61730757\n",
            "  0.20280124 0.8616135  1.04994523 0.91131205 0.4860675  0.94606439\n",
            "  0.17775805 0.60759749 0.59942187 0.62980208 0.96689856 0.40044431\n",
            "  0.26606436 1.10318246 0.62621806 0.61510614 0.1009034  0.24381669\n",
            "  0.49105302 0.76173061 0.84762411 0.52539005]\n",
            " [0.28569489 0.3362238  0.46070556 0.04229067 0.17972142 0.14634187\n",
            "  0.20758645 0.54797745 0.32320206 0.38612403 0.26632742 0.366952\n",
            "  0.61339271 0.50549664 0.19388332 0.38559421 0.40372888 0.56536729\n",
            "  0.49928197 0.6948606  0.23332187 0.67422559 0.3563855  0.39792008\n",
            "  0.62994011 0.62313505 0.4259556  0.44176688 0.2129198  0.52150254\n",
            "  0.50119609 0.41483777 0.67635756 0.31681866 0.32864156 0.59321341\n",
            "  0.49149661 0.27474395 0.43436576 0.42788175 0.7341518  0.48643134\n",
            "  0.71538587 0.81559012 0.10739683 0.30613065 0.50119917 0.49576532\n",
            "  0.4085648  0.13941371 0.49366016 0.54713266 0.22995268 0.12350464\n",
            "  0.81013163 0.00575293 0.40340096 0.18584292 0.39985013 0.\n",
            "  0.65898601 0.25072977 0.09829059 0.33745889 0.51772124 0.41633796\n",
            "  0.20315935 0.59838859 0.19151981 0.43147935 0.35641481 0.35763921\n",
            "  0.4543176  0.5870271  0.7171104  0.34095762 0.32482357 0.38449433\n",
            "  0.36753758 0.69459874 0.68287765 0.61880805 0.28077726 0.54628474\n",
            "  0.30202015 0.22786832 0.21313876 0.30194395 0.5670614  0.17388074\n",
            "  0.23144664 0.71814658 0.36813196 0.51458702 0.32986603 0.23576064\n",
            "  0.29029616 0.60310586 0.55265415 0.33452273]\n",
            " [0.78773928 0.93073931 0.57319491 0.70127393 0.56393209 0.78393957\n",
            "  0.86377206 0.65819185 0.67055718 0.66347477 0.44708669 0.8850192\n",
            "  0.05176473 0.8954876  0.8498364  0.53418563 0.34170839 0.34369234\n",
            "  0.22557131 0.44177416 0.47994591 0.32075492 0.89073814 0.94447038\n",
            "  0.07540091 0.13528234 0.92694298 1.02113633 0.86662468 0.38804808\n",
            "  1.04345901 0.69453083 0.22729111 0.64477904 0.51054317 0.31694051\n",
            "  0.94331978 0.5523581  0.52951708 0.24445482 0.50720684 1.02269354\n",
            "  0.09995991 0.5558633  0.64390347 0.63730219 0.833659   0.89475428\n",
            "  0.26006917 0.53450796 0.36764567 0.55034717 0.5363501  0.70799919\n",
            "  0.52289044 0.66236102 0.46384616 0.54745154 0.99213016 0.65898601\n",
            "  0.         0.89769026 0.74659276 0.55793507 0.60513471 0.3672764\n",
            "  0.73670705 0.19315394 0.47359422 0.34609147 0.46395748 0.73564697\n",
            "  0.88975696 0.16108796 0.55440646 0.32401538 0.94554376 0.40224262\n",
            "  0.84553682 0.43517654 0.15287545 0.14174451 0.87454092 0.46014892\n",
            "  0.82563933 0.43861152 0.45918381 0.36656952 0.45583869 0.59189199\n",
            "  0.89024849 0.27768907 0.37909352 0.55009861 0.95745026 0.75030287\n",
            "  0.51484337 0.44532091 0.17163311 0.49463475]\n",
            " [0.24125284 0.32292467 0.67700484 0.21197174 0.41593734 0.2065076\n",
            "  0.05893646 0.6173966  0.50548685 0.57368598 0.51557947 0.42445924\n",
            "  0.84972574 0.60635537 0.13564072 0.51129423 0.65397167 0.74549131\n",
            "  0.71586941 0.85196145 0.48142606 0.92362461 0.22791826 0.4161825\n",
            "  0.87477526 0.84526248 0.47580273 0.23550119 0.04532128 0.76631554\n",
            "  0.31575366 0.59269715 0.88230251 0.50972746 0.47572035 0.8423048\n",
            "  0.55797179 0.50162966 0.65995971 0.67497833 0.87636572 0.30921343\n",
            "  0.9605807  0.95402845 0.32283322 0.38429842 0.4701547  0.5940987\n",
            "  0.65521309 0.36320642 0.74039748 0.66094003 0.46648795 0.28402344\n",
            "  0.95727584 0.24932014 0.55777917 0.36532383 0.18969151 0.25072977\n",
            "  0.89769026 0.         0.20166983 0.5585878  0.60810002 0.60532114\n",
            "  0.33974462 0.81140978 0.44101981 0.68088195 0.51940892 0.51199293\n",
            "  0.54242911 0.80679983 0.84307257 0.57404058 0.09914601 0.56716714\n",
            "  0.28896668 0.85348168 0.93183332 0.840055   0.29838996 0.7835249\n",
            "  0.2210721  0.47714633 0.46358222 0.53200548 0.80509942 0.32666798\n",
            "  0.07875964 0.96877951 0.56421383 0.62762239 0.09328403 0.22688633\n",
            "  0.4453546  0.75429429 0.77383202 0.48814577]\n",
            " [0.32192068 0.24269538 0.47564324 0.06419079 0.21930434 0.04950776\n",
            "  0.14604188 0.62970819 0.30949831 0.37725555 0.32866423 0.29175024\n",
            "  0.70263873 0.45087803 0.10422313 0.47630301 0.46796375 0.66357201\n",
            "  0.59550399 0.79205869 0.29301165 0.732872   0.36840085 0.3128937\n",
            "  0.71266186 0.71763804 0.3505555  0.42464663 0.15701268 0.57019014\n",
            "  0.49577803 0.39954777 0.77352033 0.31108096 0.42206374 0.65125468\n",
            "  0.42341343 0.30065091 0.45835485 0.50943529 0.83006788 0.48444581\n",
            "  0.79724421 0.9113371  0.12383902 0.38336334 0.55420004 0.43987725\n",
            "  0.49098838 0.2374893  0.54632539 0.63788812 0.26867181 0.0839635\n",
            "  0.90674406 0.09312839 0.49889902 0.28114207 0.37953643 0.09829059\n",
            "  0.74659276 0.20166983 0.         0.35693259 0.60360074 0.51459445\n",
            "  0.15331983 0.69481779 0.27332639 0.49177761 0.45250385 0.32623713\n",
            "  0.3932544  0.6822356  0.81094845 0.43398548 0.29355473 0.48247207\n",
            "  0.39870191 0.79193172 0.75902081 0.7135462  0.18998017 0.58343557\n",
            "  0.32681817 0.30902302 0.29043748 0.39652411 0.60519645 0.26288362\n",
            "  0.15631308 0.78301528 0.46642175 0.60485477 0.29265523 0.27824467\n",
            "  0.38427805 0.69949025 0.6476952  0.42907287]\n",
            " [0.61710101 0.42494251 0.12331562 0.36136104 0.16031168 0.36225286\n",
            "  0.50247248 0.78515865 0.11617799 0.11073521 0.16272829 0.3450678\n",
            "  0.53229449 0.33959808 0.44451231 0.59997072 0.21623791 0.65465814\n",
            "  0.51872514 0.8025423  0.15991726 0.41763665 0.69367166 0.40895782\n",
            "  0.49679656 0.59576691 0.37746635 0.77427214 0.51390136 0.2428231\n",
            "  0.83774046 0.14612758 0.68666223 0.09130278 0.53640402 0.34057227\n",
            "  0.38575584 0.06383139 0.10161321 0.32913637 0.86006258 0.82349173\n",
            "  0.56688604 0.93767613 0.23888204 0.58402886 0.80867809 0.33791211\n",
            "  0.32219179 0.34605614 0.23252596 0.7392141  0.11602224 0.27631609\n",
            "  0.91936033 0.33533637 0.57691946 0.42321112 0.73054675 0.33745889\n",
            "  0.55793507 0.5585878  0.35693259 0.         0.74002594 0.52828178\n",
            "  0.24725794 0.60400055 0.24503693 0.21592981 0.53313878 0.17876935\n",
            "  0.33214022 0.57475201 0.86848588 0.36613515 0.64820788 0.51942687\n",
            "  0.69922504 0.79933995 0.50371771 0.5951903  0.37919647 0.23415797\n",
            "  0.63748227 0.24229878 0.22513494 0.36107202 0.25638441 0.44621706\n",
            "  0.5066272  0.48265276 0.4835376  0.71349165 0.64878708 0.56594843\n",
            "  0.50323861 0.73499335 0.54374993 0.53197014]\n",
            " [0.37796142 0.84548117 0.84315753 0.54022249 0.60745124 0.6524561\n",
            "  0.61650637 0.05429562 0.789193   0.83403683 0.5824366  0.88433779\n",
            "  0.55709675 1.00794828 0.66140956 0.14104674 0.63354788 0.27557287\n",
            "  0.38567549 0.29364043 0.58010869 0.83781083 0.45354403 0.9146773\n",
            "  0.63769297 0.48102312 0.94316217 0.58544437 0.60806101 0.77561403\n",
            "  0.5636148  0.86961122 0.44329758 0.77205443 0.20506789 0.78190097\n",
            "  1.0052111  0.68451992 0.79859711 0.54132382 0.29145508 0.54246826\n",
            "  0.70350318 0.35955272 0.60158086 0.22720973 0.26708229 0.99976873\n",
            "  0.52741091 0.41422079 0.73955819 0.0727518  0.63223959 0.63939973\n",
            "  0.37181256 0.52344081 0.17335829 0.34055987 0.58027531 0.51772124\n",
            "  0.60513471 0.60810002 0.60360074 0.74002594 0.         0.26062949\n",
            "  0.71590821 0.42204594 0.49592658 0.66697429 0.20965632 0.84247849\n",
            "  0.9638641  0.44667381 0.24370193 0.4144544  0.58849531 0.24425439\n",
            "  0.37891889 0.29824177 0.7297359  0.47378255 0.79356312 0.83943475\n",
            "  0.41155318 0.49880369 0.51489699 0.39679161 0.85143617 0.34384588\n",
            "  0.65563334 0.83437586 0.2828128  0.05646428 0.60783873 0.3813508\n",
            "  0.24138879 0.20733295 0.43373499 0.20814297]\n",
            " [0.44257449 0.74744705 0.61521735 0.45350872 0.42893301 0.5624135\n",
            "  0.58843226 0.31470661 0.60245936 0.63339532 0.36560393 0.75082691\n",
            "  0.31609257 0.83700448 0.60298702 0.16698906 0.38491395 0.14923139\n",
            "  0.14219806 0.28716914 0.37506269 0.57720272 0.54377518 0.79547502\n",
            "  0.38684447 0.26560737 0.8059772  0.67960913 0.58614576 0.52218624\n",
            "  0.69009593 0.66991778 0.27912087 0.58087663 0.14995935 0.52204279\n",
            "  0.85296151 0.48298975 0.56809624 0.28287293 0.33737763 0.66876416\n",
            "  0.46037989 0.41785069 0.46064538 0.27811189 0.46670902 0.8311177\n",
            "  0.27052001 0.27832117 0.48651916 0.22959996 0.43687045 0.51601173\n",
            "  0.40548105 0.42160949 0.09774337 0.24288104 0.65721556 0.41633796\n",
            "  0.3672764  0.60532114 0.51459445 0.52828178 0.26062949 0.\n",
            "  0.57822164 0.21764121 0.30493459 0.41658929 0.10056929 0.66399663\n",
            "  0.80487281 0.22588395 0.34036414 0.16818746 0.62814285 0.03990813\n",
            "  0.48932052 0.28563011 0.4762394  0.25893867 0.69007363 0.58963746\n",
            "  0.48177399 0.29209062 0.31397239 0.16734815 0.59970892 0.2787229\n",
            "  0.62306694 0.57567334 0.04999319 0.21405914 0.64357952 0.41451278\n",
            "  0.1664537  0.20808716 0.20091318 0.13394092]\n",
            " [0.47195231 0.19452687 0.35178592 0.19635249 0.17322474 0.13328356\n",
            "  0.28083847 0.74882554 0.16827337 0.23602261 0.2900696  0.17310194\n",
            "  0.69952061 0.30355001 0.21033098 0.57958621 0.41620713 0.72531128\n",
            "  0.62730909 0.86494029 0.25676907 0.65798075 0.5217071  0.21898415\n",
            "  0.68937951 0.73582012 0.2300394  0.57169673 0.29470732 0.48528227\n",
            "  0.64604489 0.25307257 0.80791343 0.1771904  0.51892055 0.57805432\n",
            "  0.28952781 0.20843309 0.34578558 0.49225721 0.91097689 0.63564434\n",
            "  0.76923138 0.99247485 0.1183975  0.50911824 0.69917484 0.29340385\n",
            "  0.47728123 0.30970299 0.46895474 0.73928438 0.20369751 0.0804187\n",
            "  0.98280301 0.19780606 0.58647729 0.3765309  0.52599915 0.20315935\n",
            "  0.73670705 0.33974462 0.15331983 0.24725794 0.71590821 0.57822164\n",
            "  0.         0.725095   0.28465451 0.43093168 0.53840641 0.1740083\n",
            "  0.25115853 0.70517438 0.90130884 0.45771258 0.43714373 0.55327574\n",
            "  0.55042468 0.86366314 0.71791139 0.73306553 0.14030365 0.48134983\n",
            "  0.47923329 0.31202617 0.28843354 0.42978063 0.50357671 0.3736862\n",
            "  0.27474436 0.71786869 0.52822848 0.70778634 0.43302205 0.42582254\n",
            "  0.48029615 0.77917076 0.67072891 0.52202075]\n",
            " [0.66012596 0.91055208 0.65546053 0.6391243  0.5564571  0.73911624\n",
            "  0.78824987 0.47349565 0.70312301 0.71472932 0.45720019 0.89039259\n",
            "  0.15453387 0.93986959 0.79165608 0.37412405 0.40415371 0.15185621\n",
            "  0.09942251 0.25588452 0.48132612 0.48803558 0.76141515 0.94322157\n",
            "  0.2466741  0.05980666 0.94016801 0.89717287 0.78784067 0.50313471\n",
            "  0.9070035  0.74972665 0.08373395 0.67830723 0.36731528 0.46087981\n",
            "  0.97267587 0.57794919 0.60770309 0.28030527 0.32229589 0.88559477\n",
            "  0.29292368 0.38075679 0.61540005 0.49494021 0.66652781 0.93654977\n",
            "  0.28325421 0.4603653  0.47331004 0.36228096 0.54535296 0.67734588\n",
            "  0.35171735 0.6029636  0.302979   0.44622554 0.87418624 0.59838859\n",
            "  0.19315394 0.81140978 0.69481779 0.60400055 0.42204594 0.21764121\n",
            "  0.725095   0.         0.44091514 0.42399487 0.31770761 0.76894088\n",
            "  0.92073876 0.03781688 0.36437929 0.26763388 0.84172742 0.25740324\n",
            "  0.70604493 0.24977894 0.3385673  0.05268958 0.85258319 0.57793834\n",
            "  0.69929682 0.41341066 0.43721952 0.29989082 0.58011682 0.48675161\n",
            "  0.82025472 0.45935144 0.24960956 0.36586247 0.85637153 0.6308506\n",
            "  0.38314837 0.25219882 0.06069193 0.35138858]\n",
            " [0.41274976 0.47043394 0.35592185 0.23292848 0.12409155 0.31058396\n",
            "  0.39907341 0.54030397 0.30018863 0.33904638 0.10103738 0.45323863\n",
            "  0.43062756 0.53242747 0.37711421 0.35538196 0.22158876 0.44695663\n",
            "  0.34274264 0.59101396 0.08629932 0.49238947 0.50481465 0.50344475\n",
            "  0.43996557 0.45480775 0.50599527 0.61199769 0.40434924 0.35476516\n",
            "  0.65934464 0.3750594  0.52344229 0.28029346 0.2916127  0.41309533\n",
            "  0.54887409 0.18866525 0.31581849 0.23707004 0.6422849  0.64180645\n",
            "  0.52501689 0.72275779 0.17558334 0.34577122 0.57565887 0.52633428\n",
            "  0.2181612  0.11402859 0.32260378 0.49943237 0.1371753  0.23894755\n",
            "  0.70949173 0.19388077 0.33738045 0.18477347 0.57380022 0.19151981\n",
            "  0.47359422 0.44101981 0.27332639 0.24503693 0.49592658 0.30493459\n",
            "  0.28465451 0.44091514 0.         0.25301114 0.29165585 0.35991387\n",
            "  0.50017641 0.42244658 0.64167186 0.1732911  0.50758928 0.287476\n",
            "  0.49157504 0.58900374 0.49137513 0.45155316 0.4126105  0.39555612\n",
            "  0.44144133 0.03636636 0.02699516 0.14611413 0.41378212 0.21625927\n",
            "  0.42149203 0.5309616  0.25600388 0.47210233 0.51510151 0.36287628\n",
            "  0.25820837 0.51218991 0.38780227 0.28780458]\n",
            " [0.66365467 0.62254815 0.23346745 0.4689212  0.27487259 0.51499792\n",
            "  0.63253738 0.71872752 0.33156847 0.31796374 0.16531883 0.55656176\n",
            "  0.32623528 0.54990578 0.59347897 0.53966123 0.03473135 0.50989672\n",
            "  0.35631434 0.65408602 0.19974118 0.24279158 0.75749447 0.61920337\n",
            "  0.28177608 0.40311815 0.59238383 0.8642468  0.64038104 0.11050995\n",
            "  0.91231564 0.34848708 0.50198072 0.30613285 0.48377327 0.16177273\n",
            "  0.60104963 0.22567304 0.18696051 0.14709019 0.717308   0.89466955\n",
            "  0.35105951 0.7886054  0.36994439 0.57367643 0.80496247 0.54957046\n",
            "  0.15156634 0.36314643 0.07473964 0.64561327 0.23068534 0.4281749\n",
            "  0.76474915 0.43225869 0.49363646 0.42220999 0.82520825 0.43147935\n",
            "  0.34609147 0.68088195 0.49177761 0.21592981 0.66697429 0.41658929\n",
            "  0.43093168 0.42399487 0.25301114 0.         0.46084664 0.3946611\n",
            "  0.54744669 0.38994384 0.73923472 0.25261784 0.75533994 0.42383971\n",
            "  0.74070567 0.64960303 0.2903836  0.40400296 0.57086393 0.17313707\n",
            "  0.69363004 0.22228751 0.22657363 0.2735363  0.1844663  0.46076635\n",
            "  0.6479067  0.29171665 0.38491575 0.6271448  0.76117618 0.61455626\n",
            "  0.461875   0.60517116 0.36382697 0.47346479]\n",
            " [0.34358239 0.6925863  0.63388219 0.38892837 0.40943084 0.50174189\n",
            "  0.50837719 0.25920015 0.59022254 0.63064167 0.37372649 0.71109613\n",
            "  0.41234339 0.81696614 0.53204276 0.0804268  0.42685394 0.2263304\n",
            "  0.24094009 0.34077438 0.37355212 0.64816512 0.44404789 0.74977024\n",
            "  0.47722896 0.36614854 0.76844573 0.58039219 0.50445334 0.57060699\n",
            "  0.58956879 0.66670579 0.37512691 0.57134987 0.04964325 0.58575601\n",
            "  0.82310391 0.47983861 0.58906715 0.34471004 0.37774534 0.56822239\n",
            "  0.55429767 0.45917644 0.42028722 0.17754501 0.37475284 0.80977205\n",
            "  0.32856787 0.22872405 0.53449165 0.20794481 0.42883086 0.46834916\n",
            "  0.45431686 0.36204951 0.04808078 0.17141781 0.55928658 0.35641481\n",
            "  0.46395748 0.51940892 0.45250385 0.53313878 0.20965632 0.10056929\n",
            "  0.53840641 0.31770761 0.29165585 0.46084664 0.         0.64715466\n",
            "  0.77815881 0.32638058 0.36310171 0.2105321  0.53459026 0.0621528\n",
            "  0.38875834 0.34114108 0.56345547 0.3594975  0.63668923 0.63220207\n",
            "  0.38283863 0.29096045 0.30845232 0.1882003  0.64506557 0.19773829\n",
            "  0.54482133 0.65486384 0.08890227 0.18057531 0.55082349 0.31824593\n",
            "  0.07408758 0.24700143 0.3006363  0.03392562]\n",
            " [0.63887595 0.28614762 0.22805562 0.36150527 0.2378715  0.30639305\n",
            "  0.45308652 0.88134026 0.0660926  0.09363253 0.31233596 0.18079294\n",
            "  0.7081857  0.1734385  0.37925667 0.70196036 0.39414205 0.80179347\n",
            "  0.6782479  0.948049   0.29270271 0.5819813  0.69419972 0.245028\n",
            "  0.67545447 0.76611687 0.20244132 0.74525095 0.46733415 0.40877373\n",
            "  0.82004474 0.09105684 0.85249146 0.09159183 0.63838212 0.5095087\n",
            "  0.20775436 0.19099918 0.24415338 0.50175855 1.00122497 0.80962933\n",
            "  0.74546996 1.08117031 0.25264486 0.65361983 0.85874364 0.16859528\n",
            "  0.49248272 0.42851772 0.40495967 0.85463553 0.2285876  0.24644594\n",
            "  1.0663351  0.35314059 0.69425648 0.50440984 0.69947907 0.35763921\n",
            "  0.73564697 0.51199293 0.32623713 0.17876935 0.84247849 0.66399663\n",
            "  0.1740083  0.76894088 0.35991387 0.3946611  0.64715466 0.\n",
            "  0.15430854 0.74219566 1.00157305 0.51496462 0.61015061 0.64735892\n",
            "  0.71902511 0.94561618 0.68109279 0.76495331 0.25643845 0.37985707\n",
            "  0.64915393 0.37281407 0.35024493 0.49961126 0.40088583 0.51294925\n",
            "  0.44328863 0.65125201 0.61560266 0.82550826 0.60519435 0.59075684\n",
            "  0.60119527 0.87178915 0.70977379 0.63791241]\n",
            " [0.71493896 0.24243305 0.35892909 0.44504599 0.37608631 0.35671786\n",
            "  0.48679843 0.99847447 0.220118   0.23364105 0.46353865 0.12067228\n",
            "  0.86249265 0.06565901 0.40788107 0.82562608 0.54811593 0.94648593\n",
            "  0.82850468 1.09118003 0.44101334 0.72182548 0.75197624 0.15949132\n",
            "  0.8288557  0.91950132 0.08970055 0.77672451 0.50203964 0.55233303\n",
            "  0.85817796 0.21165478 1.00442087 0.24579012 0.76349399 0.65341622\n",
            "  0.05361927 0.34376552 0.3855175  0.6558455  1.14195771 0.85129952\n",
            "  0.89746931 1.22269845 0.36228446 0.76020294 0.94688538 0.05293425\n",
            "  0.646232   0.551991   0.55240555 0.98309114 0.37648066 0.33121147\n",
            "  1.2096571  0.44895558 0.82603753 0.62334384 0.73127929 0.4543176\n",
            "  0.88975696 0.54242911 0.3932544  0.33214022 0.9638641  0.80487281\n",
            "  0.25115853 0.92073876 0.50017641 0.54744669 0.77815881 0.15430854\n",
            "  0.         0.89482049 1.13815129 0.6627546  0.64082661 0.78497194\n",
            "  0.79019003 1.0891248  0.83123032 0.91818876 0.24599667 0.51366162\n",
            "  0.71743981 0.51758541 0.49419511 0.64402438 0.53313443 0.62374232\n",
            "  0.4652193  0.79356898 0.75554188 0.95248906 0.63130413 0.67138239\n",
            "  0.72521925 1.01117149 0.86204223 0.7650727 ]\n",
            " [0.66541894 0.89287473 0.6223131  0.62836206 0.53475099 0.72537541\n",
            "  0.78112509 0.49909312 0.67620043 0.68535969 0.43171166 0.86830485\n",
            "  0.11899977 0.91211888 0.78084103 0.38838507 0.37139198 0.18280306\n",
            "  0.09126644 0.29337604 0.45746204 0.4503862  0.76754996 0.92238003\n",
            "  0.21035909 0.03996564 0.91698129 0.9021977  0.78143949 0.46672244\n",
            "  0.91553315 0.71999442 0.11260957 0.65113105 0.37550634 0.42316973\n",
            "  0.94713029 0.55129522 0.57477623 0.24823131 0.35980759 0.89426615\n",
            "  0.26100399 0.41855984 0.59783669 0.50383223 0.68457125 0.90914502\n",
            "  0.2527732  0.45071351 0.43738363 0.38985084 0.52090656 0.6605718\n",
            "  0.38938941 0.59138254 0.3169655  0.44296672 0.8775511  0.5870271\n",
            "  0.16108796 0.80679983 0.6822356  0.57475201 0.44667381 0.22588395\n",
            "  0.70517438 0.03781688 0.42244658 0.38994384 0.32638058 0.74219566\n",
            "  0.89482049 0.         0.40084312 0.25020871 0.84140151 0.26465186\n",
            "  0.71495955 0.28733334 0.30289991 0.03377572 0.83502488 0.54158575\n",
            "  0.70438662 0.3931741  0.41674356 0.2857353  0.54338101 0.4849014\n",
            "  0.81204714 0.42269711 0.25135402 0.39102377 0.85541865 0.63375249\n",
            "  0.38779124 0.28549217 0.0347143  0.3594186 ]\n",
            " [0.61961896 1.05294953 0.95150912 0.74679486 0.76446636 0.86045147\n",
            "  0.84542364 0.25944585 0.94127539 0.97371109 0.70588821 1.07413104\n",
            "  0.51888475 1.17371568 0.88177449 0.33745557 0.71085711 0.23206142\n",
            "  0.38961468 0.11672609 0.71506588 0.84860083 0.69724523 1.11259842\n",
            "  0.61102032 0.41936875 1.13131777 0.82862109 0.83847288 0.83636041\n",
            "  0.8030842  1.0102316  0.33637686 0.92026224 0.38890037 0.81256019\n",
            "  1.18433127 0.82310682 0.90376411 0.59429573 0.06570384 0.78228636\n",
            "  0.65229061 0.1162019  0.78303916 0.45880395 0.49435858 1.16724597\n",
            "  0.58770932 0.59175079 0.80254042 0.18233158 0.77608705 0.83131994\n",
            "  0.13366307 0.72282081 0.31513453 0.53130151 0.82397724 0.7171104\n",
            "  0.55440646 0.84307257 0.81094845 0.86848588 0.24370193 0.34036414\n",
            "  0.90130884 0.36437929 0.64167186 0.73923472 0.36310171 1.00157305\n",
            "  1.13815129 0.40084312 0.         0.50469591 0.83013782 0.35421787\n",
            "  0.62242454 0.12378461 0.70282011 0.41320995 0.99788701 0.90854866\n",
            "  0.65424944 0.63169382 0.652952   0.50771047 0.91517062 0.54893786\n",
            "  0.88399486 0.82353868 0.38687607 0.2154753  0.84921151 0.61833536\n",
            "  0.42692585 0.13474361 0.40765503 0.38260529]\n",
            " [0.47658168 0.64318928 0.44758201 0.38298152 0.29122659 0.47597743\n",
            "  0.54197991 0.46651562 0.45071964 0.47422262 0.20558415 0.62460727\n",
            "  0.2756858  0.68821217 0.53453387 0.29062001 0.21955898 0.28898719\n",
            "  0.16963231 0.43669451 0.22231947 0.44232971 0.57859337 0.67621248\n",
            "  0.30937846 0.28417709 0.67584668 0.70407868 0.54407783 0.36125669\n",
            "  0.734186   0.51059163 0.3502093  0.42739409 0.23994587 0.37651848\n",
            "  0.71336883 0.32700316 0.40022919 0.13786533 0.49396456 0.71423454\n",
            "  0.3943381  0.57163077 0.34801265 0.34857011 0.5724818  0.68354609\n",
            "  0.11994706 0.21091197 0.32517162 0.39445871 0.28673463 0.41045348\n",
            "  0.55405425 0.34492254 0.24109612 0.22821391 0.67257883 0.34095762\n",
            "  0.32401538 0.57404058 0.43398548 0.36613515 0.4144544  0.16818746\n",
            "  0.45771258 0.26763388 0.1732911  0.25261784 0.2105321  0.51496462\n",
            "  0.6627546  0.25020871 0.50469591 0.         0.62230877 0.17137301\n",
            "  0.5429718  0.43366936 0.38233741 0.28041366 0.58526259 0.42544812\n",
            "  0.5127095  0.14718665 0.17109447 0.04288726 0.4370369  0.27295874\n",
            "  0.57023983 0.45709301 0.13242757 0.37486417 0.63381277 0.43467674\n",
            "  0.22615724 0.37031548 0.21549451 0.22753299]\n",
            " [0.21060398 0.41661799 0.76850735 0.29111118 0.49945763 0.30393258\n",
            "  0.15745457 0.58913203 0.60130965 0.66942737 0.59068219 0.52220774\n",
            "  0.89591351 0.70500868 0.23477071 0.51145557 0.72647408 0.75957556\n",
            "  0.75018742 0.8525815  0.55811008 0.99770755 0.15759106 0.51074604\n",
            "  0.92940835 0.8808238  0.57235166 0.13636852 0.14290094 0.84621535\n",
            "  0.21776402 0.68958485 0.9072591  0.60427391 0.48715614 0.91709073\n",
            "  0.65495429 0.58918306 0.74889336 0.7344311  0.86973752 0.21275209\n",
            "  1.01509331 0.94422572 0.40984294 0.37746807 0.412375   0.69269842\n",
            "  0.71427167 0.41579229 0.81846944 0.64848382 0.55035884 0.37730919\n",
            "  0.95130411 0.32471731 0.56711916 0.39998701 0.09060658 0.32482357\n",
            "  0.94554376 0.09914601 0.29355473 0.64820788 0.58849531 0.62814285\n",
            "  0.43714373 0.84172742 0.50758928 0.75533994 0.53459026 0.61015061\n",
            "  0.64082661 0.84140151 0.83013782 0.62230877 0.         0.58860051\n",
            "  0.23100046 0.85489285 0.99265281 0.87510526 0.39588674 0.86831095\n",
            "  0.17803389 0.5426791  0.53211144 0.5794726  0.88951341 0.35682619\n",
            "  0.1756978  1.03854332 0.59211832 0.61624476 0.02008754 0.21840667\n",
            "  0.46245948 0.7546475  0.80989558 0.50138431]\n",
            " [0.40274018 0.71798842 0.61223543 0.42048663 0.41035647 0.53083089\n",
            "  0.55160787 0.29724199 0.58734039 0.62195892 0.35703857 0.72631317\n",
            "  0.35071284 0.81956133 0.56854773 0.13500703 0.39092792 0.18203927\n",
            "  0.17879089 0.31246663 0.36278945 0.59767535 0.50406991 0.76903916\n",
            "  0.41762804 0.30450435 0.78230382 0.63978363 0.54892691 0.53177274\n",
            "  0.65092811 0.65840914 0.31869663 0.56669661 0.11086254 0.5388249\n",
            "  0.83202487 0.47080749 0.56591175 0.29764865 0.35803038 0.62963936\n",
            "  0.4934692  0.43938311 0.43506681 0.2392109  0.4339946  0.81318974\n",
            "  0.28328114 0.24842867 0.4957764  0.22413834 0.42256578 0.48829935\n",
            "  0.42976219 0.3898944  0.0720743  0.20684293 0.61730757 0.38449433\n",
            "  0.40224262 0.56716714 0.48247207 0.51942687 0.24425439 0.03990813\n",
            "  0.55327574 0.25740324 0.287476   0.42383971 0.0621528  0.64735892\n",
            "  0.78497194 0.26465186 0.35421787 0.17137301 0.58860051 0.\n",
            "  0.4503077  0.31164072 0.50524107 0.29792649 0.66098627 0.59678886\n",
            "  0.44192779 0.27904081 0.29952918 0.16038328 0.60813386 0.24094377\n",
            "  0.58672947 0.60037349 0.03894545 0.20351559 0.60415759 0.37464373\n",
            "  0.12660753 0.22651182 0.23852075 0.09476906]\n",
            " [0.08220019 0.59858077 0.82207199 0.35760116 0.53891446 0.433629\n",
            "  0.32535773 0.36976535 0.68997027 0.75362352 0.59103553 0.6814903\n",
            "  0.79383265 0.84921369 0.39736158 0.33839459 0.70726749 0.59546357\n",
            "  0.62780873 0.66270816 0.56705331 0.97054493 0.07727661 0.6872227\n",
            "  0.84728527 0.75480119 0.73808954 0.2069077  0.31152318 0.84581107\n",
            "  0.20099494 0.78180495 0.75810787 0.684333   0.33945961 0.89538977\n",
            "  0.81609486 0.63543699 0.79068034 0.6756621  0.66922571 0.17955325\n",
            "  0.92948471 0.73843111 0.47464733 0.21121689 0.18258845 0.83801701\n",
            "  0.65581885 0.37828036 0.81277102 0.44609564 0.58547013 0.47303198\n",
            "  0.75019964 0.37101164 0.4062299  0.32203336 0.20280124 0.36753758\n",
            "  0.84553682 0.28896668 0.39870191 0.69922504 0.37891889 0.48932052\n",
            "  0.55042468 0.70604493 0.49157504 0.74070567 0.38875834 0.71902511\n",
            "  0.79019003 0.71495955 0.62242454 0.5429718  0.23100046 0.4503077\n",
            "  0.         0.66615434 0.9249476  0.7481947  0.56215286 0.88611688\n",
            "  0.0731949  0.51899797 0.51856333 0.50256561 0.90488604 0.28062579\n",
            "  0.36062738 0.99589496 0.46750503 0.41668448 0.25104928 0.13327717\n",
            "  0.33074177 0.56728338 0.68818802 0.3555423 ]\n",
            " [0.64824183 1.02933271 0.87151303 0.72893771 0.71306473 0.84079074\n",
            "  0.84723776 0.33210748 0.88258048 0.90787916 0.63919757 1.03639475\n",
            "  0.40279929 1.11902837 0.87318162 0.343882   0.62401034 0.14470594\n",
            "  0.29340214 0.00707384 0.65368026 0.73770721 0.73656721 1.08034718\n",
            "  0.49533842 0.30130374 1.0916064  0.87250038 0.84234986 0.74030298\n",
            "  0.85826798 0.94422532 0.21340891 0.85992321 0.37946502 0.70747044\n",
            "  1.13780527 0.76011334 0.82332236 0.50259884 0.07255142 0.83686216\n",
            "  0.53174471 0.13939478 0.7458262  0.47746145 0.56470206 1.11365828\n",
            "  0.4990743  0.55998313 0.70795869 0.22569738 0.71717786 0.7998983\n",
            "  0.12071933 0.70010546 0.29770527 0.51183592 0.8616135  0.69459874\n",
            "  0.43517654 0.85348168 0.79193172 0.79933995 0.29824177 0.28563011\n",
            "  0.86366314 0.24977894 0.58900374 0.64960303 0.34114108 0.94561618\n",
            "  1.0891248  0.28733334 0.12378461 0.43366936 0.85489285 0.31164072\n",
            "  0.66615434 0.         0.58566534 0.2955894  0.97248468 0.81407379\n",
            "  0.68567806 0.57286194 0.59572749 0.44602252 0.81873233 0.53843371\n",
            "  0.88440216 0.70811995 0.33558312 0.25110204 0.8728769  0.63716331\n",
            "  0.41355954 0.10027362 0.29946106 0.36875541]\n",
            " [0.85876155 0.91116937 0.48737914 0.72405117 0.55301942 0.78921894\n",
            "  0.89035465 0.78382727 0.61989551 0.59803088 0.43445317 0.84674714\n",
            "  0.18406578 0.82635854 0.86309866 0.6402469  0.30171887 0.4836234\n",
            "  0.34432374 0.59211634 0.47028438 0.17603301 0.96043477 0.90955224\n",
            "  0.09347026 0.28436167 0.88118242 1.0834955  0.89571977 0.28864464\n",
            "  1.11630841 0.62431887 0.38004286 0.59484338 0.6051208  0.1964692\n",
            "  0.88450427 0.51563066 0.45023361 0.25822871 0.65802934 1.09646101\n",
            "  0.08042629 0.70849617 0.64370723 0.72535704 0.93820337 0.82765326\n",
            "  0.27841815 0.57734279 0.28044505 0.68166784 0.5146368  0.70574105\n",
            "  0.67570733 0.68512696 0.5737061  0.60921304 1.04994523 0.68287765\n",
            "  0.15287545 0.93183332 0.75902081 0.50371771 0.7297359  0.4762394\n",
            "  0.71791139 0.3385673  0.49137513 0.2903836  0.56345547 0.68109279\n",
            "  0.83123032 0.30289991 0.70282011 0.38233741 0.99265281 0.50524107\n",
            "  0.9249476  0.58566534 0.         0.29014668 0.85821407 0.35128243\n",
            "  0.8945162  0.4550579  0.47046789 0.42380938 0.34145304 0.65368856\n",
            "  0.91155215 0.12497925 0.47466041 0.67693241 1.0020105  0.8159291\n",
            "  0.60084248 0.58761591 0.30309277 0.59013845]\n",
            " [0.69906977 0.92186896 0.63731881 0.66029724 0.56175352 0.75623266\n",
            "  0.81392351 0.52555524 0.69887335 0.70547375 0.4561579  0.89468317\n",
            "  0.10763825 0.93373667 0.81268094 0.42025383 0.38778574 0.20454271\n",
            "  0.12492243 0.30200258 0.48312033 0.44563168 0.80114112 0.94954517\n",
            "  0.20006192 0.00724179 0.9425444  0.93588521 0.81438618 0.47470868\n",
            "  0.94885431 0.73963882 0.10071125 0.67359765 0.40873953 0.42444868\n",
            "  0.97078716 0.57442487 0.59024271 0.2665487  0.36803311 0.92756403\n",
            "  0.24108187 0.42175515 0.6271191  0.53701651 0.71525558 0.93111122\n",
            "  0.27316646 0.48310087 0.44694978 0.4147595  0.5459738  0.69017482\n",
            "  0.390759   0.62309102 0.34883832 0.4765004  0.91131205 0.61880805\n",
            "  0.14174451 0.840055   0.7135462  0.5951903  0.47378255 0.25893867\n",
            "  0.73306553 0.05268958 0.45155316 0.40400296 0.3594975  0.76495331\n",
            "  0.91818876 0.03377572 0.41320995 0.28041366 0.87510526 0.29792649\n",
            "  0.7481947  0.2955894  0.29014668 0.         0.86411304 0.54956198\n",
            "  0.73805612 0.42139345 0.44475949 0.3170767  0.55001684 0.51854798\n",
            "  0.8445899  0.41266961 0.28510466 0.4177428  0.88908102 0.66751724\n",
            "  0.42143784 0.30429906 0.06643545 0.39266572]\n",
            " [0.49304322 0.05800309 0.47083219 0.25350813 0.31074922 0.14160692\n",
            "  0.2450463  0.81941198 0.28109968 0.34190675 0.42913962 0.12636002\n",
            "  0.83603364 0.31107141 0.16703093 0.66515314 0.55650605 0.83911274\n",
            "  0.7536609  0.97308148 0.39505003 0.79481017 0.51584126 0.12618431\n",
            "  0.82880842 0.86727849 0.1780934  0.53130766 0.26025839 0.62087982\n",
            "  0.61360313 0.34720613 0.93429283 0.29775724 0.60929604 0.7156644\n",
            "  0.25966711 0.34689448 0.47279493 0.6302138  1.01419656 0.60757885\n",
            "  0.90916211 1.09572994 0.2372507  0.57270236 0.7304504  0.29852876\n",
            "  0.61457789 0.41255795 0.60648059 0.82682984 0.34389525 0.17576101\n",
            "  1.08932038 0.27506992 0.68394463 0.46660933 0.4860675  0.28077726\n",
            "  0.87454092 0.29838996 0.18998017 0.37919647 0.79356312 0.69007363\n",
            "  0.14030365 0.85258319 0.4126105  0.57086393 0.63668923 0.25643845\n",
            "  0.24599667 0.83502488 0.99788701 0.58526259 0.39588674 0.66098627\n",
            "  0.56215286 0.97248468 0.85821407 0.86411304 0.         0.61076685\n",
            "  0.48900513 0.44325931 0.42040605 0.5535164  0.63287123 0.45190427\n",
            "  0.22023943 0.85630815 0.64057172 0.7939741  0.38571552 0.45557566\n",
            "  0.57103254 0.88279232 0.80035986 0.61529812]\n",
            " [0.80609559 0.65327761 0.15478794 0.57729587 0.36885456 0.59377842\n",
            "  0.72941847 0.89081057 0.33331705 0.28672504 0.29516843 0.55997166\n",
            "  0.45602674 0.49538667 0.67597659 0.71016814 0.20593226 0.67755931\n",
            "  0.52133508 0.81894568 0.32010351 0.21056197 0.89349406 0.62448785\n",
            "  0.38591882 0.54725354 0.58007779 0.98800441 0.73980695 0.07489775\n",
            "  1.04445839 0.30240297 0.65011225 0.31375738 0.65255679 0.15527689\n",
            "  0.56437189 0.28323832 0.13844593 0.31428744 0.88338784 1.02835856\n",
            "  0.42897416 0.95200166 0.46070765 0.73428033 0.96606744 0.4990404\n",
            "  0.32209017 0.50958423 0.10619799 0.8187472  0.31795552 0.50636777\n",
            "  0.92619842 0.54552051 0.66620017 0.57700451 0.94606439 0.54628474\n",
            "  0.46014892 0.7835249  0.58343557 0.23415797 0.83943475 0.58963746\n",
            "  0.48134983 0.57793834 0.39555612 0.17313707 0.63220207 0.37985707\n",
            "  0.51366162 0.54158575 0.90854866 0.42544812 0.86831095 0.59678886\n",
            "  0.88611688 0.81407379 0.35128243 0.54956198 0.61076685 0.\n",
            "  0.83236841 0.37217529 0.3687671  0.44411426 0.02222743 0.61146678\n",
            "  0.73678789 0.28493112 0.55784849 0.80018724 0.87094221 0.75542826\n",
            "  0.62821799 0.77524454 0.51991794 0.64308482]\n",
            " [0.0392587  0.52590176 0.76073207 0.28854348 0.47750182 0.36076697\n",
            "  0.25370183 0.41109816 0.62232909 0.68696269 0.53857801 0.60834179\n",
            "  0.77434912 0.77680408 0.32453911 0.34606297 0.66105628 0.60115005\n",
            "  0.61480781 0.68289525 0.51227624 0.92839905 0.06591938 0.6141772\n",
            "  0.82111444 0.74434381 0.66489824 0.19790339 0.24025207 0.79602569\n",
            "  0.22215418 0.71419865 0.75766011 0.61782525 0.33337447 0.85133536\n",
            "  0.74298722 0.57396408 0.73133867 0.64043029 0.69613095 0.20295677\n",
            "  0.90500065 0.76908541 0.40811909 0.21141708 0.24954304 0.76552946\n",
            "  0.62026618 0.33090325 0.76404208 0.47354405 0.52550505 0.40276703\n",
            "  0.77768172 0.30503808 0.40824605 0.28542419 0.17775805 0.30202015\n",
            "  0.82563933 0.2210721  0.32681817 0.63748227 0.41155318 0.48177399\n",
            "  0.47923329 0.69929682 0.44144133 0.69363004 0.38283863 0.64915393\n",
            "  0.71743981 0.70438662 0.65424944 0.5127095  0.17803389 0.44192779\n",
            "  0.0731949  0.68567806 0.8945162  0.73805612 0.48900513 0.83236841\n",
            "  0.         0.47139413 0.46833033 0.47077214 0.85179224 0.24127925\n",
            "  0.28986406 0.95823106 0.45334756 0.44198652 0.1978131  0.07963597\n",
            "  0.3166384  0.58555111 0.67546686 0.34891378]\n",
            " [0.44143139 0.50083043 0.34576115 0.26929417 0.14406639 0.34532971\n",
            "  0.43543254 0.54524924 0.31049292 0.34292792 0.08464847 0.47751837\n",
            "  0.39639843 0.54618854 0.4129743  0.35979571 0.18973504 0.42934218\n",
            "  0.31647265 0.57524968 0.08376751 0.45926333 0.53546225 0.52981481\n",
            "  0.40387511 0.42434774 0.52867748 0.64519485 0.44066242 0.32701295\n",
            "  0.69068572 0.37937001 0.49656009 0.28878849 0.29705801 0.38072471\n",
            "  0.56752681 0.1917717  0.30307704 0.20084609 0.62875312 0.6727987\n",
            "  0.48882274 0.70845044 0.20740414 0.36330088 0.59470128 0.54080687\n",
            "  0.18207695 0.14092714 0.29377313 0.49699501 0.14483448 0.27133912\n",
            "  0.69357426 0.23024639 0.33465356 0.20482933 0.60759749 0.22786832\n",
            "  0.43861152 0.47714633 0.30902302 0.24229878 0.49880369 0.29209062\n",
            "  0.31202617 0.41341066 0.03636636 0.22228751 0.29096045 0.37281407\n",
            "  0.51758541 0.3931741  0.63169382 0.14718665 0.5426791  0.27904081\n",
            "  0.51899797 0.57286194 0.4550579  0.42139345 0.44325931 0.37217529\n",
            "  0.47139413 0.         0.02391058 0.12684631 0.38946729 0.24036866\n",
            "  0.45780275 0.49614173 0.24483059 0.47120696 0.55050504 0.39227064\n",
            "  0.26643041 0.50017755 0.35870601 0.29134822]\n",
            " [0.43973456 0.47786554 0.33277748 0.25378521 0.1201827  0.3252208\n",
            "  0.42013766 0.56035287 0.2885259  0.32311873 0.07490369 0.45361586\n",
            "  0.41778805 0.52350964 0.39461804 0.37501039 0.19558529 0.45245847\n",
            "  0.34037051 0.59803404 0.06522703 0.46673233 0.53159413 0.50603108\n",
            "  0.42233024 0.44763362 0.50478118 0.63795044 0.42598287 0.32780436\n",
            "  0.68595892 0.35944257 0.52040974 0.26731598 0.31165578 0.38710445\n",
            "  0.54396811 0.17189725 0.29163345 0.219095   0.65101946 0.66850233\n",
            "  0.50680716 0.73092884 0.1853644  0.37082359 0.60126918 0.5179692\n",
            "  0.20095794 0.14085959 0.29574733 0.51545587 0.12313675 0.24944828\n",
            "  0.71641833 0.21506747 0.35307892 0.21034112 0.59942187 0.21313876\n",
            "  0.45918381 0.46358222 0.29043748 0.22513494 0.51489699 0.31397239\n",
            "  0.28843354 0.43721952 0.02699516 0.22657363 0.30845232 0.35024493\n",
            "  0.49419511 0.41674356 0.652952   0.17109447 0.53211144 0.29952918\n",
            "  0.51856333 0.59572749 0.47046789 0.44475949 0.42040605 0.3687671\n",
            "  0.46833033 0.02391058 0.         0.14989361 0.3868985  0.24282217\n",
            "  0.4411822  0.50660501 0.26614394 0.48899905 0.53920447 0.38982792\n",
            "  0.27950138 0.52198822 0.38231871 0.30688317]\n",
            " [0.43496606 0.61151923 0.45186677 0.34366983 0.26880309 0.43978374\n",
            "  0.50091362 0.44725721 0.43691647 0.46612767 0.19834764 0.59929017\n",
            "  0.31787068 0.67301045 0.49581403 0.26622889 0.23923499 0.30256686\n",
            "  0.20055739 0.44843856 0.2084388  0.4765231  0.53668355 0.64876073\n",
            "  0.35207199 0.32128086 0.65208147 0.66150868 0.50267029 0.38380536\n",
            "  0.69249903 0.50264985 0.38087155 0.4147296  0.2107859  0.40770037\n",
            "  0.69355791 0.31603495 0.40566038 0.17424432 0.50249779 0.67267212\n",
            "  0.4371402  0.581882   0.31683982 0.31204301 0.53904617 0.66765317\n",
            "  0.1550173  0.16924524 0.34775574 0.38402159 0.27131564 0.37792657\n",
            "  0.56673779 0.30613567 0.22485369 0.1858041  0.62980208 0.30194395\n",
            "  0.36656952 0.53200548 0.39652411 0.36107202 0.39679161 0.16734815\n",
            "  0.42978063 0.29989082 0.14611413 0.2735363  0.1882003  0.49961126\n",
            "  0.64402438 0.2857353  0.50771047 0.04288726 0.5794726  0.16038328\n",
            "  0.50256561 0.44602252 0.42380938 0.3170767  0.5535164  0.44411426\n",
            "  0.47077214 0.12684631 0.14989361 0.         0.45730216 0.23049662\n",
            "  0.529845   0.49493274 0.12304498 0.36157439 0.5910491  0.39246071\n",
            "  0.19229626 0.37495128 0.25117288 0.20001072]\n",
            " [0.8251295  0.67519638 0.17470305 0.59844084 0.39010235 0.61583377\n",
            "  0.751147   0.90317526 0.35509816 0.30756414 0.31386031 0.58120943\n",
            "  0.4542087  0.51340501 0.6980147  0.72352786 0.21821296 0.68366339\n",
            "  0.52680625 0.82373852 0.33970079 0.1939787  0.91321152 0.64568729\n",
            "  0.38102194 0.54743226 0.60058806 1.008686   0.7614626  0.07881086\n",
            "  1.06458067 0.32227593 0.65070916 0.33573476 0.66664542 0.14501674\n",
            "  0.58348363 0.30517379 0.16036373 0.32161689 0.88857002 1.04834937\n",
            "  0.42013072 0.95612023 0.48232177 0.75063314 0.98245288 0.51736644\n",
            "  0.33061021 0.52775672 0.11344516 0.82915028 0.33922277 0.52836307\n",
            "  0.92969873 0.56637712 0.67809234 0.59419999 0.96689856 0.5670614\n",
            "  0.45583869 0.80509942 0.60519645 0.25638441 0.85143617 0.59970892\n",
            "  0.50357671 0.58011682 0.41378212 0.1844663  0.64506557 0.40088583\n",
            "  0.53313443 0.54338101 0.91517062 0.4370369  0.88951341 0.60813386\n",
            "  0.90488604 0.81873233 0.34145304 0.55001684 0.63287123 0.02222743\n",
            "  0.85179224 0.38946729 0.3868985  0.45730216 0.         0.62930174\n",
            "  0.75872958 0.26905903 0.56923504 0.81126484 0.89229011 0.77457658\n",
            "  0.64309734 0.78240096 0.52285874 0.656832  ]\n",
            " [0.20701863 0.50555575 0.5648385  0.19874297 0.29192841 0.31233335\n",
            "  0.31132405 0.37515088 0.46721499 0.52176632 0.31727094 0.54060378\n",
            "  0.54145346 0.67138031 0.33530369 0.21342186 0.4270553  0.4211841\n",
            "  0.39363865 0.53782165 0.29811703 0.6901916  0.30714104 0.57135166\n",
            "  0.58228048 0.52418235 0.59950937 0.43114926 0.30815481 0.56720842\n",
            "  0.4634258  0.55485197 0.55592001 0.45448827 0.16102604 0.61476583\n",
            "  0.66318808 0.38362253 0.52804095 0.39916528 0.57113448 0.44404843\n",
            "  0.66697623 0.65181268 0.26316983 0.14119188 0.36272673 0.66241182\n",
            "  0.37901605 0.10277551 0.533538   0.37504109 0.33030091 0.29597189\n",
            "  0.6495413  0.17960476 0.24110729 0.04476387 0.40044431 0.17388074\n",
            "  0.59189199 0.32666798 0.26288362 0.44621706 0.34384588 0.2787229\n",
            "  0.3736862  0.48675161 0.21625927 0.46076635 0.19773829 0.51294925\n",
            "  0.62374232 0.4849014  0.54893786 0.27295874 0.35682619 0.24094377\n",
            "  0.28062579 0.53843371 0.65368856 0.51854798 0.45190427 0.61146678\n",
            "  0.24127925 0.24036866 0.24282217 0.23049662 0.62930174 0.\n",
            "  0.34730229 0.7176096  0.23801165 0.34209185 0.37054403 0.16226977\n",
            "  0.12497575 0.44246948 0.45313918 0.17003233]\n",
            " [0.30427816 0.24436959 0.62112149 0.18924336 0.37548089 0.14498821\n",
            "  0.03921752 0.66998295 0.44278682 0.51071987 0.48418077 0.34652589\n",
            "  0.84423345 0.52957977 0.06443189 0.5476767  0.62358858 0.76807314\n",
            "  0.72240294 0.88346211 0.44873437 0.889181   0.30411493 0.33744565\n",
            "  0.86106487 0.84930684 0.39724566 0.31152417 0.05011237 0.72599\n",
            "  0.39336803 0.52709075 0.89492893 0.4496355  0.50499074 0.80756401\n",
            "  0.47958741 0.45355671 0.60818439 0.65851909 0.91276736 0.38748452\n",
            "  0.94635514 0.99207907 0.27980429 0.42867451 0.53914098 0.51722003\n",
            "  0.63942664 0.36157027 0.70252659 0.70329528 0.42443179 0.23060537\n",
            "  0.9926649  0.22835914 0.5867208  0.38019189 0.26606436 0.23144664\n",
            "  0.89024849 0.07875964 0.15631308 0.5066272  0.65563334 0.62306694\n",
            "  0.27474436 0.82025472 0.42149203 0.6479067  0.54482133 0.44328863\n",
            "  0.4652193  0.81204714 0.88399486 0.57023983 0.1756978  0.58672947\n",
            "  0.36062738 0.88440216 0.91155215 0.8445899  0.22023943 0.73678789\n",
            "  0.28986406 0.45780275 0.4411822  0.529845   0.75872958 0.34730229\n",
            "  0.         0.93888366 0.57861242 0.6697012  0.16635483 0.28032885\n",
            "  0.47127553 0.78689502 0.77816439 0.51576646]\n",
            " [0.92462822 0.90539078 0.43642071 0.75713986 0.56657183 0.80669479\n",
            "  0.92223856 0.88867134 0.59594725 0.56141006 0.45480451 0.82651741\n",
            "  0.30532966 0.77923937 0.88510672 0.73410759 0.31543769 0.60012327\n",
            "  0.4532503  0.71445268 0.49015004 0.07557971 1.02377034 0.890828\n",
            "  0.21280942 0.40720107 0.85368739 1.13976586 0.929447   0.24247869\n",
            "  1.18013758 0.58210669 0.50454715 0.57267496 0.69237265 0.14220335\n",
            "  0.8454462  0.50957988 0.40849415 0.32074127 0.78062535 1.16118524\n",
            "  0.19773197 0.83271982 0.66162748 0.80565863 1.02704112 0.78234911\n",
            "  0.34031127 0.63062089 0.25051019 0.79112187 0.5215344  0.71969839\n",
            "  0.8002232  0.71945981 0.6712632  0.67453002 1.10318246 0.71814658\n",
            "  0.27768907 0.96877951 0.78301528 0.48265276 0.83437586 0.57567334\n",
            "  0.71786869 0.45935144 0.5309616  0.29171665 0.65486384 0.65125201\n",
            "  0.79356898 0.42269711 0.82353868 0.45709301 1.03854332 0.60037349\n",
            "  0.99589496 0.70811995 0.12497925 0.41266961 0.85630815 0.28493112\n",
            "  0.95823106 0.49614173 0.50660501 0.49493274 0.26905903 0.7176096\n",
            "  0.93888366 0.         0.56642864 0.78354961 1.04580921 0.87866084\n",
            "  0.68265841 0.70470365 0.4188715  0.67835526]\n",
            " [0.41451315 0.69803158 0.57447955 0.40598792 0.37981001 0.51390791\n",
            "  0.54475049 0.33552839 0.55461716 0.58727227 0.32087651 0.70084331\n",
            "  0.32733109 0.78838139 0.5564119  0.16770847 0.35198289 0.19854145\n",
            "  0.16147611 0.33706514 0.32831402 0.56154256 0.51700435 0.74552771\n",
            "  0.38904351 0.29125488 0.75604141 0.6510285  0.54313068 0.49296722\n",
            "  0.66692816 0.62377328 0.3180904  0.53341765 0.13202261 0.50140182\n",
            "  0.80341087 0.43639679 0.52794744 0.26003604 0.38643605 0.64587797\n",
            "  0.46726081 0.4671897  0.41067407 0.25823458 0.46355909 0.78233744\n",
            "  0.24519425 0.22946775 0.4569526  0.26272066 0.38925818 0.46626436\n",
            "  0.45530997 0.373324   0.1098534  0.19937724 0.62621806 0.36813196\n",
            "  0.37909352 0.56421383 0.46642175 0.4835376  0.2828128  0.04999319\n",
            "  0.52822848 0.24960956 0.25600388 0.38491575 0.08890227 0.61560266\n",
            "  0.75554188 0.25135402 0.38687607 0.13242757 0.59211832 0.03894545\n",
            "  0.46750503 0.33558312 0.47466041 0.28510466 0.64057172 0.55784849\n",
            "  0.45334756 0.24483059 0.26614394 0.12304498 0.56923504 0.23801165\n",
            "  0.57861242 0.56642864 0.         0.24245188 0.60681787 0.38244468\n",
            "  0.13733228 0.25621341 0.22214075 0.11641795]\n",
            " [0.40623556 0.84754904 0.81218771 0.54078122 0.58837855 0.65423192\n",
            "  0.6309417  0.10811496 0.76974917 0.81113996 0.5532629  0.8786187\n",
            "  0.50255013 0.99377192 0.67011896 0.12899403 0.59439074 0.21913026\n",
            "  0.33260866 0.24715543 0.5540554  0.78948989 0.48894863 0.91247581\n",
            "  0.58444801 0.42498047 0.9369498  0.62352953 0.62364418 0.73447234\n",
            "  0.60719129 0.84715564 0.38712281 0.7513326  0.18908532 0.73597394\n",
            "  0.99570372 0.66040445 0.7666301  0.49681409 0.25416685 0.5858035\n",
            "  0.64882456 0.32809869 0.59124795 0.24333475 0.31918475 0.9861416\n",
            "  0.48395524 0.40050268 0.69857692 0.03361163 0.60925446 0.63360328\n",
            "  0.33569971 0.52033995 0.13725485 0.33148502 0.61510614 0.51458702\n",
            "  0.55009861 0.62762239 0.60485477 0.71349165 0.05646428 0.21405914\n",
            "  0.70778634 0.36586247 0.47210233 0.6271448  0.18057531 0.82550826\n",
            "  0.95248906 0.39102377 0.2154753  0.37486417 0.61624476 0.20351559\n",
            "  0.41668448 0.25110204 0.67693241 0.4177428  0.7939741  0.80018724\n",
            "  0.44198652 0.47120696 0.48899905 0.36157439 0.81126484 0.34209185\n",
            "  0.6697012  0.78354961 0.24245188 0.         0.63508896 0.40300863\n",
            "  0.2275811  0.15571533 0.37900859 0.18780368]\n",
            " [0.22988034 0.40418537 0.76826659 0.29460346 0.50222784 0.29976867\n",
            "  0.15221603 0.6088867  0.59849569 0.66668507 0.59616206 0.51206367\n",
            "  0.90808285 0.69583227 0.22754259 0.52923296 0.73281689 0.77621347\n",
            "  0.76416373 0.87063447 0.56309642 1.00380082 0.17735314 0.49853324\n",
            "  0.94001856 0.89472618 0.56119608 0.1456535  0.13839404 0.850501\n",
            "  0.22937278 0.68594294 0.92268318 0.6023072  0.50372865 0.92294545\n",
            "  0.64403553 0.59058149 0.74982525 0.7438833  0.88838994 0.22587585\n",
            "  1.02578006 0.9631351  0.41121312 0.39559762 0.43229371 0.68344047\n",
            "  0.72378546 0.42600026 0.82330469 0.66742726 0.55307912 0.37589987\n",
            "  0.96994052 0.32941752 0.58406266 0.41321248 0.1009034  0.32986603\n",
            "  0.95745026 0.09328403 0.29265523 0.64878708 0.60783873 0.64357952\n",
            "  0.43302205 0.85637153 0.51510151 0.76117618 0.55082349 0.60519435\n",
            "  0.63130413 0.85541865 0.84921151 0.63381277 0.02008754 0.60415759\n",
            "  0.25104928 0.8728769  1.0020105  0.88908102 0.38571552 0.87094221\n",
            "  0.1978131  0.55050504 0.53920447 0.5910491  0.89229011 0.37054403\n",
            "  0.16635483 1.04580921 0.60681787 0.63508896 0.         0.2359106\n",
            "  0.47830864 0.77266373 0.82366347 0.51778068]\n",
            " [0.0512302  0.49874267 0.6888172  0.2300174  0.40563753 0.31882145\n",
            "  0.24130421 0.39115097 0.55891358 0.62171855 0.46090888 0.56828235\n",
            "  0.69928379 0.72803214 0.29978645 0.29337747 0.58182059 0.5418612\n",
            "  0.54331371 0.63501755 0.43561823 0.84881559 0.1451499  0.58175383\n",
            "  0.74365215 0.67360903 0.62642585 0.27083418 0.23089682 0.71763182\n",
            "  0.30154576 0.65059265 0.69286562 0.55240194 0.26992641 0.77188469\n",
            "  0.70123666 0.502163   0.65771287 0.56119769 0.65461304 0.28253619\n",
            "  0.82794222 0.73076343 0.34314875 0.1606453  0.27625031 0.71730164\n",
            "  0.54100536 0.25156545 0.68535528 0.43600419 0.4523194  0.34661884\n",
            "  0.73601333 0.23954984 0.34901957 0.20673362 0.24381669 0.23576064\n",
            "  0.75030287 0.22688633 0.27824467 0.56594843 0.3813508  0.41451278\n",
            "  0.42582254 0.6308506  0.36287628 0.61455626 0.31824593 0.59075684\n",
            "  0.67138239 0.63375249 0.61833536 0.43467674 0.21840667 0.37464373\n",
            "  0.13327717 0.63716331 0.8159291  0.66751724 0.45557566 0.75542826\n",
            "  0.07963597 0.39227064 0.38982792 0.39246071 0.77457658 0.16226977\n",
            "  0.28032885 0.87866084 0.38244468 0.40300863 0.2359106  0.\n",
            "  0.24806499 0.53701335 0.60382469 0.28462658]\n",
            " [0.27763193 0.6260293  0.61190148 0.3202219  0.36620082 0.43374947\n",
            "  0.43460245 0.28289239 0.54789597 0.59391147 0.35107436 0.65156665\n",
            "  0.46312086 0.76760938 0.46021366 0.10083634 0.42717074 0.30022185\n",
            "  0.29865986 0.41288615 0.34401779 0.66804829 0.37985488 0.68707745\n",
            "  0.51937908 0.42775463 0.70971358 0.5145114  0.43050117 0.57234209\n",
            "  0.52968232 0.62920172 0.44515745 0.53106402 0.03867595 0.59999384\n",
            "  0.76814771 0.44565282 0.56950376 0.3639683  0.4466897  0.50867929\n",
            "  0.60016774 0.5276346  0.36368191 0.12454343 0.34684458 0.75969931\n",
            "  0.34563345 0.17356076 0.53659622 0.25900666 0.39272151 0.40688242\n",
            "  0.52471877 0.29602048 0.11613676 0.10482279 0.49105302 0.29029616\n",
            "  0.51484337 0.4453546  0.38427805 0.50323861 0.24138879 0.1664537\n",
            "  0.48029615 0.38314837 0.25820837 0.461875   0.07408758 0.60119527\n",
            "  0.72521925 0.38779124 0.42692585 0.22615724 0.46245948 0.12660753\n",
            "  0.33074177 0.41355954 0.60084248 0.42143784 0.57103254 0.62821799\n",
            "  0.3166384  0.26643041 0.27950138 0.19229626 0.64309734 0.12497575\n",
            "  0.47127553 0.68265841 0.13733228 0.2275811  0.47830864 0.24806499\n",
            "  0.         0.31754495 0.3593066  0.04513345]\n",
            " [0.54802989 0.9390457  0.81681474 0.63592564 0.6358497  0.74869346\n",
            "  0.74939678 0.24835853 0.81050609 0.84103538 0.57262923 0.95227029\n",
            "  0.40433229 1.04459289 0.77775511 0.24387707 0.57644622 0.10465066\n",
            "  0.2597482  0.09801176 0.58307759 0.72435768 0.63698148 0.9937132\n",
            "  0.49439937 0.31114893 1.00855126 0.77324816 0.74412723 0.70361379\n",
            "  0.76104507 0.87755429 0.24904887 0.78896372 0.2821453  0.68395667\n",
            "  1.05846792 0.69091819 0.76904553 0.46099158 0.13184541 0.73955604\n",
            "  0.54512228 0.21342846 0.66081552 0.3772004  0.47407468 1.03851696\n",
            "  0.45377421 0.47166982 0.66943601 0.13519326 0.64494556 0.71233966\n",
            "  0.20735629 0.60870687 0.20144718 0.41841714 0.76173061 0.60310586\n",
            "  0.44532091 0.75429429 0.69949025 0.73499335 0.20733295 0.20808716\n",
            "  0.77917076 0.25219882 0.51218991 0.60517116 0.24700143 0.87178915\n",
            "  1.01117149 0.28549217 0.13474361 0.37031548 0.7546475  0.22651182\n",
            "  0.56728338 0.10027362 0.58761591 0.30429906 0.88279232 0.77524454\n",
            "  0.58555111 0.50017755 0.52198822 0.37495128 0.78240096 0.44246948\n",
            "  0.78689502 0.70470365 0.25621341 0.15571533 0.77266373 0.53701335\n",
            "  0.31754495 0.         0.28583229 0.27244245]\n",
            " [0.63665292 0.85821919 0.59490502 0.59406501 0.50058397 0.69073351\n",
            "  0.74749406 0.48701068 0.64385412 0.65445758 0.39864658 0.83427873\n",
            "  0.12360454 0.88023789 0.74650168 0.36620837 0.34356161 0.18127192\n",
            "  0.06066476 0.30506295 0.42382765 0.44094612 0.73911879 0.8881035\n",
            "  0.20962305 0.07143217 0.88324232 0.87307222 0.74798687 0.44529486\n",
            "  0.88832902 0.68935393 0.14299574 0.61890803 0.34916114 0.4080098\n",
            "  0.91420194 0.51878934 0.54710707 0.2196494  0.37124166 0.86716296\n",
            "  0.26982211 0.43437727 0.56315882 0.47744782 0.6644738  0.877077\n",
            "  0.22262637 0.41669694 0.41472918 0.38072111 0.487487   0.62586749\n",
            "  0.4069959  0.55697826 0.29508719 0.41075169 0.84762411 0.55265415\n",
            "  0.17163311 0.77383202 0.6476952  0.54374993 0.43373499 0.20091318\n",
            "  0.67072891 0.06069193 0.38780227 0.36382697 0.3006363  0.70977379\n",
            "  0.86204223 0.0347143  0.40765503 0.21549451 0.80989558 0.23852075\n",
            "  0.68818802 0.29946106 0.30309277 0.06643545 0.80035986 0.51991794\n",
            "  0.67546686 0.35870601 0.38231871 0.25117288 0.52285874 0.45313918\n",
            "  0.77816439 0.4188715  0.22214075 0.37900859 0.82366347 0.60382469\n",
            "  0.3593066  0.28583229 0.         0.33305723]\n",
            " [0.30965786 0.67053286 0.63668725 0.36508151 0.40121732 0.47851521\n",
            "  0.47885792 0.25392977 0.58286013 0.62623991 0.37549832 0.69393215\n",
            "  0.44292025 0.80597123 0.50531356 0.06855891 0.43905592 0.25866071\n",
            "  0.27300243 0.36799116 0.37206399 0.66873356 0.4102017  0.73052274\n",
            "  0.50532809 0.39926071 0.75181802 0.5464843  0.47444772 0.58380085\n",
            "  0.55621053 0.66195515 0.40901308 0.56502912 0.01610602 0.60405018\n",
            "  0.80883952 0.4764353  0.59292029 0.36425022 0.40158916 0.53490395\n",
            "  0.5836412  0.48258299 0.40466202 0.14445696 0.34896645 0.79836542\n",
            "  0.34716506 0.21321197 0.5477611  0.21801854 0.42432342 0.4497596\n",
            "  0.47958949 0.3402282  0.07111459 0.14869665 0.52539005 0.33452273\n",
            "  0.49463475 0.48814577 0.42907287 0.53197014 0.20814297 0.13394092\n",
            "  0.52202075 0.35138858 0.28780458 0.47346479 0.03392562 0.63791241\n",
            "  0.7650727  0.3594186  0.38260529 0.22753299 0.50138431 0.09476906\n",
            "  0.3555423  0.36875541 0.59013845 0.39266572 0.61529812 0.64308482\n",
            "  0.34891378 0.29134822 0.30688317 0.20001072 0.656832   0.17003233\n",
            "  0.51576646 0.67835526 0.11641795 0.18780368 0.51778068 0.28462658\n",
            "  0.04513345 0.27244245 0.33305723 0.        ]]\n"
          ]
        }
      ],
      "source": [
        "Z = np.random.random((100,2))\n",
        "X,Y = np.atleast_2d(Z[:,0], Z[:,1])\n",
        "D = np.sqrt( (X-X.T)**2 + (Y-Y.T)**2)\n",
        "print(D)"
      ]
    },
    {
      "cell_type": "markdown",
      "metadata": {
        "id": "HQy9D9VSdjPo"
      },
      "source": [
        "#### 53. How to convert a float (32 bits) array into an integer (32 bits) in place? \n",
        "(**hint**: astype(copy=False))"
      ]
    },
    {
      "cell_type": "code",
      "execution_count": null,
      "metadata": {
        "id": "AOoYbVLQdjPp",
        "colab": {
          "base_uri": "https://localhost:8080/"
        },
        "outputId": "6c484191-84c7-4b25-b990-bfac50d9e884"
      },
      "outputs": [
        {
          "output_type": "stream",
          "name": "stdout",
          "text": [
            "[69 24 78 75 44 85 79 91 18 22]\n"
          ]
        }
      ],
      "source": [
        "Z = (np.random.rand(10)*100).astype(np.float32)\n",
        "Y = Z.view(np.int32)\n",
        "Y[:] = Z\n",
        "print(Y)"
      ]
    },
    {
      "cell_type": "markdown",
      "metadata": {
        "id": "CqrAHUnzdjPp"
      },
      "source": [
        "#### 54. How to read the following file? (★★☆) \n",
        "(**hint**: np.genfromtxt)"
      ]
    },
    {
      "cell_type": "markdown",
      "metadata": {
        "id": "gRV4IxskdjPp"
      },
      "source": [
        "```\n",
        "1, 2, 3, 4, 5\n",
        "6,  ,  , 7, 8\n",
        " ,  , 9,10,11\n",
        "```"
      ]
    },
    {
      "cell_type": "code",
      "execution_count": null,
      "metadata": {
        "id": "lMGLHeRedjPq",
        "colab": {
          "base_uri": "https://localhost:8080/"
        },
        "outputId": "b215257d-405a-4a4b-981c-dca568610ee1"
      },
      "outputs": [
        {
          "output_type": "stream",
          "name": "stdout",
          "text": [
            "[[ 1  2  3  4  5]\n",
            " [ 6 -1 -1  7  8]\n",
            " [-1 -1  9 10 11]]\n"
          ]
        },
        {
          "output_type": "stream",
          "name": "stderr",
          "text": [
            "/usr/local/lib/python3.7/dist-packages/ipykernel_launcher.py:8: DeprecationWarning: `np.int` is a deprecated alias for the builtin `int`. To silence this warning, use `int` by itself. Doing this will not modify any behavior and is safe. When replacing `np.int`, you may wish to use e.g. `np.int64` or `np.int32` to specify the precision. If you wish to review your current use, check the release note link for additional information.\n",
            "Deprecated in NumPy 1.20; for more details and guidance: https://numpy.org/devdocs/release/1.20.0-notes.html#deprecations\n",
            "  \n"
          ]
        }
      ],
      "source": [
        "from io import StringIO\n",
        "\n",
        "# Fake file\n",
        "s = StringIO('''1, 2, 3, 4, 5\n",
        "                6,  ,  , 7, 8\n",
        "                 ,  , 9,10,11\n",
        "''')\n",
        "Z = np.genfromtxt(s, delimiter=\",\", dtype=np.int)\n",
        "print(Z)"
      ]
    },
    {
      "cell_type": "markdown",
      "metadata": {
        "id": "PtUDxM7QdjPq"
      },
      "source": [
        "#### 55. What is the equivalent of enumerate for numpy arrays? (★★☆) \n",
        "(**hint**: np.ndenumerate, np.ndindex)"
      ]
    },
    {
      "cell_type": "code",
      "execution_count": null,
      "metadata": {
        "id": "qZyi3rB5djPq",
        "colab": {
          "base_uri": "https://localhost:8080/"
        },
        "outputId": "54921b61-fc11-4db5-d116-33207f2231d7"
      },
      "outputs": [
        {
          "output_type": "stream",
          "name": "stdout",
          "text": [
            "(0, 0) 0\n",
            "(0, 1) 1\n",
            "(0, 2) 2\n",
            "(1, 0) 3\n",
            "(1, 1) 4\n",
            "(1, 2) 5\n",
            "(2, 0) 6\n",
            "(2, 1) 7\n",
            "(2, 2) 8\n",
            "(0, 0) 0\n",
            "(0, 1) 1\n",
            "(0, 2) 2\n",
            "(1, 0) 3\n",
            "(1, 1) 4\n",
            "(1, 2) 5\n",
            "(2, 0) 6\n",
            "(2, 1) 7\n",
            "(2, 2) 8\n"
          ]
        }
      ],
      "source": [
        "Z = np.arange(9).reshape(3,3)\n",
        "for index, value in np.ndenumerate(Z):\n",
        "    print(index, value)\n",
        "for index in np.ndindex(Z.shape):\n",
        "    print(index, Z[index])"
      ]
    },
    {
      "cell_type": "markdown",
      "metadata": {
        "id": "HqNG3uuKdjPq"
      },
      "source": [
        "#### 56. Generate a generic 2D Gaussian-like array (★★☆) \n",
        "(**hint**: np.meshgrid, np.exp)"
      ]
    },
    {
      "cell_type": "code",
      "execution_count": null,
      "metadata": {
        "id": "qCcc3J6odjPr",
        "colab": {
          "base_uri": "https://localhost:8080/"
        },
        "outputId": "a09c1875-c4de-489d-8bfb-7ee2a89d38c3"
      },
      "outputs": [
        {
          "output_type": "stream",
          "name": "stdout",
          "text": [
            "[[0.36787944 0.44822088 0.51979489 0.57375342 0.60279818 0.60279818\n",
            "  0.57375342 0.51979489 0.44822088 0.36787944]\n",
            " [0.44822088 0.54610814 0.63331324 0.69905581 0.73444367 0.73444367\n",
            "  0.69905581 0.63331324 0.54610814 0.44822088]\n",
            " [0.51979489 0.63331324 0.73444367 0.81068432 0.85172308 0.85172308\n",
            "  0.81068432 0.73444367 0.63331324 0.51979489]\n",
            " [0.57375342 0.69905581 0.81068432 0.89483932 0.9401382  0.9401382\n",
            "  0.89483932 0.81068432 0.69905581 0.57375342]\n",
            " [0.60279818 0.73444367 0.85172308 0.9401382  0.98773022 0.98773022\n",
            "  0.9401382  0.85172308 0.73444367 0.60279818]\n",
            " [0.60279818 0.73444367 0.85172308 0.9401382  0.98773022 0.98773022\n",
            "  0.9401382  0.85172308 0.73444367 0.60279818]\n",
            " [0.57375342 0.69905581 0.81068432 0.89483932 0.9401382  0.9401382\n",
            "  0.89483932 0.81068432 0.69905581 0.57375342]\n",
            " [0.51979489 0.63331324 0.73444367 0.81068432 0.85172308 0.85172308\n",
            "  0.81068432 0.73444367 0.63331324 0.51979489]\n",
            " [0.44822088 0.54610814 0.63331324 0.69905581 0.73444367 0.73444367\n",
            "  0.69905581 0.63331324 0.54610814 0.44822088]\n",
            " [0.36787944 0.44822088 0.51979489 0.57375342 0.60279818 0.60279818\n",
            "  0.57375342 0.51979489 0.44822088 0.36787944]]\n"
          ]
        }
      ],
      "source": [
        "X, Y = np.meshgrid(np.linspace(-1,1,10), np.linspace(-1,1,10))\n",
        "D = np.sqrt(X*X+Y*Y)\n",
        "sigma, mu = 1.0, 0.0\n",
        "G = np.exp(-( (D-mu)**2 / ( 2.0 * sigma**2 ) ) )\n",
        "print(G)"
      ]
    },
    {
      "cell_type": "markdown",
      "metadata": {
        "id": "XLeepLKIdjPr"
      },
      "source": [
        "#### 57. How to randomly place p elements in a 2D array? (★★☆) \n",
        "(**hint**: np.put, np.random.choice)"
      ]
    },
    {
      "cell_type": "code",
      "execution_count": null,
      "metadata": {
        "id": "Z5-t0v2RdjPr",
        "colab": {
          "base_uri": "https://localhost:8080/"
        },
        "outputId": "807539b8-e2d6-4f49-b15a-739c2b22d357"
      },
      "outputs": [
        {
          "output_type": "stream",
          "name": "stdout",
          "text": [
            "[[0. 0. 0. 0. 0. 0. 0. 0. 0. 0.]\n",
            " [0. 0. 0. 0. 0. 0. 0. 0. 0. 0.]\n",
            " [1. 0. 0. 0. 0. 0. 0. 0. 0. 0.]\n",
            " [0. 0. 0. 0. 0. 0. 0. 0. 1. 0.]\n",
            " [0. 0. 0. 0. 0. 0. 0. 0. 0. 0.]\n",
            " [0. 0. 0. 0. 0. 0. 0. 0. 0. 0.]\n",
            " [0. 0. 0. 0. 0. 0. 0. 0. 0. 0.]\n",
            " [0. 0. 0. 0. 0. 0. 0. 0. 0. 0.]\n",
            " [0. 1. 0. 0. 0. 0. 0. 0. 0. 0.]\n",
            " [0. 0. 0. 0. 0. 0. 0. 0. 0. 0.]]\n"
          ]
        }
      ],
      "source": [
        "n = 10\n",
        "p = 3\n",
        "Z = np.zeros((n,n))\n",
        "np.put(Z, np.random.choice(range(n*n), p, replace=False),1)\n",
        "print(Z)"
      ]
    },
    {
      "cell_type": "markdown",
      "metadata": {
        "id": "CijBh6sxdjPr"
      },
      "source": [
        "#### 58. Subtract the mean of each row of a matrix (★★☆) \n",
        "(**hint**: mean(axis=,keepdims=))"
      ]
    },
    {
      "cell_type": "code",
      "execution_count": null,
      "metadata": {
        "id": "kk-P0SZddjPr",
        "colab": {
          "base_uri": "https://localhost:8080/"
        },
        "outputId": "22d4aebd-577b-47a0-af41-149e2133809b"
      },
      "outputs": [
        {
          "output_type": "stream",
          "name": "stdout",
          "text": [
            "[[ 0.14634929  0.38813713  0.11613271  0.13335788 -0.36761608 -0.10346375\n",
            "  -0.34741631 -0.04061407 -0.00591807  0.08105127]\n",
            " [ 0.49690727 -0.0326477  -0.29290664 -0.23002024 -0.03793116 -0.07269588\n",
            "  -0.26343991  0.54504575 -0.18486772  0.07255622]\n",
            " [-0.13733625 -0.08009983 -0.29868285  0.13888732  0.17246081 -0.24206573\n",
            "   0.14280409  0.30106361 -0.06021828  0.06318712]\n",
            " [-0.37224612  0.20364838 -0.27114927  0.27214605  0.09868883  0.17133059\n",
            "   0.14926511 -0.03542521  0.25729844 -0.4735568 ]\n",
            " [-0.33342043  0.48011163  0.02451912 -0.03300701 -0.06068299  0.06484421\n",
            "   0.26449838 -0.0598194   0.03714621 -0.38418972]]\n"
          ]
        }
      ],
      "source": [
        "X = np.random.rand(5, 10)\n",
        "Y = X - X.mean(axis=1, keepdims=True)\n",
        "print(Y)\n"
      ]
    },
    {
      "cell_type": "markdown",
      "metadata": {
        "id": "P-rwhywMdjPr"
      },
      "source": [
        "#### 59. How to sort an array by the nth column? (★★☆) \n",
        "(**hint**: argsort)"
      ]
    },
    {
      "cell_type": "code",
      "execution_count": null,
      "metadata": {
        "id": "DPLzNnnVdjPs",
        "colab": {
          "base_uri": "https://localhost:8080/"
        },
        "outputId": "929fbc1c-e00d-496e-c12a-202a3ddf5818"
      },
      "outputs": [
        {
          "output_type": "stream",
          "name": "stdout",
          "text": [
            "[[6 9 7]\n",
            " [7 1 9]\n",
            " [3 8 5]]\n",
            "[[7 1 9]\n",
            " [3 8 5]\n",
            " [6 9 7]]\n"
          ]
        }
      ],
      "source": [
        "Z = np.random.randint(0,10,(3,3))\n",
        "print(Z)\n",
        "print(Z[Z[:,1].argsort()])"
      ]
    },
    {
      "cell_type": "markdown",
      "metadata": {
        "id": "itfQwsDBdjPs"
      },
      "source": [
        "#### 60. How to tell if a given 2D array has null columns? (★★☆) \n",
        "(**hint**: any, ~)"
      ]
    },
    {
      "cell_type": "code",
      "execution_count": null,
      "metadata": {
        "id": "uc6nAMEjdjPs",
        "colab": {
          "base_uri": "https://localhost:8080/"
        },
        "outputId": "4c01aa9d-a690-43f0-ea67-04a55cfd8f43"
      },
      "outputs": [
        {
          "output_type": "stream",
          "name": "stdout",
          "text": [
            "True\n"
          ]
        }
      ],
      "source": [
        "Z = np.random.randint(0,3,(3,10))\n",
        "print((~Z.any(axis=0)).any())"
      ]
    },
    {
      "cell_type": "markdown",
      "metadata": {
        "id": "m0wS2o0sdjPs"
      },
      "source": [
        "#### 61. Find the nearest value from a given value in an array (★★☆) \n",
        "(**hint**: np.abs, argmin, flat)"
      ]
    },
    {
      "cell_type": "code",
      "execution_count": null,
      "metadata": {
        "id": "7uA2joG7djPs",
        "colab": {
          "base_uri": "https://localhost:8080/"
        },
        "outputId": "de4bf73b-dd24-49b6-bfd2-82c2be158e69"
      },
      "outputs": [
        {
          "output_type": "stream",
          "name": "stdout",
          "text": [
            "0.3745024751786512\n"
          ]
        }
      ],
      "source": [
        "Z = np.random.uniform(0,1,10)\n",
        "z = 0.5\n",
        "m = Z.flat[np.abs(Z - z).argmin()]\n",
        "print(m)"
      ]
    },
    {
      "cell_type": "markdown",
      "metadata": {
        "id": "zAb8KBQtdjPt"
      },
      "source": [
        "#### 62. Considering two arrays with shape (1,3) and (3,1), how to compute their sum using an iterator? (★★☆) \n",
        "(**hint**: np.nditer)"
      ]
    },
    {
      "cell_type": "code",
      "execution_count": null,
      "metadata": {
        "id": "CcEo9tQFdjPt",
        "colab": {
          "base_uri": "https://localhost:8080/"
        },
        "outputId": "a51b48d4-32a9-44e0-dd37-747959e2ef44"
      },
      "outputs": [
        {
          "output_type": "stream",
          "name": "stdout",
          "text": [
            "[[0 1 2]\n",
            " [1 2 3]\n",
            " [2 3 4]]\n"
          ]
        }
      ],
      "source": [
        "A = np.arange(3).reshape(3,1)\n",
        "B = np.arange(3).reshape(1,3)\n",
        "it = np.nditer([A,B,None])\n",
        "for x,y,z in it: z[...] = x + y\n",
        "print(it.operands[2])"
      ]
    },
    {
      "cell_type": "markdown",
      "metadata": {
        "id": "13erce9jdjPt"
      },
      "source": [
        "#### 63. Create an array class that has a name attribute (★★☆) \n",
        "(**hint**: class method)"
      ]
    },
    {
      "cell_type": "code",
      "execution_count": null,
      "metadata": {
        "id": "idYKiYQkdjPu",
        "colab": {
          "base_uri": "https://localhost:8080/"
        },
        "outputId": "02ea2f44-bd78-4a82-ddb6-ff81a7a641e1"
      },
      "outputs": [
        {
          "output_type": "stream",
          "name": "stdout",
          "text": [
            "range_10\n"
          ]
        }
      ],
      "source": [
        "class NamedArray(np.ndarray):\n",
        "    def __new__(cls, array, name=\"no name\"):\n",
        "        obj = np.asarray(array).view(cls)\n",
        "        obj.name = name\n",
        "        return obj\n",
        "    def __array_finalize__(self, obj):\n",
        "        if obj is None: return\n",
        "        self.info = getattr(obj, 'name', \"no name\")\n",
        "Z = NamedArray(np.arange(10), \"range_10\")\n",
        "print (Z.name)"
      ]
    },
    {
      "cell_type": "markdown",
      "metadata": {
        "id": "GsGFrkmtdjPu"
      },
      "source": [
        "#### 64. Consider a given vector, how to add 1 to each element indexed by a second vector (be careful with repeated indices)? (★★★) \n",
        "(**hint**: np.bincount | np.add.at)"
      ]
    },
    {
      "cell_type": "code",
      "execution_count": null,
      "metadata": {
        "id": "FzHDEJ-JdjPu",
        "colab": {
          "base_uri": "https://localhost:8080/"
        },
        "outputId": "7878194f-91e1-4494-fcd1-190b3736b738"
      },
      "outputs": [
        {
          "output_type": "stream",
          "name": "stdout",
          "text": [
            "[2. 1. 1. 4. 3. 4. 4. 3. 5. 3.]\n"
          ]
        }
      ],
      "source": [
        "Z = np.ones(10)\n",
        "I = np.random.randint(0,len(Z),20)\n",
        "Z += np.bincount(I, minlength=len(Z))\n",
        "print(Z)"
      ]
    },
    {
      "cell_type": "markdown",
      "metadata": {
        "id": "embdphA6djPu"
      },
      "source": [
        "#### 65. How to accumulate elements of a vector (X) to an array (F) based on an index list (I)? (★★★) \n",
        "(**hint**: np.bincount)"
      ]
    },
    {
      "cell_type": "code",
      "execution_count": null,
      "metadata": {
        "id": "zWwdYeGBdjPu",
        "colab": {
          "base_uri": "https://localhost:8080/"
        },
        "outputId": "b0867f5c-f937-4de5-b586-d535d22cbe81"
      },
      "outputs": [
        {
          "output_type": "stream",
          "name": "stdout",
          "text": [
            "[0. 7. 0. 6. 5. 0. 0. 0. 0. 3.]\n"
          ]
        }
      ],
      "source": [
        "X = [1,2,3,4,5,6]\n",
        "I = [1,3,9,3,4,1]\n",
        "F = np.bincount(I,X)\n",
        "print(F)"
      ]
    },
    {
      "cell_type": "markdown",
      "metadata": {
        "id": "L8sRdHNndjPv"
      },
      "source": [
        "#### 66. Considering a (w,h,3) image of (dtype=ubyte), compute the number of unique colors (★★★) \n",
        "(**hint**: np.unique)"
      ]
    },
    {
      "cell_type": "code",
      "execution_count": null,
      "metadata": {
        "id": "kcIHwbvHdjPv",
        "colab": {
          "base_uri": "https://localhost:8080/"
        },
        "outputId": "6a8546de-20f3-4e44-d259-311d14ddb7b6"
      },
      "outputs": [
        {
          "output_type": "stream",
          "name": "stdout",
          "text": [
            "64\n"
          ]
        }
      ],
      "source": [
        "w, h = 256, 256\n",
        "I = np.random.randint(0, 4, (h, w, 3)).astype(np.ubyte)\n",
        "colors = np.unique(I.reshape(-1, 3), axis=0)\n",
        "n = len(colors)\n",
        "print(n)"
      ]
    },
    {
      "cell_type": "markdown",
      "metadata": {
        "id": "-2nvixOcdjPv"
      },
      "source": [
        "#### 67. Considering a four dimensions array, how to get sum over the last two axis at once? (★★★) \n",
        "(**hint**: sum(axis=(-2,-1)))"
      ]
    },
    {
      "cell_type": "code",
      "execution_count": null,
      "metadata": {
        "id": "JGMYHohvdjPv",
        "colab": {
          "base_uri": "https://localhost:8080/"
        },
        "outputId": "575ac896-56ed-40b4-9528-d811fe8b9387"
      },
      "outputs": [
        {
          "output_type": "stream",
          "name": "stdout",
          "text": [
            "[[62 61 51 53]\n",
            " [49 52 35 61]\n",
            " [32 53 52 55]]\n",
            "[[62 61 51 53]\n",
            " [49 52 35 61]\n",
            " [32 53 52 55]]\n"
          ]
        }
      ],
      "source": [
        "A = np.random.randint(0,10,(3,4,3,4))\n",
        "sum = A.sum(axis=(-2,-1))\n",
        "print(sum)\n",
        "\n",
        "sum = A.reshape(A.shape[:-2] + (-1,)).sum(axis=-1)\n",
        "print(sum)"
      ]
    },
    {
      "cell_type": "markdown",
      "metadata": {
        "id": "5SB9g_wVdjPw"
      },
      "source": [
        "#### 68. Considering a one-dimensional vector D, how to compute means of subsets of D using a vector S of same size describing subset  indices? (★★★) \n",
        "(**hint**: np.bincount)"
      ]
    },
    {
      "cell_type": "code",
      "execution_count": null,
      "metadata": {
        "id": "0vY2lgqEdjPw",
        "colab": {
          "base_uri": "https://localhost:8080/"
        },
        "outputId": "2dda4209-8eff-4d10-8f21-0321c20e6b34"
      },
      "outputs": [
        {
          "output_type": "stream",
          "name": "stdout",
          "text": [
            "[0.5982279  0.52104727 0.61695607 0.66660234 0.41596954 0.4888526\n",
            " 0.60549714 0.4162767  0.50559172 0.54698758]\n"
          ]
        }
      ],
      "source": [
        "D = np.random.uniform(0,1,100)\n",
        "S = np.random.randint(0,10,100)\n",
        "D_sums = np.bincount(S, weights=D)\n",
        "D_counts = np.bincount(S)\n",
        "D_means = D_sums / D_counts\n",
        "print(D_means)"
      ]
    },
    {
      "cell_type": "markdown",
      "metadata": {
        "id": "gjFO6eTzdjPw"
      },
      "source": [
        "#### 69. How to get the diagonal of a dot product? (★★★) \n",
        "(**hint**: np.diag)"
      ]
    },
    {
      "cell_type": "code",
      "execution_count": null,
      "metadata": {
        "id": "8OWNjJMAdjPx",
        "colab": {
          "base_uri": "https://localhost:8080/"
        },
        "outputId": "c2a2844b-aba5-4c5f-8bc7-dc491767b05b"
      },
      "outputs": [
        {
          "output_type": "execute_result",
          "data": {
            "text/plain": [
              "array([0.76193084, 1.42440427, 0.59949879, 1.20793336, 1.26127357])"
            ]
          },
          "metadata": {},
          "execution_count": 107
        }
      ],
      "source": [
        "A = np.random.uniform(0,1,(5,5))\n",
        "B = np.random.uniform(0,1,(5,5))\n",
        "np.diag(np.dot(A, B))\n"
      ]
    },
    {
      "cell_type": "markdown",
      "metadata": {
        "id": "fOOvImQ1djPx"
      },
      "source": [
        "#### 70. Consider the vector \\[1, 2, 3, 4, 5\\], how to build a new vector with 3 consecutive zeros interleaved between each value? (★★★) \n",
        "(**hint**: array\\[::4\\])"
      ]
    },
    {
      "cell_type": "code",
      "execution_count": null,
      "metadata": {
        "id": "N4-wpp6hdjPx",
        "colab": {
          "base_uri": "https://localhost:8080/"
        },
        "outputId": "db29a2b6-b36f-4537-8be0-29c7af095311"
      },
      "outputs": [
        {
          "output_type": "stream",
          "name": "stdout",
          "text": [
            "[1. 0. 0. 0. 2. 0. 0. 0. 3. 0. 0. 0. 4. 0. 0. 0. 5.]\n"
          ]
        }
      ],
      "source": [
        "Z = np.array([1,2,3,4,5])\n",
        "nz = 3\n",
        "Z0 = np.zeros(len(Z) + (len(Z)-1)*(nz))\n",
        "Z0[::nz+1] = Z\n",
        "print(Z0)"
      ]
    },
    {
      "cell_type": "markdown",
      "metadata": {
        "id": "KypFC45DdjPx"
      },
      "source": [
        "#### 71. Consider an array of dimension (5,5,3), how to mulitply it by an array with dimensions (5,5)? (★★★) \n",
        "(**hint**: array\\[:, :, None\\])"
      ]
    },
    {
      "cell_type": "code",
      "execution_count": 3,
      "metadata": {
        "collapsed": true,
        "id": "wRqjyBwrdjPy",
        "colab": {
          "base_uri": "https://localhost:8080/"
        },
        "outputId": "50a012cf-7813-438c-e71a-aecb2257505e"
      },
      "outputs": [
        {
          "output_type": "stream",
          "name": "stdout",
          "text": [
            "[[[2. 2. 2.]\n",
            "  [2. 2. 2.]\n",
            "  [2. 2. 2.]\n",
            "  [2. 2. 2.]\n",
            "  [2. 2. 2.]]\n",
            "\n",
            " [[2. 2. 2.]\n",
            "  [2. 2. 2.]\n",
            "  [2. 2. 2.]\n",
            "  [2. 2. 2.]\n",
            "  [2. 2. 2.]]\n",
            "\n",
            " [[2. 2. 2.]\n",
            "  [2. 2. 2.]\n",
            "  [2. 2. 2.]\n",
            "  [2. 2. 2.]\n",
            "  [2. 2. 2.]]\n",
            "\n",
            " [[2. 2. 2.]\n",
            "  [2. 2. 2.]\n",
            "  [2. 2. 2.]\n",
            "  [2. 2. 2.]\n",
            "  [2. 2. 2.]]\n",
            "\n",
            " [[2. 2. 2.]\n",
            "  [2. 2. 2.]\n",
            "  [2. 2. 2.]\n",
            "  [2. 2. 2.]\n",
            "  [2. 2. 2.]]]\n"
          ]
        }
      ],
      "source": [
        "A = np.ones((5,5,3))\n",
        "B = 2*np.ones((5,5))\n",
        "print(A * B[:,:,None])"
      ]
    },
    {
      "cell_type": "markdown",
      "metadata": {
        "id": "I1giKbXsdjPy"
      },
      "source": [
        "#### 72. How to swap two rows of an array? (★★★) \n",
        "(**hint**: array\\[\\[\\]\\] = array\\[\\[\\]\\])"
      ]
    },
    {
      "cell_type": "code",
      "execution_count": 4,
      "metadata": {
        "id": "v_VHvMOodjPy",
        "colab": {
          "base_uri": "https://localhost:8080/"
        },
        "outputId": "a0817261-a8b7-4c24-9a90-c5c89fe3f3bd"
      },
      "outputs": [
        {
          "output_type": "stream",
          "name": "stdout",
          "text": [
            "[[ 5  6  7  8  9]\n",
            " [ 0  1  2  3  4]\n",
            " [10 11 12 13 14]\n",
            " [15 16 17 18 19]\n",
            " [20 21 22 23 24]]\n"
          ]
        }
      ],
      "source": [
        "A = np.arange(25).reshape(5,5)\n",
        "A[[0,1]] = A[[1,0]]\n",
        "print(A)"
      ]
    },
    {
      "cell_type": "markdown",
      "metadata": {
        "id": "26JaNyFAdjPy"
      },
      "source": [
        "#### 73. Consider a set of 10 triplets describing 10 triangles (with shared vertices), find the set of unique line segments composing all the  triangles (★★★) \n",
        "(**hint**: repeat, np.roll, np.sort, view, np.unique)"
      ]
    },
    {
      "cell_type": "code",
      "execution_count": 5,
      "metadata": {
        "id": "PjTkrfuydjPz",
        "colab": {
          "base_uri": "https://localhost:8080/"
        },
        "outputId": "02fc3862-d5b1-446c-c18e-880b5f2f1ad1"
      },
      "outputs": [
        {
          "output_type": "stream",
          "name": "stdout",
          "text": [
            "[( 9, 14) ( 9, 32) (14, 32) (14, 63) (14, 65) (20, 78) (20, 92) (33, 54)\n",
            " (33, 80) (36, 40) (36, 46) (40, 46) (41, 42) (41, 81) (42, 81) (54, 80)\n",
            " (55, 76) (55, 94) (58, 71) (58, 97) (61, 79) (61, 83) (63, 65) (71, 97)\n",
            " (76, 94) (78, 92) (79, 83) (83, 84) (84, 84)]\n"
          ]
        }
      ],
      "source": [
        "faces = np.random.randint(0,100,(10,3))\n",
        "F = np.roll(faces.repeat(2,axis=1),-1,axis=1)\n",
        "F = F.reshape(len(F)*3,2)\n",
        "F = np.sort(F,axis=1)\n",
        "G = F.view( dtype=[('p0',F.dtype),('p1',F.dtype)] )\n",
        "G = np.unique(G)\n",
        "print(G)"
      ]
    },
    {
      "cell_type": "markdown",
      "metadata": {
        "id": "2RuI9NSOdjPz"
      },
      "source": [
        "#### 74. Given an array C that is a bincount, how to produce an array A such that np.bincount(A) == C? (★★★) \n",
        "(**hint**: np.repeat)"
      ]
    },
    {
      "cell_type": "code",
      "execution_count": 6,
      "metadata": {
        "id": "AITsLufddjP0",
        "colab": {
          "base_uri": "https://localhost:8080/"
        },
        "outputId": "bd304ffd-f535-44aa-9fb1-4d294f494635"
      },
      "outputs": [
        {
          "output_type": "stream",
          "name": "stdout",
          "text": [
            "[1 1 2 3 4 4 6]\n"
          ]
        }
      ],
      "source": [
        "C = np.bincount([1,1,2,3,4,4,6])\n",
        "A = np.repeat(np.arange(len(C)), C)\n",
        "print(A)"
      ]
    },
    {
      "cell_type": "markdown",
      "metadata": {
        "id": "qhIKUFqDdjP0"
      },
      "source": [
        "#### 75. How to compute averages using a sliding window over an array? (★★★) \n",
        "(**hint**: np.cumsum)"
      ]
    },
    {
      "cell_type": "code",
      "execution_count": 7,
      "metadata": {
        "id": "9w0jAH3WdjP1",
        "colab": {
          "base_uri": "https://localhost:8080/"
        },
        "outputId": "0c619235-0f76-4545-cffe-922b74313398"
      },
      "outputs": [
        {
          "output_type": "stream",
          "name": "stdout",
          "text": [
            "[ 1.  2.  3.  4.  5.  6.  7.  8.  9. 10. 11. 12. 13. 14. 15. 16. 17. 18.]\n"
          ]
        }
      ],
      "source": [
        "def moving_average(a, n=3) :\n",
        "    ret = np.cumsum(a, dtype=float)\n",
        "    ret[n:] = ret[n:] - ret[:-n]\n",
        "    return ret[n - 1:] / n\n",
        "Z = np.arange(20)\n",
        "print(moving_average(Z, n=3))"
      ]
    },
    {
      "cell_type": "markdown",
      "metadata": {
        "id": "IqhvWf3GdjP1"
      },
      "source": [
        "#### 76. Consider a one-dimensional array Z, build a two-dimensional array whose first row is (Z\\[0\\],Z\\[1\\],Z\\[2\\]) and each subsequent row is  shifted by 1 (last row should be (Z\\[-3\\],Z\\[-2\\],Z\\[-1\\]) (★★★) \n",
        "(**hint**: from numpy.lib import stride_tricks)"
      ]
    },
    {
      "cell_type": "code",
      "execution_count": 8,
      "metadata": {
        "id": "x2Xkxry1djP1",
        "colab": {
          "base_uri": "https://localhost:8080/"
        },
        "outputId": "2e6d88fa-5270-40b2-a54f-7936bc1a6516"
      },
      "outputs": [
        {
          "output_type": "stream",
          "name": "stdout",
          "text": [
            "[[0 1 2]\n",
            " [1 2 3]\n",
            " [2 3 4]\n",
            " [3 4 5]\n",
            " [4 5 6]\n",
            " [5 6 7]\n",
            " [6 7 8]\n",
            " [7 8 9]]\n"
          ]
        }
      ],
      "source": [
        "from numpy.lib import stride_tricks\n",
        "\n",
        "def rolling(a, window):\n",
        "    shape = (a.size - window + 1, window)\n",
        "    strides = (a.strides[0], a.strides[0])\n",
        "    return stride_tricks.as_strided(a, shape=shape, strides=strides)\n",
        "Z = rolling(np.arange(10), 3)\n",
        "print(Z)"
      ]
    },
    {
      "cell_type": "markdown",
      "metadata": {
        "id": "4NiwnWdUdjP2"
      },
      "source": [
        "#### 77. How to negate a boolean, or to change the sign of a float inplace? (★★★) \n",
        "(**hint**: np.logical_not, np.negative)"
      ]
    },
    {
      "cell_type": "code",
      "execution_count": 9,
      "metadata": {
        "id": "eAkFOclUdjP2",
        "colab": {
          "base_uri": "https://localhost:8080/"
        },
        "outputId": "1446b0fc-83db-4d99-973d-bbdff93a5617"
      },
      "outputs": [
        {
          "output_type": "execute_result",
          "data": {
            "text/plain": [
              "array([-2.23454581e-01, -9.64154492e-01, -2.35892240e-02,  9.83149914e-01,\n",
              "        3.20636512e-01,  2.08237177e-01,  2.05969408e-01,  8.98060980e-01,\n",
              "        1.63332280e-02,  7.31405513e-01, -1.37756497e-01,  6.57920785e-01,\n",
              "        9.99266590e-01, -1.65382660e-02,  2.62202563e-01,  2.38620447e-02,\n",
              "       -7.26882776e-04,  8.23225000e-01, -6.07846729e-01,  3.01747682e-01,\n",
              "        2.70715739e-01,  4.93406000e-01,  4.48495777e-01, -2.36291946e-01,\n",
              "        3.10992615e-01, -3.95539661e-02,  1.88403025e-01, -6.40933901e-02,\n",
              "        7.19395134e-01, -5.31154008e-01,  4.66179892e-01,  2.56898103e-01,\n",
              "        1.65089681e-01,  5.09163197e-01, -6.36231394e-01, -5.81105744e-01,\n",
              "       -5.06319973e-01,  8.94007961e-01,  6.98977740e-01, -8.24254805e-01,\n",
              "        4.04500648e-01,  5.66037236e-01, -6.58727917e-01, -7.61421556e-01,\n",
              "        6.00857782e-01, -1.32259871e-02, -3.58223424e-01, -8.92295335e-01,\n",
              "        1.18669012e-01,  5.53248038e-01,  4.72294769e-01,  2.53861572e-01,\n",
              "        9.88368359e-01,  5.21243406e-01,  6.58540969e-02, -3.05444693e-01,\n",
              "        1.72231531e-01,  8.08237194e-01,  3.42003502e-01,  9.03650828e-01,\n",
              "        6.69681679e-01, -5.06948311e-02,  9.94329840e-01,  8.70791320e-01,\n",
              "        3.36901333e-01,  9.79882112e-02,  3.38228519e-01,  8.71181924e-01,\n",
              "       -3.43900886e-01,  2.84410340e-01,  3.41337465e-01, -7.01717877e-02,\n",
              "       -5.19779247e-01, -1.21606766e-01,  2.60031255e-01,  4.11347920e-01,\n",
              "        3.91134082e-01, -1.71199301e-01, -8.11711407e-01, -3.95297165e-01,\n",
              "       -3.80887371e-02,  8.67208876e-02, -1.71207238e-01, -9.09302936e-01,\n",
              "       -2.55408576e-01, -3.01139685e-03,  1.43266721e-01, -2.85201604e-01,\n",
              "        5.74000381e-01,  1.86948994e-01,  1.67578677e-01,  4.86565286e-01,\n",
              "       -2.87160316e-01,  4.35834700e-01,  7.65791425e-01,  2.23539556e-01,\n",
              "       -6.53828799e-01, -2.78338980e-01, -1.97752845e-01, -3.22132484e-01])"
            ]
          },
          "metadata": {},
          "execution_count": 9
        }
      ],
      "source": [
        "Z = np.random.randint(0,2,100)\n",
        "np.logical_not(Z, out=Z)\n",
        "\n",
        "Z = np.random.uniform(-1.0,1.0,100)\n",
        "np.negative(Z, out=Z)"
      ]
    },
    {
      "cell_type": "markdown",
      "metadata": {
        "id": "k9mjvT2IdjP2"
      },
      "source": [
        "#### 78. Consider 2 sets of points P0,P1 describing lines (2d) and a point p, how to compute distance from p to each line i  (P0\\[i\\],P1\\[i\\])? (★★★)"
      ]
    },
    {
      "cell_type": "code",
      "execution_count": 10,
      "metadata": {
        "id": "oYidskR3djP3",
        "colab": {
          "base_uri": "https://localhost:8080/"
        },
        "outputId": "274ceeb7-4028-4ba8-8e46-e8bade83a1f8"
      },
      "outputs": [
        {
          "output_type": "stream",
          "name": "stdout",
          "text": [
            "[0.29956534 2.87286887 3.32828909 3.18570604 4.34493382 3.72590599\n",
            " 6.49928759 8.99275516 1.33977724 0.97401968]\n"
          ]
        }
      ],
      "source": [
        "def distance(P0, P1, p):\n",
        "    T = P1 - P0\n",
        "    L = (T**2).sum(axis=1)\n",
        "    U = -((P0[:,0]-p[...,0])*T[:,0] + (P0[:,1]-p[...,1])*T[:,1]) / L\n",
        "    U = U.reshape(len(U),1)\n",
        "    D = P0 + U*T - p\n",
        "    return np.sqrt((D**2).sum(axis=1))\n",
        "\n",
        "P0 = np.random.uniform(-10,10,(10,2))\n",
        "P1 = np.random.uniform(-10,10,(10,2))\n",
        "p  = np.random.uniform(-10,10,( 1,2))\n",
        "print(distance(P0, P1, p))"
      ]
    },
    {
      "cell_type": "markdown",
      "metadata": {
        "id": "iuB373F6djP3"
      },
      "source": [
        "#### 79. Consider 2 sets of points P0,P1 describing lines (2d) and a set of points P, how to compute distance from each point j (P\\[j\\]) to each line i (P0\\[i\\],P1\\[i\\])? (★★★)"
      ]
    },
    {
      "cell_type": "code",
      "execution_count": 11,
      "metadata": {
        "id": "U5SYg5HPdjP3",
        "colab": {
          "base_uri": "https://localhost:8080/"
        },
        "outputId": "189ee1b9-bb31-4911-a50b-5e5dbf2a38f6"
      },
      "outputs": [
        {
          "output_type": "stream",
          "name": "stdout",
          "text": [
            "[[ 4.49804974  1.45736358  4.2340962   8.05238768  1.80517619  2.85498065\n",
            "   0.31627895  4.11493919  0.45287891  6.42014267]\n",
            " [ 8.88921432  0.53251144  2.98059967  2.82352358  3.2261548   4.24611177\n",
            "   1.30088496  1.39330672  4.84804529  0.71516551]\n",
            " [ 2.09372135  0.74425507  9.94383837 11.29175494  2.0968754   0.26718455\n",
            "   1.95348213  4.96380333  1.95533363 11.96216836]\n",
            " [ 9.60741894  2.24874854  0.36620896  2.7799864   5.76558182  0.53544422\n",
            "   2.27042955  0.43494287  5.56325324  1.64425269]\n",
            " [ 0.66224428  4.40569899  7.44821683 11.95935297  1.3136804   4.84493522\n",
            "   2.49381694  7.6180201   3.38345067  9.78299575]\n",
            " [ 2.51077306  4.39555572  3.86400896  9.64115527  1.04811868  5.99835512\n",
            "   3.44642574  6.67172065  1.53271084  6.27084088]\n",
            " [ 9.15908678  7.06391675  7.4536799   4.82906439  9.92717086  6.9582957\n",
            "   9.33840229  2.73901279  5.10769657  8.95582225]\n",
            " [15.80472981  8.78618403  2.99972418  2.98480623 12.36066695  5.33598399\n",
            "   8.30608287  7.0276117  11.75894813  1.41030205]\n",
            " [ 1.78028703  2.857715    7.50487637 11.03309247  0.19944035  3.23376627\n",
            "   0.88186834  6.23481623  2.26621115  9.72614373]\n",
            " [ 0.12953432  3.79137918  9.37163791 12.81790823  0.84876805  3.58827243\n",
            "   1.34333403  7.56611846  3.91765472 11.62276478]]\n"
          ]
        }
      ],
      "source": [
        "P0 = np.random.uniform(-10, 10, (10,2))\n",
        "P1 = np.random.uniform(-10,10,(10,2))\n",
        "p = np.random.uniform(-10, 10, (10,2))\n",
        "print(np.array([distance(P0,P1,p_i) for p_i in p]))"
      ]
    },
    {
      "cell_type": "markdown",
      "metadata": {
        "id": "gFtbu5vVdjP3"
      },
      "source": [
        "#### 80. Consider an arbitrary array, write a function that extract a subpart with a fixed shape and centered on a given element (pad with a `fill` value when necessary) (★★★) \n",
        "(**hint**: minimum, maximum)"
      ]
    },
    {
      "cell_type": "code",
      "execution_count": 12,
      "metadata": {
        "id": "oIGn8svldjP4",
        "colab": {
          "base_uri": "https://localhost:8080/"
        },
        "outputId": "1a62700e-dc1c-4a26-d5ac-b4376affa99e"
      },
      "outputs": [
        {
          "output_type": "stream",
          "name": "stdout",
          "text": [
            "[[2 6 7 5 6 1 8 7 6 7]\n",
            " [2 4 7 1 2 9 5 2 7 4]\n",
            " [2 3 3 4 9 8 1 8 5 9]\n",
            " [4 2 0 2 3 7 1 5 5 6]\n",
            " [7 2 6 7 0 6 5 7 4 0]\n",
            " [2 1 6 5 7 2 7 3 4 2]\n",
            " [3 1 6 9 3 4 3 0 8 5]\n",
            " [9 1 0 9 8 2 0 9 9 7]\n",
            " [7 2 0 3 0 7 3 5 8 2]\n",
            " [5 9 5 0 0 3 5 8 4 2]]\n",
            "[[0 0 0 0 0]\n",
            " [0 2 6 7 5]\n",
            " [0 2 4 7 1]\n",
            " [0 2 3 3 4]\n",
            " [0 4 2 0 2]]\n"
          ]
        },
        {
          "output_type": "stream",
          "name": "stderr",
          "text": [
            "/usr/local/lib/python3.7/dist-packages/ipykernel_launcher.py:23: FutureWarning: Using a non-tuple sequence for multidimensional indexing is deprecated; use `arr[tuple(seq)]` instead of `arr[seq]`. In the future this will be interpreted as an array index, `arr[np.array(seq)]`, which will result either in an error or a different result.\n"
          ]
        }
      ],
      "source": [
        "Z = np.random.randint(0,10,(10,10))\n",
        "shape = (5,5)\n",
        "fill  = 0\n",
        "position = (1,1)\n",
        "\n",
        "R = np.ones(shape, dtype=Z.dtype)*fill\n",
        "P  = np.array(list(position)).astype(int)\n",
        "Rs = np.array(list(R.shape)).astype(int)\n",
        "Zs = np.array(list(Z.shape)).astype(int)\n",
        "\n",
        "R_start = np.zeros((len(shape),)).astype(int)\n",
        "R_stop  = np.array(list(shape)).astype(int)\n",
        "Z_start = (P-Rs//2)\n",
        "Z_stop  = (P+Rs//2)+Rs%2\n",
        "\n",
        "R_start = (R_start - np.minimum(Z_start,0)).tolist()\n",
        "Z_start = (np.maximum(Z_start,0)).tolist()\n",
        "R_stop = np.maximum(R_start, (R_stop - np.maximum(Z_stop-Zs,0))).tolist()\n",
        "Z_stop = (np.minimum(Z_stop,Zs)).tolist()\n",
        "\n",
        "r = [slice(start,stop) for start,stop in zip(R_start,R_stop)]\n",
        "z = [slice(start,stop) for start,stop in zip(Z_start,Z_stop)]\n",
        "R[r] = Z[z]\n",
        "print(Z)\n",
        "print(R)"
      ]
    },
    {
      "cell_type": "markdown",
      "metadata": {
        "id": "SscH8e9_djP4"
      },
      "source": [
        "#### 81. Consider an array Z = \\[1,2,3,4,5,6,7,8,9,10,11,12,13,14\\], how to generate an array R = \\[\\[1,2,3,4\\], \\[2,3,4,5\\], \\[3,4,5,6\\], ..., \\[11,12,13,14\\]\\]? (★★★) \n",
        "(**hint**: stride\\_tricks.as\\_strided)"
      ]
    },
    {
      "cell_type": "code",
      "execution_count": 13,
      "metadata": {
        "id": "6ag-JAT6djP4",
        "colab": {
          "base_uri": "https://localhost:8080/"
        },
        "outputId": "1529be2e-0230-44fa-a1c8-86d3aa6a3b09"
      },
      "outputs": [
        {
          "output_type": "stream",
          "name": "stdout",
          "text": [
            "[[ 1  2  3  4]\n",
            " [ 2  3  4  5]\n",
            " [ 3  4  5  6]\n",
            " [ 4  5  6  7]\n",
            " [ 5  6  7  8]\n",
            " [ 6  7  8  9]\n",
            " [ 7  8  9 10]\n",
            " [ 8  9 10 11]\n",
            " [ 9 10 11 12]\n",
            " [10 11 12 13]\n",
            " [11 12 13 14]]\n"
          ]
        }
      ],
      "source": [
        "Z = np.arange(1,15,dtype=np.uint32)\n",
        "R = stride_tricks.as_strided(Z,(11,4),(4,4))\n",
        "print(R)"
      ]
    },
    {
      "cell_type": "markdown",
      "metadata": {
        "id": "wvICX0BmdjP5"
      },
      "source": [
        "#### 82. Compute a matrix rank (★★★) \n",
        "(**hint**: np.linalg.svd) (suggestion: np.linalg.svd)"
      ]
    },
    {
      "cell_type": "code",
      "execution_count": 14,
      "metadata": {
        "id": "fRqC5Pi0djP5",
        "colab": {
          "base_uri": "https://localhost:8080/"
        },
        "outputId": "e0f79921-4a72-41c0-f612-d86f86978016"
      },
      "outputs": [
        {
          "output_type": "stream",
          "name": "stdout",
          "text": [
            "10\n"
          ]
        }
      ],
      "source": [
        "Z = np.random.uniform(0,1,(10,10))\n",
        "U, S, V = np.linalg.svd(Z) # Singular Value Decomposition\n",
        "rank = np.sum(S > 1e-10)\n",
        "print(rank)"
      ]
    },
    {
      "cell_type": "markdown",
      "metadata": {
        "id": "3NcLIj1qdjP5"
      },
      "source": [
        "#### 83. How to find the most frequent value in an array? \n",
        "(**hint**: np.bincount, argmax)"
      ]
    },
    {
      "cell_type": "code",
      "execution_count": 15,
      "metadata": {
        "id": "55W3cpXidjP6",
        "colab": {
          "base_uri": "https://localhost:8080/"
        },
        "outputId": "fdc0f184-a348-4994-bf74-0989193c6b9e"
      },
      "outputs": [
        {
          "output_type": "stream",
          "name": "stdout",
          "text": [
            "6\n"
          ]
        }
      ],
      "source": [
        "Z = np.random.randint(0,10,50)\n",
        "print(np.bincount(Z).argmax())"
      ]
    },
    {
      "cell_type": "markdown",
      "metadata": {
        "id": "YcROckcfdjP6"
      },
      "source": [
        "#### 84. Extract all the contiguous 3x3 blocks from a random 10x10 matrix (★★★) \n",
        "(**hint**: stride\\_tricks.as\\_strided)"
      ]
    },
    {
      "cell_type": "code",
      "execution_count": 16,
      "metadata": {
        "id": "DHsJ90v6djP7",
        "colab": {
          "base_uri": "https://localhost:8080/"
        },
        "outputId": "b19c830a-e931-4f49-fe02-dc22c526ea18"
      },
      "outputs": [
        {
          "output_type": "stream",
          "name": "stdout",
          "text": [
            "[[[[3 2 3]\n",
            "   [1 2 3]\n",
            "   [3 4 3]]\n",
            "\n",
            "  [[2 3 2]\n",
            "   [2 3 2]\n",
            "   [4 3 1]]\n",
            "\n",
            "  [[3 2 1]\n",
            "   [3 2 4]\n",
            "   [3 1 2]]\n",
            "\n",
            "  [[2 1 3]\n",
            "   [2 4 3]\n",
            "   [1 2 3]]\n",
            "\n",
            "  [[1 3 4]\n",
            "   [4 3 4]\n",
            "   [2 3 0]]\n",
            "\n",
            "  [[3 4 4]\n",
            "   [3 4 1]\n",
            "   [3 0 2]]\n",
            "\n",
            "  [[4 4 0]\n",
            "   [4 1 1]\n",
            "   [0 2 4]]\n",
            "\n",
            "  [[4 0 2]\n",
            "   [1 1 1]\n",
            "   [2 4 4]]]\n",
            "\n",
            "\n",
            " [[[1 2 3]\n",
            "   [3 4 3]\n",
            "   [2 2 2]]\n",
            "\n",
            "  [[2 3 2]\n",
            "   [4 3 1]\n",
            "   [2 2 1]]\n",
            "\n",
            "  [[3 2 4]\n",
            "   [3 1 2]\n",
            "   [2 1 0]]\n",
            "\n",
            "  [[2 4 3]\n",
            "   [1 2 3]\n",
            "   [1 0 0]]\n",
            "\n",
            "  [[4 3 4]\n",
            "   [2 3 0]\n",
            "   [0 0 2]]\n",
            "\n",
            "  [[3 4 1]\n",
            "   [3 0 2]\n",
            "   [0 2 1]]\n",
            "\n",
            "  [[4 1 1]\n",
            "   [0 2 4]\n",
            "   [2 1 3]]\n",
            "\n",
            "  [[1 1 1]\n",
            "   [2 4 4]\n",
            "   [1 3 1]]]\n",
            "\n",
            "\n",
            " [[[3 4 3]\n",
            "   [2 2 2]\n",
            "   [2 4 1]]\n",
            "\n",
            "  [[4 3 1]\n",
            "   [2 2 1]\n",
            "   [4 1 1]]\n",
            "\n",
            "  [[3 1 2]\n",
            "   [2 1 0]\n",
            "   [1 1 3]]\n",
            "\n",
            "  [[1 2 3]\n",
            "   [1 0 0]\n",
            "   [1 3 1]]\n",
            "\n",
            "  [[2 3 0]\n",
            "   [0 0 2]\n",
            "   [3 1 0]]\n",
            "\n",
            "  [[3 0 2]\n",
            "   [0 2 1]\n",
            "   [1 0 3]]\n",
            "\n",
            "  [[0 2 4]\n",
            "   [2 1 3]\n",
            "   [0 3 2]]\n",
            "\n",
            "  [[2 4 4]\n",
            "   [1 3 1]\n",
            "   [3 2 2]]]\n",
            "\n",
            "\n",
            " [[[2 2 2]\n",
            "   [2 4 1]\n",
            "   [3 3 2]]\n",
            "\n",
            "  [[2 2 1]\n",
            "   [4 1 1]\n",
            "   [3 2 3]]\n",
            "\n",
            "  [[2 1 0]\n",
            "   [1 1 3]\n",
            "   [2 3 2]]\n",
            "\n",
            "  [[1 0 0]\n",
            "   [1 3 1]\n",
            "   [3 2 2]]\n",
            "\n",
            "  [[0 0 2]\n",
            "   [3 1 0]\n",
            "   [2 2 1]]\n",
            "\n",
            "  [[0 2 1]\n",
            "   [1 0 3]\n",
            "   [2 1 4]]\n",
            "\n",
            "  [[2 1 3]\n",
            "   [0 3 2]\n",
            "   [1 4 2]]\n",
            "\n",
            "  [[1 3 1]\n",
            "   [3 2 2]\n",
            "   [4 2 2]]]\n",
            "\n",
            "\n",
            " [[[2 4 1]\n",
            "   [3 3 2]\n",
            "   [0 2 3]]\n",
            "\n",
            "  [[4 1 1]\n",
            "   [3 2 3]\n",
            "   [2 3 0]]\n",
            "\n",
            "  [[1 1 3]\n",
            "   [2 3 2]\n",
            "   [3 0 0]]\n",
            "\n",
            "  [[1 3 1]\n",
            "   [3 2 2]\n",
            "   [0 0 0]]\n",
            "\n",
            "  [[3 1 0]\n",
            "   [2 2 1]\n",
            "   [0 0 3]]\n",
            "\n",
            "  [[1 0 3]\n",
            "   [2 1 4]\n",
            "   [0 3 1]]\n",
            "\n",
            "  [[0 3 2]\n",
            "   [1 4 2]\n",
            "   [3 1 0]]\n",
            "\n",
            "  [[3 2 2]\n",
            "   [4 2 2]\n",
            "   [1 0 0]]]\n",
            "\n",
            "\n",
            " [[[3 3 2]\n",
            "   [0 2 3]\n",
            "   [1 4 0]]\n",
            "\n",
            "  [[3 2 3]\n",
            "   [2 3 0]\n",
            "   [4 0 4]]\n",
            "\n",
            "  [[2 3 2]\n",
            "   [3 0 0]\n",
            "   [0 4 4]]\n",
            "\n",
            "  [[3 2 2]\n",
            "   [0 0 0]\n",
            "   [4 4 3]]\n",
            "\n",
            "  [[2 2 1]\n",
            "   [0 0 3]\n",
            "   [4 3 1]]\n",
            "\n",
            "  [[2 1 4]\n",
            "   [0 3 1]\n",
            "   [3 1 2]]\n",
            "\n",
            "  [[1 4 2]\n",
            "   [3 1 0]\n",
            "   [1 2 0]]\n",
            "\n",
            "  [[4 2 2]\n",
            "   [1 0 0]\n",
            "   [2 0 2]]]\n",
            "\n",
            "\n",
            " [[[0 2 3]\n",
            "   [1 4 0]\n",
            "   [4 4 1]]\n",
            "\n",
            "  [[2 3 0]\n",
            "   [4 0 4]\n",
            "   [4 1 3]]\n",
            "\n",
            "  [[3 0 0]\n",
            "   [0 4 4]\n",
            "   [1 3 3]]\n",
            "\n",
            "  [[0 0 0]\n",
            "   [4 4 3]\n",
            "   [3 3 1]]\n",
            "\n",
            "  [[0 0 3]\n",
            "   [4 3 1]\n",
            "   [3 1 1]]\n",
            "\n",
            "  [[0 3 1]\n",
            "   [3 1 2]\n",
            "   [1 1 2]]\n",
            "\n",
            "  [[3 1 0]\n",
            "   [1 2 0]\n",
            "   [1 2 4]]\n",
            "\n",
            "  [[1 0 0]\n",
            "   [2 0 2]\n",
            "   [2 4 1]]]\n",
            "\n",
            "\n",
            " [[[1 4 0]\n",
            "   [4 4 1]\n",
            "   [3 4 2]]\n",
            "\n",
            "  [[4 0 4]\n",
            "   [4 1 3]\n",
            "   [4 2 3]]\n",
            "\n",
            "  [[0 4 4]\n",
            "   [1 3 3]\n",
            "   [2 3 1]]\n",
            "\n",
            "  [[4 4 3]\n",
            "   [3 3 1]\n",
            "   [3 1 3]]\n",
            "\n",
            "  [[4 3 1]\n",
            "   [3 1 1]\n",
            "   [1 3 4]]\n",
            "\n",
            "  [[3 1 2]\n",
            "   [1 1 2]\n",
            "   [3 4 3]]\n",
            "\n",
            "  [[1 2 0]\n",
            "   [1 2 4]\n",
            "   [4 3 0]]\n",
            "\n",
            "  [[2 0 2]\n",
            "   [2 4 1]\n",
            "   [3 0 3]]]]\n"
          ]
        }
      ],
      "source": [
        "Z = np.random.randint(0,5,(10,10))\n",
        "n = 3\n",
        "i = 1 + (Z.shape[0]-3)\n",
        "j = 1 + (Z.shape[1]-3)\n",
        "C = stride_tricks.as_strided(Z, shape=(i, j, n, n), strides=Z.strides + Z.strides)\n",
        "print(C)"
      ]
    },
    {
      "cell_type": "markdown",
      "metadata": {
        "id": "mxa1-59QdjP7"
      },
      "source": [
        "#### 85. Create a 2D array subclass such that Z\\[i,j\\] == Z\\[j,i\\] (★★★) \n",
        "(**hint**: class method)"
      ]
    },
    {
      "cell_type": "code",
      "execution_count": 17,
      "metadata": {
        "id": "PXMYEL3WdjP7",
        "colab": {
          "base_uri": "https://localhost:8080/"
        },
        "outputId": "06d8af7c-85cd-4f79-e184-e10392622e67"
      },
      "outputs": [
        {
          "output_type": "stream",
          "name": "stdout",
          "text": [
            "[[ 8 10 17 10  8]\n",
            " [10  3  4  9 14]\n",
            " [17  4  5 42 15]\n",
            " [10  9 42  3  3]\n",
            " [ 8 14 15  3  3]]\n"
          ]
        }
      ],
      "source": [
        "class Symetric(np.ndarray):\n",
        "    def __setitem__(self, index, value):\n",
        "        i,j = index\n",
        "        super(Symetric, self).__setitem__((i,j), value)\n",
        "        super(Symetric, self).__setitem__((j,i), value)\n",
        "\n",
        "def symetric(Z):\n",
        "    return np.asarray(Z + Z.T - np.diag(Z.diagonal())).view(Symetric)\n",
        "\n",
        "S = symetric(np.random.randint(0,10,(5,5)))\n",
        "S[2,3] = 42\n",
        "print(S)"
      ]
    },
    {
      "cell_type": "markdown",
      "metadata": {
        "id": "ikcQNAS3djP8"
      },
      "source": [
        "#### 86. Consider a set of p matrices wich shape (n,n) and a set of p vectors with shape (n,1). How to compute the sum of of the p matrix products at once? (result has shape (n,1)) (★★★) \n",
        "(**hint**: np.tensordot)"
      ]
    },
    {
      "cell_type": "code",
      "execution_count": 18,
      "metadata": {
        "id": "Ske6TV3xdjP8",
        "colab": {
          "base_uri": "https://localhost:8080/"
        },
        "outputId": "52e5f705-3299-4bbe-bd9d-9eaa61b3d729"
      },
      "outputs": [
        {
          "output_type": "stream",
          "name": "stdout",
          "text": [
            "[[200.]\n",
            " [200.]\n",
            " [200.]\n",
            " [200.]\n",
            " [200.]\n",
            " [200.]\n",
            " [200.]\n",
            " [200.]\n",
            " [200.]\n",
            " [200.]\n",
            " [200.]\n",
            " [200.]\n",
            " [200.]\n",
            " [200.]\n",
            " [200.]\n",
            " [200.]\n",
            " [200.]\n",
            " [200.]\n",
            " [200.]\n",
            " [200.]]\n"
          ]
        }
      ],
      "source": [
        "p, n = 10, 20\n",
        "M = np.ones((p,n,n))\n",
        "V = np.ones((p,n,1))\n",
        "S = np.tensordot(M, V, axes=[[0, 2], [0, 1]])\n",
        "print(S)"
      ]
    },
    {
      "cell_type": "markdown",
      "metadata": {
        "id": "zjdmoJ_idjP8"
      },
      "source": [
        "#### 87. Consider a 16x16 array, how to get the block-sum (block size is 4x4)? (★★★) \n",
        "(**hint**: np.add.reduceat)"
      ]
    },
    {
      "cell_type": "code",
      "execution_count": 19,
      "metadata": {
        "id": "EXySQJYsdjP9",
        "colab": {
          "base_uri": "https://localhost:8080/"
        },
        "outputId": "3144abe9-aa14-474d-c12f-9f40aef016b0"
      },
      "outputs": [
        {
          "output_type": "stream",
          "name": "stdout",
          "text": [
            "[[16. 16. 16. 16.]\n",
            " [16. 16. 16. 16.]\n",
            " [16. 16. 16. 16.]\n",
            " [16. 16. 16. 16.]]\n"
          ]
        }
      ],
      "source": [
        "Z = np.ones((16,16))\n",
        "k = 4\n",
        "S = np.add.reduceat(np.add.reduceat(Z, np.arange(0, Z.shape[0], k), axis=0),\n",
        "                                       np.arange(0, Z.shape[1], k), axis=1)\n",
        "print(S)"
      ]
    },
    {
      "cell_type": "markdown",
      "metadata": {
        "id": "dDke9d_VdjP9"
      },
      "source": [
        "#### 88. How to implement the Game of Life using numpy arrays? (★★★)"
      ]
    },
    {
      "cell_type": "code",
      "execution_count": 20,
      "metadata": {
        "id": "gU-_ZqvWdjP9",
        "colab": {
          "base_uri": "https://localhost:8080/"
        },
        "outputId": "f6179bf9-3396-4845-8e4b-548f1d989b9f"
      },
      "outputs": [
        {
          "output_type": "stream",
          "name": "stdout",
          "text": [
            "[[0 0 0 ... 0 0 0]\n",
            " [0 0 0 ... 0 0 0]\n",
            " [0 0 1 ... 0 0 0]\n",
            " ...\n",
            " [0 0 0 ... 0 0 0]\n",
            " [0 0 0 ... 0 0 0]\n",
            " [0 0 0 ... 0 0 0]]\n"
          ]
        }
      ],
      "source": [
        "def iterate(Z):\n",
        "    \n",
        "    N = (Z[0:-2,0:-2] + Z[0:-2,1:-1] + Z[0:-2,2:] +\n",
        "         Z[1:-1,0:-2]                + Z[1:-1,2:] +\n",
        "         Z[2:  ,0:-2] + Z[2:  ,1:-1] + Z[2:  ,2:])\n",
        "\n",
        "    birth = (N==3) & (Z[1:-1,1:-1]==0)\n",
        "    survive = ((N==2) | (N==3)) & (Z[1:-1,1:-1]==1)\n",
        "    Z[...] = 0\n",
        "    Z[1:-1,1:-1][birth | survive] = 1\n",
        "    return Z\n",
        "\n",
        "Z = np.random.randint(0,2,(50,50))\n",
        "for i in range(100): Z = iterate(Z)\n",
        "print(Z)"
      ]
    },
    {
      "cell_type": "markdown",
      "metadata": {
        "id": "Gqy5Cc-1djP-"
      },
      "source": [
        "#### 89. How to get the n largest values of an array (★★★) \n",
        "(**hint**: np.argsort | np.argpartition)"
      ]
    },
    {
      "cell_type": "code",
      "execution_count": 22,
      "metadata": {
        "id": "elVJEjG-djP-",
        "colab": {
          "base_uri": "https://localhost:8080/"
        },
        "outputId": "d2de4880-21e1-43d1-e6ef-3f2e7777485c"
      },
      "outputs": [
        {
          "output_type": "stream",
          "name": "stdout",
          "text": [
            "[9995 9996 9997 9998 9999]\n",
            "[9999 9997 9996 9998 9995]\n"
          ]
        }
      ],
      "source": [
        "Z = np.arange(10000)\n",
        "np.random.shuffle(Z)\n",
        "n = 5\n",
        "\n",
        "\n",
        "print (Z[np.argsort(Z)[-n:]])\n",
        "print (Z[np.argpartition(-Z,n)[:n]])"
      ]
    },
    {
      "cell_type": "markdown",
      "metadata": {
        "id": "_LBs9HI6djP_"
      },
      "source": [
        "#### 90. Given an arbitrary number of vectors, build the cartesian product (every combinations of every item) (★★★) \n",
        "(**hint**: np.indices)"
      ]
    },
    {
      "cell_type": "code",
      "execution_count": 23,
      "metadata": {
        "scrolled": true,
        "id": "h2f-2URhdjQA",
        "colab": {
          "base_uri": "https://localhost:8080/"
        },
        "outputId": "8e510005-4422-4150-99bf-da55d72fc9e8"
      },
      "outputs": [
        {
          "output_type": "stream",
          "name": "stdout",
          "text": [
            "[[1 4 6]\n",
            " [1 4 7]\n",
            " [1 5 6]\n",
            " [1 5 7]\n",
            " [2 4 6]\n",
            " [2 4 7]\n",
            " [2 5 6]\n",
            " [2 5 7]\n",
            " [3 4 6]\n",
            " [3 4 7]\n",
            " [3 5 6]\n",
            " [3 5 7]]\n"
          ]
        }
      ],
      "source": [
        "def cartesian(arrays):\n",
        "    arrays = [np.asarray(a) for a in arrays]\n",
        "    shape = (len(x) for x in arrays)\n",
        "\n",
        "    ix = np.indices(shape, dtype=int)\n",
        "    ix = ix.reshape(len(arrays), -1).T\n",
        "\n",
        "    for n, arr in enumerate(arrays):\n",
        "        ix[:, n] = arrays[n][ix[:, n]]\n",
        "\n",
        "    return ix\n",
        "\n",
        "print (cartesian(([1, 2, 3], [4, 5], [6, 7])))"
      ]
    },
    {
      "cell_type": "markdown",
      "metadata": {
        "id": "gH90BIicdjQA"
      },
      "source": [
        "#### 91. How to create a record array from a regular array? (★★★) \n",
        "(**hint**: np.core.records.fromarrays)"
      ]
    },
    {
      "cell_type": "code",
      "execution_count": 24,
      "metadata": {
        "id": "sQa3Ky2sdjQB",
        "colab": {
          "base_uri": "https://localhost:8080/"
        },
        "outputId": "785a30bc-a40e-4cd5-da8c-5dbc29221a96"
      },
      "outputs": [
        {
          "output_type": "stream",
          "name": "stdout",
          "text": [
            "[(b'Hello', 2.5, 3) (b'World', 3.6, 2)]\n"
          ]
        }
      ],
      "source": [
        "Z = np.array([(\"Hello\", 2.5, 3),\n",
        "              (\"World\", 3.6, 2)])\n",
        "R = np.core.records.fromarrays(Z.T,\n",
        "                               names='col1, col2, col3',\n",
        "                               formats = 'S8, f8, i8')\n",
        "print(R)"
      ]
    },
    {
      "cell_type": "markdown",
      "metadata": {
        "id": "PH-4QSaEdjQB"
      },
      "source": [
        "#### 92. Consider a large vector Z, compute Z to the power of 3 using 3 different methods (★★★) \n",
        "(**hint**: np.power, \\*, np.einsum)"
      ]
    },
    {
      "cell_type": "code",
      "execution_count": 34,
      "metadata": {
        "id": "3sbJx8aXdjQB",
        "colab": {
          "base_uri": "https://localhost:8080/"
        },
        "outputId": "f90f917b-a385-49ea-d499-7d6b9552f2b7"
      },
      "outputs": [
        {
          "output_type": "stream",
          "name": "stdout",
          "text": [
            "1 loop, best of 5: 3.74 s per loop\n",
            "10 loops, best of 5: 137 ms per loop\n",
            "10 loops, best of 5: 128 ms per loop\n"
          ]
        }
      ],
      "source": [
        "x = np.random.rand(int(5e7))\n",
        "\n",
        "%timeit np.power(x,3)\n",
        "%timeit x*x*x\n",
        "%timeit np.einsum('i,i,i->i',x,x,x)"
      ]
    },
    {
      "cell_type": "markdown",
      "metadata": {
        "id": "45n2c3DrdjQC"
      },
      "source": [
        "#### 93. Consider two arrays A and B of shape (8,3) and (2,2). How to find rows of A that contain elements of each row of B regardless of the order of the elements in B? (★★★) \n",
        "(**hint**: np.where)"
      ]
    },
    {
      "cell_type": "code",
      "execution_count": 26,
      "metadata": {
        "id": "jvep9HvDdjQC",
        "colab": {
          "base_uri": "https://localhost:8080/"
        },
        "outputId": "b95dd50e-0fd5-4091-9566-be61504028b3"
      },
      "outputs": [
        {
          "output_type": "stream",
          "name": "stdout",
          "text": [
            "[0 2 3 4]\n"
          ]
        }
      ],
      "source": [
        "A = np.random.randint(0,5,(8,3))\n",
        "B = np.random.randint(0,5,(2,2))\n",
        "\n",
        "C = (A[..., np.newaxis, np.newaxis] == B)\n",
        "rows = np.where(C.any((3,1)).all(1))[0]\n",
        "print(rows)"
      ]
    },
    {
      "cell_type": "markdown",
      "metadata": {
        "id": "Uat6xLhgdjQC"
      },
      "source": [
        "#### 94. Considering a 10x3 matrix, extract rows with unequal values (e.g. \\[2,2,3\\]) (★★★)"
      ]
    },
    {
      "cell_type": "code",
      "execution_count": 27,
      "metadata": {
        "id": "QEu8WpA3djQC",
        "colab": {
          "base_uri": "https://localhost:8080/"
        },
        "outputId": "4b25242e-a58c-4a72-a446-ae3c8907cf14"
      },
      "outputs": [
        {
          "output_type": "stream",
          "name": "stdout",
          "text": [
            "[[3 3 4]\n",
            " [4 2 1]\n",
            " [2 3 2]\n",
            " [3 3 4]\n",
            " [2 2 0]\n",
            " [0 3 1]\n",
            " [1 1 3]\n",
            " [4 3 1]\n",
            " [2 1 3]\n",
            " [2 2 4]]\n",
            "[[3 3 4]\n",
            " [4 2 1]\n",
            " [2 3 2]\n",
            " [3 3 4]\n",
            " [2 2 0]\n",
            " [0 3 1]\n",
            " [1 1 3]\n",
            " [4 3 1]\n",
            " [2 1 3]\n",
            " [2 2 4]]\n",
            "[[3 3 4]\n",
            " [4 2 1]\n",
            " [2 3 2]\n",
            " [3 3 4]\n",
            " [2 2 0]\n",
            " [0 3 1]\n",
            " [1 1 3]\n",
            " [4 3 1]\n",
            " [2 1 3]\n",
            " [2 2 4]]\n"
          ]
        }
      ],
      "source": [
        "Z = np.random.randint(0,5,(10,3))\n",
        "print(Z)\n",
        "\n",
        "E = np.all(Z[:,1:] == Z[:,:-1], axis=1)\n",
        "U = Z[~E]\n",
        "print(U)\n",
        "\n",
        "U = Z[Z.max(axis=1) != Z.min(axis=1),:]\n",
        "print(U)"
      ]
    },
    {
      "cell_type": "markdown",
      "metadata": {
        "id": "dcHZVCSwdjQD"
      },
      "source": [
        "#### 95. Convert a vector of ints into a matrix binary representation (★★★) \n",
        "(**hint**: np.unpackbits)"
      ]
    },
    {
      "cell_type": "code",
      "execution_count": 28,
      "metadata": {
        "id": "9KktQM0LdjQD",
        "colab": {
          "base_uri": "https://localhost:8080/"
        },
        "outputId": "2329f9f2-7aab-4f40-a4ef-612eb97af28b"
      },
      "outputs": [
        {
          "output_type": "stream",
          "name": "stdout",
          "text": [
            "[[0 0 0 0 0 0 0 0]\n",
            " [0 0 0 0 0 0 0 1]\n",
            " [0 0 0 0 0 0 1 0]\n",
            " [0 0 0 0 0 0 1 1]\n",
            " [0 0 0 0 1 1 1 1]\n",
            " [0 0 0 1 0 0 0 0]\n",
            " [0 0 1 0 0 0 0 0]\n",
            " [0 1 0 0 0 0 0 0]\n",
            " [1 0 0 0 0 0 0 0]]\n"
          ]
        }
      ],
      "source": [
        "I = np.array([0, 1, 2, 3, 15, 16, 32, 64, 128])\n",
        "B = ((I.reshape(-1,1) & (2**np.arange(8))) != 0).astype(int)\n",
        "print(B[:,::-1])"
      ]
    },
    {
      "cell_type": "markdown",
      "metadata": {
        "id": "xR0RBRvFdjQD"
      },
      "source": [
        "#### 96. Given a two dimensional array, how to extract unique rows? (★★★) \n",
        "(**hint**: np.ascontiguousarray)"
      ]
    },
    {
      "cell_type": "code",
      "execution_count": 29,
      "metadata": {
        "id": "nQxVc5GQdjQD",
        "colab": {
          "base_uri": "https://localhost:8080/"
        },
        "outputId": "70516db2-1e37-4584-addd-e2a631865dc5"
      },
      "outputs": [
        {
          "output_type": "stream",
          "name": "stdout",
          "text": [
            "[[0 0 1]\n",
            " [0 1 0]\n",
            " [0 1 1]\n",
            " [1 0 0]\n",
            " [1 1 1]]\n"
          ]
        }
      ],
      "source": [
        "Z = np.random.randint(0,2,(6,3))\n",
        "T = np.ascontiguousarray(Z).view(np.dtype((np.void, Z.dtype.itemsize * Z.shape[1])))\n",
        "_, idx = np.unique(T, return_index=True)\n",
        "uZ = Z[idx]\n",
        "print(uZ)"
      ]
    },
    {
      "cell_type": "markdown",
      "metadata": {
        "id": "O_hg1gzCdjQE"
      },
      "source": [
        "#### 97. Considering 2 vectors A & B, write the einsum equivalent of inner, outer, sum, and mul function (★★★) \n",
        "(**hint**: np.einsum)"
      ]
    },
    {
      "cell_type": "code",
      "execution_count": 30,
      "metadata": {
        "id": "ml64nj-ydjQE",
        "colab": {
          "base_uri": "https://localhost:8080/"
        },
        "outputId": "a08e816b-d91f-4bd7-c7b6-5a784de6ad09"
      },
      "outputs": [
        {
          "output_type": "execute_result",
          "data": {
            "text/plain": [
              "array([[5.16458521e-03, 2.86851911e-01, 5.62738029e-01, 1.93821581e-03,\n",
              "        1.53176869e-01, 4.84415564e-01, 2.98244885e-01, 2.17796798e-01,\n",
              "        4.29338309e-02, 5.42403326e-01],\n",
              "       [6.31240432e-03, 3.50604195e-01, 6.87805471e-01, 2.36898053e-03,\n",
              "        1.87220133e-01, 5.92075988e-01, 3.64529236e-01, 2.66201716e-01,\n",
              "        5.24757920e-02, 6.62951419e-01],\n",
              "       [4.37469877e-03, 2.42979958e-01, 4.76671264e-01, 1.64177954e-03,\n",
              "        1.29749561e-01, 4.10327661e-01, 2.52630459e-01, 1.84486332e-01,\n",
              "        3.63674079e-02, 4.59446609e-01],\n",
              "       [4.03776072e-03, 2.24265712e-01, 4.39958180e-01, 1.51533015e-03,\n",
              "        1.19756287e-01, 3.78724342e-01, 2.33172933e-01, 1.70277248e-01,\n",
              "        3.35664005e-02, 4.24060162e-01],\n",
              "       [4.06271770e-03, 2.25651875e-01, 4.42677516e-01, 1.52469625e-03,\n",
              "        1.20496488e-01, 3.81065198e-01, 2.34614151e-01, 1.71329714e-01,\n",
              "        3.37738710e-02, 4.26681235e-01],\n",
              "       [1.57943746e-04, 8.77252742e-03, 1.72096981e-02, 5.92746665e-05,\n",
              "        4.68446692e-03, 1.48144344e-02, 9.12094825e-03, 6.66067859e-03,\n",
              "        1.31300575e-03, 1.65878206e-02],\n",
              "       [6.61844449e-03, 3.67602309e-01, 7.21151894e-01, 2.48383427e-03,\n",
              "        1.96297005e-01, 6.20781222e-01, 3.82202468e-01, 2.79107800e-01,\n",
              "        5.50199415e-02, 6.95092859e-01],\n",
              "       [6.51946167e-04, 3.62104595e-02, 7.10366634e-02, 2.44668704e-04,\n",
              "        1.93361265e-02, 6.11497065e-02, 3.76486401e-02, 2.74933575e-02,\n",
              "        5.41970852e-03, 6.84697328e-02],\n",
              "       [2.72704259e-03, 1.51465674e-01, 2.97141108e-01, 1.02343109e-03,\n",
              "        8.08815867e-02, 2.55784699e-01, 1.57481476e-01, 1.15002681e-01,\n",
              "        2.26702398e-02, 2.86403827e-01],\n",
              "       [6.35174352e-03, 3.52789176e-01, 6.92091907e-01, 2.38374413e-03,\n",
              "        1.88386898e-01, 5.95765834e-01, 3.66800999e-01, 2.67860698e-01,\n",
              "        5.28028236e-02, 6.67082963e-01]])"
            ]
          },
          "metadata": {},
          "execution_count": 30
        }
      ],
      "source": [
        "A = np.random.uniform(0,1,10)\n",
        "B = np.random.uniform(0,1,10)\n",
        "\n",
        "np.einsum('i->', A)       \n",
        "np.einsum('i,i->i', A, B) \n",
        "np.einsum('i,i', A, B)    \n",
        "np.einsum('i,j->ij', A, B)    "
      ]
    },
    {
      "cell_type": "markdown",
      "metadata": {
        "id": "EslOvK_CdjQE"
      },
      "source": [
        "#### 98. Considering a path described by two vectors (X,Y), how to sample it using equidistant samples (★★★)? \n",
        "(**hint**: np.cumsum, np.interp)"
      ]
    },
    {
      "cell_type": "code",
      "execution_count": 33,
      "metadata": {
        "collapsed": true,
        "id": "sZnHi_KkdjQE"
      },
      "outputs": [],
      "source": [
        "phi = np.arange(0, 10*np.pi, 0.1)\n",
        "a = 1\n",
        "x = a*phi*np.cos(phi)\n",
        "y = a*phi*np.sin(phi)\n",
        "\n",
        "dr = (np.diff(x)**2 + np.diff(y)**2)**.5 \n",
        "r = np.zeros_like(x)\n",
        "r[1:] = np.cumsum(dr)                \n",
        "r_int = np.linspace(0, r.max(), 200)\n",
        "x_int = np.interp(r_int, r, x)       \n",
        "y_int = np.interp(r_int, r, y)"
      ]
    },
    {
      "cell_type": "markdown",
      "metadata": {
        "id": "AaOfjMMedjQE"
      },
      "source": [
        "#### 99. Given an integer n and a 2D array X, select from X the rows which can be interpreted as draws from a multinomial distribution with n degrees, i.e., the rows which only contain integers and which sum to n. (★★★) \n",
        "(**hint**: np.logical\\_and.reduce, np.mod)"
      ]
    },
    {
      "cell_type": "code",
      "execution_count": 32,
      "metadata": {
        "id": "eeyLYoz1djQE",
        "colab": {
          "base_uri": "https://localhost:8080/"
        },
        "outputId": "495177d4-2a29-48be-d54b-de22b1d46201"
      },
      "outputs": [
        {
          "output_type": "stream",
          "name": "stdout",
          "text": [
            "[[2. 0. 1. 1.]]\n"
          ]
        }
      ],
      "source": [
        "X = np.asarray([[1.0, 0.0, 3.0, 8.0],\n",
        "                [2.0, 0.0, 1.0, 1.0],\n",
        "                [1.5, 2.5, 1.0, 0.0]])\n",
        "n = 4\n",
        "M = np.logical_and.reduce(np.mod(X, 1) == 0, axis=-1)\n",
        "M &= (X.sum(axis=-1) == n)\n",
        "print(X[M])"
      ]
    },
    {
      "cell_type": "markdown",
      "metadata": {
        "id": "KyoGZAAndjQF"
      },
      "source": [
        "#### 100. Compute bootstrapped 95% confidence intervals for the mean of a 1D array X (i.e., resample the elements of an array with replacement N times, compute the mean of each sample, and then compute percentiles over the means). (★★★) \n",
        "(**hint**: np.percentile)"
      ]
    },
    {
      "cell_type": "code",
      "execution_count": 31,
      "metadata": {
        "id": "uRwhG4ZfdjQF",
        "colab": {
          "base_uri": "https://localhost:8080/"
        },
        "outputId": "328bb529-907c-490f-b2e1-8bc4d4f387e3"
      },
      "outputs": [
        {
          "output_type": "stream",
          "name": "stdout",
          "text": [
            "[-0.00289832  0.36399858]\n"
          ]
        }
      ],
      "source": [
        "X = np.random.randn(100) # random 1D array\n",
        "N = 1000 # number of bootstrap samples\n",
        "idx = np.random.randint(0, X.size, (N, X.size))\n",
        "means = X[idx].mean(axis=1)\n",
        "confint = np.percentile(means, [2.5, 97.5])\n",
        "print(confint)"
      ]
    }
  ],
  "metadata": {
    "kernelspec": {
      "display_name": "Python 3",
      "language": "python",
      "name": "python3"
    },
    "language_info": {
      "codemirror_mode": {
        "name": "ipython",
        "version": 3
      },
      "file_extension": ".py",
      "mimetype": "text/x-python",
      "name": "python",
      "nbconvert_exporter": "python",
      "pygments_lexer": "ipython3",
      "version": "3.8.3"
    },
    "colab": {
      "name": "Numpy_task(task 2).ipynb",
      "provenance": [],
      "collapsed_sections": []
    }
  },
  "nbformat": 4,
  "nbformat_minor": 0
}